{
 "cells": [
  {
   "cell_type": "markdown",
   "id": "6a585626",
   "metadata": {},
   "source": [
    "# Basketball Fantasy League Recommender System\n",
    "\n",
    "This Jupyter notebook is part of a comprehensive educational project that demonstrates the integration of data engineering and machine learning concepts. The project showcases three key components: API development, ETL (Extract, Transform, Load) processes, and recommender systems. Specifically, we leverage a custom-built BasketballAPI that generates fictional basketball player data and statistics across multiple seasons by simulating the `nba_api` which is an API Client for www.nba.com. This data is then processed through a Python-based ETL pipeline that cleanly transforms and stores the information in a CSV format. Ultimately, we use different type of recommender systems to solve a fictional fantasy league problem.\n",
    "\n",
    "The project follows the CRISP-DM (Cross-Industry Standard Process for Data Mining) methodology, which provides a structured approach through six key phases:\n",
    "1. **Business Understanding**: Defining the need for a fantasy basketball recommender system\n",
    "2. **Data Understanding**: Analyzing the BasketballAPI data structure and statistical patterns\n",
    "3. **Data Preparation**: ETL processes to clean and transform the raw API data\n",
    "4. **Modeling**: Implementing various recommender system algorithms\n",
    "5. **Evaluation**: Testing the recommendations' accuracy and relevance\n",
    "6. **Deployment**: Creating a usable system for fantasy basketball managers\n",
    "\n",
    "While the project encompasses multiple technical aspects, this notebook primarily focuses on building and evaluating different recommender system techniques to suggest similar players based on their statistical performance and characteristics. This practical approach allows us to explore real-world applications of data science while working with a controlled, yet realistic dataset that simulates five seasons of basketball data across 390 players and multiple teams."
   ]
  },
  {
   "cell_type": "markdown",
   "id": "6d9e29af",
   "metadata": {},
   "source": [
    "### Import Modules - Loading Data"
   ]
  },
  {
   "cell_type": "code",
   "execution_count": 1,
   "id": "9fd399d5",
   "metadata": {},
   "outputs": [],
   "source": [
    "import pandas as pd\n",
    "import numpy as np\n",
    "import matplotlib.pyplot as plt\n",
    "import pickle\n",
    "import seaborn as sns\n",
    "from FantasySVD import svd_approach\n",
    "from FantasyRF import FantasyRecommenderRF\n",
    "from sklearn.preprocessing import MinMaxScaler\n",
    "from sklearn.preprocessing import StandardScaler\n",
    "from BasicRec import FantasyReccomenderBasic\n",
    "from FantasyAdvanced import FantasyRecommenderAdvanced\n",
    "from sklearn.decomposition import TruncatedSVD\n",
    "from sklearn.metrics.pairwise import cosine_similarity\n",
    "from sklearn.model_selection import train_test_split\n",
    "pd.set_option('display.max_colwidth', 800)\n",
    "%matplotlib inline"
   ]
  },
  {
   "cell_type": "code",
   "execution_count": 2,
   "id": "fd061f23",
   "metadata": {},
   "outputs": [],
   "source": [
    "df = pd.read_csv('basketball_data.csv')"
   ]
  },
  {
   "cell_type": "markdown",
   "id": "ff0f10f7",
   "metadata": {},
   "source": [
    "### Exploratory Data Analysis (EDA)"
   ]
  },
  {
   "cell_type": "code",
   "execution_count": 3,
   "id": "dbd18ea7",
   "metadata": {},
   "outputs": [
    {
     "data": {
      "text/html": [
       "<div>\n",
       "<style scoped>\n",
       "    .dataframe tbody tr th:only-of-type {\n",
       "        vertical-align: middle;\n",
       "    }\n",
       "\n",
       "    .dataframe tbody tr th {\n",
       "        vertical-align: top;\n",
       "    }\n",
       "\n",
       "    .dataframe thead th {\n",
       "        text-align: right;\n",
       "    }\n",
       "</style>\n",
       "<table border=\"1\" class=\"dataframe\">\n",
       "  <thead>\n",
       "    <tr style=\"text-align: right;\">\n",
       "      <th></th>\n",
       "      <th>player_id</th>\n",
       "      <th>player_name</th>\n",
       "      <th>archetype</th>\n",
       "      <th>season</th>\n",
       "      <th>team</th>\n",
       "      <th>games_played</th>\n",
       "      <th>minutes</th>\n",
       "      <th>points</th>\n",
       "      <th>rebounds</th>\n",
       "      <th>assists</th>\n",
       "      <th>steals</th>\n",
       "      <th>blocks</th>\n",
       "      <th>fg_pct</th>\n",
       "      <th>fg3_pct</th>\n",
       "      <th>ft_pct</th>\n",
       "    </tr>\n",
       "  </thead>\n",
       "  <tbody>\n",
       "    <tr>\n",
       "      <th>0</th>\n",
       "      <td>0</td>\n",
       "      <td>Robert Smith</td>\n",
       "      <td>regular</td>\n",
       "      <td>2019-20</td>\n",
       "      <td>SkyBirds</td>\n",
       "      <td>55</td>\n",
       "      <td>36.3</td>\n",
       "      <td>5.4</td>\n",
       "      <td>3.9</td>\n",
       "      <td>NaN</td>\n",
       "      <td>1.2</td>\n",
       "      <td>0.2</td>\n",
       "      <td>0.400</td>\n",
       "      <td>0.302</td>\n",
       "      <td>0.709</td>\n",
       "    </tr>\n",
       "    <tr>\n",
       "      <th>1</th>\n",
       "      <td>1</td>\n",
       "      <td>Mandy Evans</td>\n",
       "      <td>regular</td>\n",
       "      <td>2019-20</td>\n",
       "      <td>SparkiFY</td>\n",
       "      <td>38</td>\n",
       "      <td>14.8</td>\n",
       "      <td>17.9</td>\n",
       "      <td>5.9</td>\n",
       "      <td>3.9</td>\n",
       "      <td>1.6</td>\n",
       "      <td>0.5</td>\n",
       "      <td>0.431</td>\n",
       "      <td>0.369</td>\n",
       "      <td>0.734</td>\n",
       "    </tr>\n",
       "    <tr>\n",
       "      <th>2</th>\n",
       "      <td>2</td>\n",
       "      <td>Miguel Lee</td>\n",
       "      <td>regular</td>\n",
       "      <td>2019-20</td>\n",
       "      <td>SkyBirds</td>\n",
       "      <td>79</td>\n",
       "      <td>17.2</td>\n",
       "      <td>10.1</td>\n",
       "      <td>7.2</td>\n",
       "      <td>2.5</td>\n",
       "      <td>1.4</td>\n",
       "      <td>1.2</td>\n",
       "      <td>0.432</td>\n",
       "      <td>0.322</td>\n",
       "      <td>0.792</td>\n",
       "    </tr>\n",
       "    <tr>\n",
       "      <th>3</th>\n",
       "      <td>3</td>\n",
       "      <td>Ashlee Martin</td>\n",
       "      <td>regular</td>\n",
       "      <td>2019-20</td>\n",
       "      <td>HtmlERS</td>\n",
       "      <td>46</td>\n",
       "      <td>31.6</td>\n",
       "      <td>11.6</td>\n",
       "      <td>7.0</td>\n",
       "      <td>3.5</td>\n",
       "      <td>0.5</td>\n",
       "      <td>1.1</td>\n",
       "      <td>0.474</td>\n",
       "      <td>0.365</td>\n",
       "      <td>0.739</td>\n",
       "    </tr>\n",
       "    <tr>\n",
       "      <th>4</th>\n",
       "      <td>4</td>\n",
       "      <td>David Hamilton</td>\n",
       "      <td>regular</td>\n",
       "      <td>2019-20</td>\n",
       "      <td>SparkiFY</td>\n",
       "      <td>37</td>\n",
       "      <td>31.9</td>\n",
       "      <td>8.9</td>\n",
       "      <td>6.4</td>\n",
       "      <td>NaN</td>\n",
       "      <td>1.7</td>\n",
       "      <td>0.8</td>\n",
       "      <td>0.433</td>\n",
       "      <td>0.329</td>\n",
       "      <td>NaN</td>\n",
       "    </tr>\n",
       "  </tbody>\n",
       "</table>\n",
       "</div>"
      ],
      "text/plain": [
       "   player_id     player_name archetype   season      team  games_played  \\\n",
       "0          0    Robert Smith   regular  2019-20  SkyBirds            55   \n",
       "1          1     Mandy Evans   regular  2019-20  SparkiFY            38   \n",
       "2          2      Miguel Lee   regular  2019-20  SkyBirds            79   \n",
       "3          3   Ashlee Martin   regular  2019-20   HtmlERS            46   \n",
       "4          4  David Hamilton   regular  2019-20  SparkiFY            37   \n",
       "\n",
       "   minutes  points  rebounds  assists  steals  blocks  fg_pct  fg3_pct  ft_pct  \n",
       "0     36.3     5.4       3.9      NaN     1.2     0.2   0.400    0.302   0.709  \n",
       "1     14.8    17.9       5.9      3.9     1.6     0.5   0.431    0.369   0.734  \n",
       "2     17.2    10.1       7.2      2.5     1.4     1.2   0.432    0.322   0.792  \n",
       "3     31.6    11.6       7.0      3.5     0.5     1.1   0.474    0.365   0.739  \n",
       "4     31.9     8.9       6.4      NaN     1.7     0.8   0.433    0.329     NaN  "
      ]
     },
     "execution_count": 3,
     "metadata": {},
     "output_type": "execute_result"
    }
   ],
   "source": [
    "df.head()"
   ]
  },
  {
   "cell_type": "code",
   "execution_count": 4,
   "id": "b0b7a7be",
   "metadata": {},
   "outputs": [
    {
     "name": "stdout",
     "output_type": "stream",
     "text": [
      " The dataframe has 1950 records and 15 attributes.\n"
     ]
    }
   ],
   "source": [
    "print(f\" The dataframe has {df.shape[0]} records and {df.shape[1]} attributes.\")"
   ]
  },
  {
   "cell_type": "code",
   "execution_count": 5,
   "id": "0aa2be87",
   "metadata": {},
   "outputs": [
    {
     "data": {
      "text/plain": [
       "player_id         int64\n",
       "player_name      object\n",
       "archetype        object\n",
       "season           object\n",
       "team             object\n",
       "games_played      int64\n",
       "minutes         float64\n",
       "points          float64\n",
       "rebounds        float64\n",
       "assists         float64\n",
       "steals          float64\n",
       "blocks          float64\n",
       "fg_pct          float64\n",
       "fg3_pct         float64\n",
       "ft_pct          float64\n",
       "dtype: object"
      ]
     },
     "execution_count": 5,
     "metadata": {},
     "output_type": "execute_result"
    }
   ],
   "source": [
    "df.dtypes"
   ]
  },
  {
   "cell_type": "markdown",
   "id": "443ec1f1",
   "metadata": {},
   "source": [
    "<p><i>Does this dataframe present duplicate values? </i></p>"
   ]
  },
  {
   "cell_type": "code",
   "execution_count": 6,
   "id": "ba6bdb2e",
   "metadata": {},
   "outputs": [
    {
     "name": "stdout",
     "output_type": "stream",
     "text": [
      "The dataframe should contain 390 unique player\n"
     ]
    }
   ],
   "source": [
    "print(f\"The dataframe should contain {df.player_id.nunique()} unique player\")"
   ]
  },
  {
   "cell_type": "code",
   "execution_count": 7,
   "id": "629c9599",
   "metadata": {},
   "outputs": [
    {
     "data": {
      "text/plain": [
       "season\n",
       "2019-20    390\n",
       "2020-21    390\n",
       "2021-22    390\n",
       "2022-23    390\n",
       "2023-24    390\n",
       "Name: player_id, dtype: int64"
      ]
     },
     "execution_count": 7,
     "metadata": {},
     "output_type": "execute_result"
    }
   ],
   "source": [
    "df.groupby('season')['player_id'].count()"
   ]
  },
  {
   "cell_type": "markdown",
   "id": "c28e6d6a",
   "metadata": {},
   "source": [
    "<p> <i> Is the relation player-team unique, or do players change team during the course of five seasons? if they do change, what is the ratio?</p>"
   ]
  },
  {
   "cell_type": "code",
   "execution_count": 8,
   "id": "609c0a5f",
   "metadata": {},
   "outputs": [],
   "source": [
    "players_swapped = df.groupby('player_id')['team']\\\n",
    "    .nunique()\\\n",
    "    .reset_index()\\\n",
    "    .rename(columns={'team': 'unique_teams'})\n",
    "players_swapped_list = players_swapped[players_swapped['unique_teams']>1]\\\n",
    "                                                 ['player_id'].tolist()\n"
   ]
  },
  {
   "cell_type": "code",
   "execution_count": 9,
   "id": "403def4a",
   "metadata": {},
   "outputs": [
    {
     "name": "stdout",
     "output_type": "stream",
     "text": [
      "Out of 390 players during the 5 seasons analyzed, 40 players changed teams, which is a ratio of 0.10.\n"
     ]
    }
   ],
   "source": [
    "print(\n",
    "    f\"Out of {df.player_id.nunique()} players during the 5 seasons analyzed, \"\n",
    "    f\"{len(players_swapped_list)} players changed teams, which is a ratio of \"\n",
    "    f\"{len(players_swapped_list) / df.player_id.nunique():.2f}.\"\n",
    ")\n"
   ]
  },
  {
   "cell_type": "markdown",
   "id": "7340d4c1",
   "metadata": {},
   "source": [
    "<p> <i>Does the dataframe presents any null values?</i></p>\n"
   ]
  },
  {
   "cell_type": "code",
   "execution_count": 10,
   "id": "7bde1887",
   "metadata": {},
   "outputs": [
    {
     "data": {
      "text/plain": [
       "player_id       False\n",
       "player_name     False\n",
       "archetype       False\n",
       "season          False\n",
       "team            False\n",
       "games_played    False\n",
       "minutes         False\n",
       "points           True\n",
       "rebounds         True\n",
       "assists          True\n",
       "steals           True\n",
       "blocks           True\n",
       "fg_pct           True\n",
       "fg3_pct          True\n",
       "ft_pct           True\n",
       "dtype: bool"
      ]
     },
     "execution_count": 10,
     "metadata": {},
     "output_type": "execute_result"
    }
   ],
   "source": [
    "df.isnull().any()"
   ]
  },
  {
   "cell_type": "code",
   "execution_count": 11,
   "id": "82311980",
   "metadata": {},
   "outputs": [
    {
     "name": "stdout",
     "output_type": "stream",
     "text": [
      " There are 8 attribues with missing values\n"
     ]
    }
   ],
   "source": [
    "print(f\" There are {df.isnull().any().sum()} attribues with missing values\")"
   ]
  },
  {
   "cell_type": "code",
   "execution_count": 12,
   "id": "625fdc83",
   "metadata": {},
   "outputs": [
    {
     "name": "stdout",
     "output_type": "stream",
     "text": [
      "points      5.435897\n",
      "rebounds    5.435897\n",
      "assists     5.538462\n",
      "steals      4.358974\n",
      "blocks      4.205128\n",
      "fg_pct      3.538462\n",
      "fg3_pct     5.384615\n",
      "ft_pct      5.230769\n",
      "dtype: float64\n"
     ]
    }
   ],
   "source": [
    "#(df.isnull().sum() / df.shape[0])\n",
    "missing_percentage = (df.isnull().sum() / df.shape[0]) * 100\n",
    "missing_percentage = missing_percentage[missing_percentage > 0]  \n",
    "print(missing_percentage)\n"
   ]
  },
  {
   "cell_type": "code",
   "execution_count": 13,
   "id": "0d84b76a",
   "metadata": {},
   "outputs": [
    {
     "name": "stdout",
     "output_type": "stream",
     "text": [
      " On average these fields have 4.9 of missing values\n"
     ]
    }
   ],
   "source": [
    "print(f\" On average these fields have {round(missing_percentage.mean(),1)} of missing values\")"
   ]
  },
  {
   "cell_type": "markdown",
   "id": "726c0c9a",
   "metadata": {},
   "source": [
    "<p>  <i>This is something to keep into account as we develop our models.Next we to observe the distributions of some attributes. Now let's look at some summary statics.</i></p>"
   ]
  },
  {
   "cell_type": "code",
   "execution_count": 14,
   "id": "f1cd01bd",
   "metadata": {},
   "outputs": [
    {
     "data": {
      "text/html": [
       "<div>\n",
       "<style scoped>\n",
       "    .dataframe tbody tr th:only-of-type {\n",
       "        vertical-align: middle;\n",
       "    }\n",
       "\n",
       "    .dataframe tbody tr th {\n",
       "        vertical-align: top;\n",
       "    }\n",
       "\n",
       "    .dataframe thead th {\n",
       "        text-align: right;\n",
       "    }\n",
       "</style>\n",
       "<table border=\"1\" class=\"dataframe\">\n",
       "  <thead>\n",
       "    <tr style=\"text-align: right;\">\n",
       "      <th></th>\n",
       "      <th>games_played</th>\n",
       "      <th>minutes</th>\n",
       "      <th>points</th>\n",
       "      <th>rebounds</th>\n",
       "      <th>assists</th>\n",
       "      <th>steals</th>\n",
       "      <th>blocks</th>\n",
       "      <th>fg_pct</th>\n",
       "      <th>fg3_pct</th>\n",
       "      <th>ft_pct</th>\n",
       "    </tr>\n",
       "  </thead>\n",
       "  <tbody>\n",
       "    <tr>\n",
       "      <th>count</th>\n",
       "      <td>1950.000000</td>\n",
       "      <td>1950.000000</td>\n",
       "      <td>1844.000000</td>\n",
       "      <td>1844.000000</td>\n",
       "      <td>1842.000000</td>\n",
       "      <td>1865.000000</td>\n",
       "      <td>1868.000000</td>\n",
       "      <td>1881.000000</td>\n",
       "      <td>1845.000000</td>\n",
       "      <td>1848.000000</td>\n",
       "    </tr>\n",
       "    <tr>\n",
       "      <th>mean</th>\n",
       "      <td>51.735385</td>\n",
       "      <td>25.105949</td>\n",
       "      <td>11.420174</td>\n",
       "      <td>4.495824</td>\n",
       "      <td>3.033659</td>\n",
       "      <td>1.009330</td>\n",
       "      <td>0.641328</td>\n",
       "      <td>0.446874</td>\n",
       "      <td>0.330622</td>\n",
       "      <td>0.752390</td>\n",
       "    </tr>\n",
       "    <tr>\n",
       "      <th>std</th>\n",
       "      <td>18.249953</td>\n",
       "      <td>7.595495</td>\n",
       "      <td>5.761876</td>\n",
       "      <td>1.934746</td>\n",
       "      <td>1.938258</td>\n",
       "      <td>0.537009</td>\n",
       "      <td>0.426800</td>\n",
       "      <td>0.048509</td>\n",
       "      <td>0.036472</td>\n",
       "      <td>0.067144</td>\n",
       "    </tr>\n",
       "    <tr>\n",
       "      <th>min</th>\n",
       "      <td>20.000000</td>\n",
       "      <td>12.100000</td>\n",
       "      <td>2.000000</td>\n",
       "      <td>1.000000</td>\n",
       "      <td>0.500000</td>\n",
       "      <td>0.000000</td>\n",
       "      <td>0.000000</td>\n",
       "      <td>0.350000</td>\n",
       "      <td>0.250000</td>\n",
       "      <td>0.601000</td>\n",
       "    </tr>\n",
       "    <tr>\n",
       "      <th>25%</th>\n",
       "      <td>36.000000</td>\n",
       "      <td>18.400000</td>\n",
       "      <td>7.400000</td>\n",
       "      <td>3.100000</td>\n",
       "      <td>1.700000</td>\n",
       "      <td>0.600000</td>\n",
       "      <td>0.400000</td>\n",
       "      <td>0.413000</td>\n",
       "      <td>0.306000</td>\n",
       "      <td>0.706000</td>\n",
       "    </tr>\n",
       "    <tr>\n",
       "      <th>50%</th>\n",
       "      <td>52.000000</td>\n",
       "      <td>25.150000</td>\n",
       "      <td>10.700000</td>\n",
       "      <td>4.200000</td>\n",
       "      <td>2.700000</td>\n",
       "      <td>0.900000</td>\n",
       "      <td>0.500000</td>\n",
       "      <td>0.443000</td>\n",
       "      <td>0.329000</td>\n",
       "      <td>0.748000</td>\n",
       "    </tr>\n",
       "    <tr>\n",
       "      <th>75%</th>\n",
       "      <td>68.000000</td>\n",
       "      <td>31.900000</td>\n",
       "      <td>14.400000</td>\n",
       "      <td>5.800000</td>\n",
       "      <td>3.800000</td>\n",
       "      <td>1.300000</td>\n",
       "      <td>0.800000</td>\n",
       "      <td>0.476000</td>\n",
       "      <td>0.354000</td>\n",
       "      <td>0.801000</td>\n",
       "    </tr>\n",
       "    <tr>\n",
       "      <th>max</th>\n",
       "      <td>82.000000</td>\n",
       "      <td>38.000000</td>\n",
       "      <td>34.800000</td>\n",
       "      <td>12.000000</td>\n",
       "      <td>11.900000</td>\n",
       "      <td>3.000000</td>\n",
       "      <td>3.000000</td>\n",
       "      <td>0.647000</td>\n",
       "      <td>0.449000</td>\n",
       "      <td>0.947000</td>\n",
       "    </tr>\n",
       "  </tbody>\n",
       "</table>\n",
       "</div>"
      ],
      "text/plain": [
       "       games_played      minutes       points     rebounds      assists  \\\n",
       "count   1950.000000  1950.000000  1844.000000  1844.000000  1842.000000   \n",
       "mean      51.735385    25.105949    11.420174     4.495824     3.033659   \n",
       "std       18.249953     7.595495     5.761876     1.934746     1.938258   \n",
       "min       20.000000    12.100000     2.000000     1.000000     0.500000   \n",
       "25%       36.000000    18.400000     7.400000     3.100000     1.700000   \n",
       "50%       52.000000    25.150000    10.700000     4.200000     2.700000   \n",
       "75%       68.000000    31.900000    14.400000     5.800000     3.800000   \n",
       "max       82.000000    38.000000    34.800000    12.000000    11.900000   \n",
       "\n",
       "            steals       blocks       fg_pct      fg3_pct       ft_pct  \n",
       "count  1865.000000  1868.000000  1881.000000  1845.000000  1848.000000  \n",
       "mean      1.009330     0.641328     0.446874     0.330622     0.752390  \n",
       "std       0.537009     0.426800     0.048509     0.036472     0.067144  \n",
       "min       0.000000     0.000000     0.350000     0.250000     0.601000  \n",
       "25%       0.600000     0.400000     0.413000     0.306000     0.706000  \n",
       "50%       0.900000     0.500000     0.443000     0.329000     0.748000  \n",
       "75%       1.300000     0.800000     0.476000     0.354000     0.801000  \n",
       "max       3.000000     3.000000     0.647000     0.449000     0.947000  "
      ]
     },
     "execution_count": 14,
     "metadata": {},
     "output_type": "execute_result"
    }
   ],
   "source": [
    "df.iloc[:,1:].describe()"
   ]
  },
  {
   "cell_type": "markdown",
   "id": "d8394c25",
   "metadata": {},
   "source": [
    "<p> <i> The attribute games_played appears to have higher variation. It would be helpful to plot the related histogram.</i></p>"
   ]
  },
  {
   "cell_type": "code",
   "execution_count": 15,
   "id": "c6cbeda5",
   "metadata": {},
   "outputs": [
    {
     "data": {
      "image/png": "[encoded data removed]",
      "text/plain": [
       "<Figure size 1000x400 with 1 Axes>"
      ]
     },
     "metadata": {},
     "output_type": "display_data"
    }
   ],
   "source": [
    "# Create histogram\n",
    "plt.figure(figsize=(10, 4))\n",
    "plt.hist(df['games_played'], bins=50)\n",
    "plt.title('Distribution of Games Played')\n",
    "plt.xlabel('Number of Games')\n",
    "plt.ylabel('Count')\n",
    "plt.show()"
   ]
  },
  {
   "cell_type": "markdown",
   "id": "07467599",
   "metadata": {},
   "source": [
    "<p> <i> A box-plot could help identify any outliers. </i></p>"
   ]
  },
  {
   "cell_type": "code",
   "execution_count": 16,
   "id": "d2037b7a",
   "metadata": {},
   "outputs": [
    {
     "data": {
      "image/png": "[encoded data removed]",
      "text/plain": [
       "<Figure size 1000x400 with 1 Axes>"
      ]
     },
     "metadata": {},
     "output_type": "display_data"
    }
   ],
   "source": [
    "# Create box plot\n",
    "plt.figure(figsize=(10, 4))\n",
    "plt.boxplot(df.games_played)\n",
    "plt.title('Box Plot of Games Played')\n",
    "plt.ylabel('Number of Games')\n",
    "plt.show();"
   ]
  },
  {
   "cell_type": "markdown",
   "id": "b0a38408",
   "metadata": {},
   "source": [
    "<p><i> The box plot of the games_played attribute doesn't present any outliers. Considering the implaction of null values and the fact that there is only a 5% percentage we will proceed to eliminate such values from the dataset used for this project. </i></p>"
   ]
  },
  {
   "cell_type": "code",
   "execution_count": 17,
   "id": "207fabca",
   "metadata": {},
   "outputs": [
    {
     "data": {
      "text/html": [
       "<div>\n",
       "<style scoped>\n",
       "    .dataframe tbody tr th:only-of-type {\n",
       "        vertical-align: middle;\n",
       "    }\n",
       "\n",
       "    .dataframe tbody tr th {\n",
       "        vertical-align: top;\n",
       "    }\n",
       "\n",
       "    .dataframe thead th {\n",
       "        text-align: right;\n",
       "    }\n",
       "</style>\n",
       "<table border=\"1\" class=\"dataframe\">\n",
       "  <thead>\n",
       "    <tr style=\"text-align: right;\">\n",
       "      <th></th>\n",
       "      <th>player_id</th>\n",
       "      <th>player_name</th>\n",
       "      <th>archetype</th>\n",
       "      <th>season</th>\n",
       "      <th>team</th>\n",
       "      <th>games_played</th>\n",
       "      <th>minutes</th>\n",
       "      <th>points</th>\n",
       "      <th>rebounds</th>\n",
       "      <th>assists</th>\n",
       "      <th>steals</th>\n",
       "      <th>blocks</th>\n",
       "      <th>fg_pct</th>\n",
       "      <th>fg3_pct</th>\n",
       "      <th>ft_pct</th>\n",
       "    </tr>\n",
       "  </thead>\n",
       "  <tbody>\n",
       "    <tr>\n",
       "      <th>0</th>\n",
       "      <td>1</td>\n",
       "      <td>Mandy Evans</td>\n",
       "      <td>regular</td>\n",
       "      <td>2019-20</td>\n",
       "      <td>SparkiFY</td>\n",
       "      <td>38</td>\n",
       "      <td>14.8</td>\n",
       "      <td>17.9</td>\n",
       "      <td>5.9</td>\n",
       "      <td>3.9</td>\n",
       "      <td>1.6</td>\n",
       "      <td>0.5</td>\n",
       "      <td>0.431</td>\n",
       "      <td>0.369</td>\n",
       "      <td>0.734</td>\n",
       "    </tr>\n",
       "    <tr>\n",
       "      <th>1</th>\n",
       "      <td>2</td>\n",
       "      <td>Miguel Lee</td>\n",
       "      <td>regular</td>\n",
       "      <td>2019-20</td>\n",
       "      <td>SkyBirds</td>\n",
       "      <td>79</td>\n",
       "      <td>17.2</td>\n",
       "      <td>10.1</td>\n",
       "      <td>7.2</td>\n",
       "      <td>2.5</td>\n",
       "      <td>1.4</td>\n",
       "      <td>1.2</td>\n",
       "      <td>0.432</td>\n",
       "      <td>0.322</td>\n",
       "      <td>0.792</td>\n",
       "    </tr>\n",
       "    <tr>\n",
       "      <th>2</th>\n",
       "      <td>3</td>\n",
       "      <td>Ashlee Martin</td>\n",
       "      <td>regular</td>\n",
       "      <td>2019-20</td>\n",
       "      <td>HtmlERS</td>\n",
       "      <td>46</td>\n",
       "      <td>31.6</td>\n",
       "      <td>11.6</td>\n",
       "      <td>7.0</td>\n",
       "      <td>3.5</td>\n",
       "      <td>0.5</td>\n",
       "      <td>1.1</td>\n",
       "      <td>0.474</td>\n",
       "      <td>0.365</td>\n",
       "      <td>0.739</td>\n",
       "    </tr>\n",
       "    <tr>\n",
       "      <th>3</th>\n",
       "      <td>5</td>\n",
       "      <td>Anna Thompson</td>\n",
       "      <td>regular</td>\n",
       "      <td>2019-20</td>\n",
       "      <td>HtmlERS</td>\n",
       "      <td>23</td>\n",
       "      <td>19.6</td>\n",
       "      <td>13.6</td>\n",
       "      <td>6.6</td>\n",
       "      <td>4.1</td>\n",
       "      <td>1.2</td>\n",
       "      <td>0.7</td>\n",
       "      <td>0.511</td>\n",
       "      <td>0.330</td>\n",
       "      <td>0.838</td>\n",
       "    </tr>\n",
       "    <tr>\n",
       "      <th>4</th>\n",
       "      <td>6</td>\n",
       "      <td>Angela Kelly</td>\n",
       "      <td>regular</td>\n",
       "      <td>2019-20</td>\n",
       "      <td>SkyBirds</td>\n",
       "      <td>41</td>\n",
       "      <td>18.9</td>\n",
       "      <td>10.9</td>\n",
       "      <td>4.9</td>\n",
       "      <td>1.0</td>\n",
       "      <td>0.9</td>\n",
       "      <td>0.3</td>\n",
       "      <td>0.442</td>\n",
       "      <td>0.336</td>\n",
       "      <td>0.781</td>\n",
       "    </tr>\n",
       "  </tbody>\n",
       "</table>\n",
       "</div>"
      ],
      "text/plain": [
       "   player_id    player_name archetype   season      team  games_played  \\\n",
       "0          1    Mandy Evans   regular  2019-20  SparkiFY            38   \n",
       "1          2     Miguel Lee   regular  2019-20  SkyBirds            79   \n",
       "2          3  Ashlee Martin   regular  2019-20   HtmlERS            46   \n",
       "3          5  Anna Thompson   regular  2019-20   HtmlERS            23   \n",
       "4          6   Angela Kelly   regular  2019-20  SkyBirds            41   \n",
       "\n",
       "   minutes  points  rebounds  assists  steals  blocks  fg_pct  fg3_pct  ft_pct  \n",
       "0     14.8    17.9       5.9      3.9     1.6     0.5   0.431    0.369   0.734  \n",
       "1     17.2    10.1       7.2      2.5     1.4     1.2   0.432    0.322   0.792  \n",
       "2     31.6    11.6       7.0      3.5     0.5     1.1   0.474    0.365   0.739  \n",
       "3     19.6    13.6       6.6      4.1     1.2     0.7   0.511    0.330   0.838  \n",
       "4     18.9    10.9       4.9      1.0     0.9     0.3   0.442    0.336   0.781  "
      ]
     },
     "execution_count": 17,
     "metadata": {},
     "output_type": "execute_result"
    }
   ],
   "source": [
    "df = df.dropna(subset=[\n",
    "        'points', 'rebounds', 'assists', 'steals', 'blocks',\n",
    "        'fg_pct', 'fg3_pct', 'ft_pct'\n",
    "    ]).reset_index(drop=True)\n",
    "df.head()"
   ]
  },
  {
   "cell_type": "markdown",
   "id": "450dbaab",
   "metadata": {},
   "source": [
    "### Rank-Based Recommendations\n",
    "\n",
    "In this scenario, we are just getting started with a basketball fantasy league and we have no knowledge of players' interactions from previous fantasy leagues except for player and teams data acquired via API. Thus, a rank-based system (a rule-based recommender) would focus on sorting players according to specific performance metrics and consequent composite score. For the purpose of this project, we can prioritize metrics such as points, rebounds, assists, blocks, and steals, assuming a Head to Head league's scoring system."
   ]
  },
  {
   "cell_type": "code",
   "execution_count": 18,
   "id": "363720b6",
   "metadata": {},
   "outputs": [],
   "source": [
    "# Adding a 'traded' feature: Check if a player changed teams\n",
    "\n",
    "df['traded'] = df.groupby('player_id')['team'].transform('nunique') > 1\n"
   ]
  },
  {
   "cell_type": "code",
   "execution_count": 19,
   "id": "635a665d",
   "metadata": {},
   "outputs": [
    {
     "name": "stdout",
     "output_type": "stream",
     "text": [
      "Top 10 Reccomended Players\n",
      "   player_id     player_name              team  composite_score  traded  \\\n",
      "0        270  Richard Morris        VBADragons         0.631105   False   \n",
      "1        147  Kristen Murphy          SparkiFY         0.616644   False   \n",
      "2         39      James Mack         BIsupremE         0.611875   False   \n",
      "3        330    Theresa Cook      UnitedWeCode         0.601391   False   \n",
      "4        284      Diana Cain           LutammS         0.599319   False   \n",
      "5        241     Todd Garcia        VBADragons         0.599099    True   \n",
      "6        277   Robert Rivera  KeyBoardWarriors         0.579443   False   \n",
      "7        383   Ashley Fisher         BIsupremE         0.569330   False   \n",
      "8        321   Melissa Doyle           HtmlERS         0.565963   False   \n",
      "9        365    Tracey Blair           HtmlERS         0.564878   False   \n",
      "\n",
      "         archetype  \n",
      "0     elite_scorer  \n",
      "1     elite_scorer  \n",
      "2     elite_scorer  \n",
      "3     elite_scorer  \n",
      "4  elite_playmaker  \n",
      "5     elite_scorer  \n",
      "6  elite_playmaker  \n",
      "7  elite_playmaker  \n",
      "8  elite_playmaker  \n",
      "9  elite_playmaker  \n"
     ]
    }
   ],
   "source": [
    "recommender = FantasyReccomenderBasic(df)\n",
    "top_recommendations = recommender.create_rank_based_recommendations(top_n=10)\n",
    "print('Top 10 Reccomended Players')\n",
    "print(top_recommendations)"
   ]
  },
  {
   "cell_type": "code",
   "execution_count": 20,
   "id": "c5ea37d9",
   "metadata": {},
   "outputs": [
    {
     "name": "stdout",
     "output_type": "stream",
     "text": [
      "Coverage: 0.007733952049497293\n",
      "Elite Bias: 1.00\n",
      "Elite Coverage: 0.05\n",
      "\n",
      "Archetype Distribution in Recommendations:\n",
      "archetype\n",
      "elite_scorer       50.0\n",
      "elite_playmaker    50.0\n",
      "Name: proportion, dtype: float64\n"
     ]
    }
   ],
   "source": [
    "coverage = len(top_recommendations) / len(df)\n",
    "archetype_distribution = top_recommendations['archetype'].value_counts(normalize=True) * 100\n",
    "\n",
    "elite_count = top_recommendations['archetype'].str.contains('elite').sum()\n",
    "elite_bias = elite_count / len(top_recommendations) if len(top_recommendations) > 0 else 0\n",
    "elite_player_count = df[df['archetype'].str.contains('elite')].shape[0]\n",
    "elite_coverage = elite_count / elite_player_count if elite_player_count > 0 else 0\n",
    "\n",
    "# Summary Metrics\n",
    "print(f\"Coverage: {coverage}\")\n",
    "print(f\"Elite Bias: {elite_bias:.2f}\")\n",
    "print(f\"Elite Coverage: {elite_coverage:.2f}\")\n",
    "print(\"\\nArchetype Distribution in Recommendations:\")\n",
    "print(archetype_distribution)"
   ]
  },
  {
   "cell_type": "markdown",
   "id": "978c200a",
   "metadata": {},
   "source": [
    "### Enanched Rank-Based Recommendations\n",
    "\n",
    "<i>We can enhance the previous FantasyRecommender by ensuring that recommendations do not include unavailable players as specified by user's input.</i>"
   ]
  },
  {
   "cell_type": "code",
   "execution_count": 21,
   "id": "b3143410",
   "metadata": {},
   "outputs": [
    {
     "name": "stdout",
     "output_type": "stream",
     "text": [
      "    player_id       player_name              team  composite_score  traded  \\\n",
      "3         330      Theresa Cook      UnitedWeCode         0.601391   False   \n",
      "4         284        Diana Cain           LutammS         0.599319   False   \n",
      "5         241       Todd Garcia        VBADragons         0.599099    True   \n",
      "6         277     Robert Rivera  KeyBoardWarriors         0.579443   False   \n",
      "7         383     Ashley Fisher         BIsupremE         0.569330   False   \n",
      "8         321     Melissa Doyle           HtmlERS         0.565963   False   \n",
      "9         365      Tracey Blair           HtmlERS         0.564878   False   \n",
      "10        183      Connor Lopez           HtmlERS         0.561267   False   \n",
      "11        174  Nathaniel Vaughn         BIsupremE         0.559483   False   \n",
      "12        193         David Kim          SparkiFY         0.557791   False   \n",
      "\n",
      "          archetype  \n",
      "3      elite_scorer  \n",
      "4   elite_playmaker  \n",
      "5      elite_scorer  \n",
      "6   elite_playmaker  \n",
      "7   elite_playmaker  \n",
      "8   elite_playmaker  \n",
      "9   elite_playmaker  \n",
      "10     elite_scorer  \n",
      "11  elite_playmaker  \n",
      "12  elite_playmaker  \n"
     ]
    }
   ],
   "source": [
    "recommender = FantasyRecommenderAdvanced(df)\n",
    "\n",
    "# Get recommendations excluding unavailable players\n",
    "unavailable_players = [270,147,39]\n",
    "top_recommendations = recommender.create_rank_based_recommendations(unavailable_players=unavailable_players, top_n=10)\n",
    "print(top_recommendations)"
   ]
  },
  {
   "cell_type": "markdown",
   "id": "ce6bff41",
   "metadata": {},
   "source": [
    "<p> <i> We can observe that Richard Morris,Kristen Murphy, and James Mack , previosuly ranked as top recomended players, are exluded this time since they have already been selected from another fantasy league player.</i></p>"
   ]
  },
  {
   "cell_type": "code",
   "execution_count": 22,
   "id": "164c3228",
   "metadata": {},
   "outputs": [
    {
     "name": "stdout",
     "output_type": "stream",
     "text": [
      "Coverage: 0.007733952049497293\n",
      "Elite Bias: 1.00\n",
      "Elite Coverage: 0.05\n",
      "\n",
      "Archetype Distribution in Recommendations:\n",
      "archetype\n",
      "elite_playmaker    70.0\n",
      "elite_scorer       30.0\n",
      "Name: proportion, dtype: float64\n"
     ]
    }
   ],
   "source": [
    "coverage = len(top_recommendations) / len(df)\n",
    "archetype_distribution = top_recommendations['archetype'].value_counts(normalize=True) * 100\n",
    "\n",
    "elite_count = top_recommendations['archetype'].str.contains('elite').sum()\n",
    "elite_bias = elite_count / len(top_recommendations) if len(top_recommendations) > 0 else 0\n",
    "elite_player_count = df[df['archetype'].str.contains('elite')].shape[0]\n",
    "elite_coverage = elite_count / elite_player_count if elite_player_count > 0 else 0\n",
    "\n",
    "# Summary Metrics\n",
    "print(f\"Coverage: {coverage}\")\n",
    "print(f\"Elite Bias: {elite_bias:.2f}\")\n",
    "print(f\"Elite Coverage: {elite_coverage:.2f}\")\n",
    "print(\"\\nArchetype Distribution in Recommendations:\")\n",
    "print(archetype_distribution)\n"
   ]
  },
  {
   "cell_type": "markdown",
   "id": "0a8e2685",
   "metadata": {},
   "source": [
    "#### Evaluation \n",
    "<i>The initial rank-based, rule-based recommender system metrics actually show appropriate behavior for a head-to-head fantasy league recommender. **Coverage (0.007)** is a measure of how many unique players are recommended relative to the entire pool of players; the low value here suggests that the recommender focuses on a very narrow subset of players as requested per user input.In fantasy basketball, you're typically only interested in the most impactful players for your matchups. **Elite Bias (100)** indicates that the system is correctly focusing on elite scorers and playmakers, who typically generate the most fantasy points through multiple categories (points, assists, percentages). **Elite Coverage (0.05)** shows that only 5% of all elite players are included in the recommendations, implying that even within elite categories, the system recommends only a small subset with players who can contribute across multiple statistical categories.\n",
    "\n",
    "In the archetype distribution, **50% of recommendations are elite_scorer**, while **50% are elite_playmaker**  which makes sense for fantasy basketball where scoring and assist-heavy players typically provide the highest fantasy value as they often contribute in multiple categories (points, FG%, FT%, assists) which is crucial for head-to-head points leagues. Overall, the recommender excels at ranking a small, specific subset of players based on user-defined criteria but has room for improvement in diversifying recommendations to increase both coverage and elite representation.\n",
    "\n",
    "The eanched version allows the recommender to exclude unavailable players, the system maintains a Coverage of 0.007, indicating that recommendations remain focused on a small subset of players. The Elite Bias stays at 1, maintaining an emphasis on elite archetypes. However, Elite Coverage remains at 0.05, meaning the inclusion of elite players is still limited. The archetype distribution now favors lite_playmaker **(70%)** with elite_scorer(**30%**) showing that the system is adapting after some elite players were selected.This update improves user control but further narrows the recommender's scope.\n",
    "</i>"
   ]
  },
  {
   "cell_type": "markdown",
   "id": "4446985f",
   "metadata": {},
   "source": [
    "### Collaborative Filtering (Matrix Factorization) using SVD (Singular Value Decomposition)\n",
    "In this approach, we will combine the rule-based approach from before with SVD (Singular Value Decomposition) to perform collaborative filtering and make player recommendations. We'll treat the recommendation problem as one where we want the system to suggest players who are similar to the one provided by user input. Top reccomended players will be also based on historical performance.\n",
    "The SVD-based approach uses machine learning techniques to identify latent features in the data, capturing relationships that are not directly observable. This allows for more nuanced recommendations as it combines multiple performance metrics into lower-dimensional representations.\n",
    "\n",
    "In contrast, the rank-based rule-based approach depends on explicit thresholds or ranking rules for each metric (e.g., top scorers or rebounders). While simpler, it fails to capture complex patterns or interdependencies between metrics.\n",
    "\n",
    "The SVD-based approach is dynamic and scalable, making it better suited for large datasets where performance metrics interact in complex ways. The rule-based approach is better for explainability and simplicity in smaller datasets.\n"
   ]
  },
  {
   "cell_type": "code",
   "execution_count": 23,
   "id": "94916615",
   "metadata": {},
   "outputs": [],
   "source": [
    "# # Loop over player_id values in the dataset\n",
    "# for players_id in df['player_id'].unique(): \n",
    "#     if len(df[df['player_id'] == players_id]['archetype'].unique()) > 1:\n",
    "#         # Print the player_name for the given player_id\n",
    "#         player_name = df[df['player_id'] == players_id]['player_name'].iloc[0]\n",
    "#         print(f\"Player {player_name} (ID: {players_id}) has more than one archetype.\")\n",
    "    \n"
   ]
  },
  {
   "cell_type": "code",
   "execution_count": 24,
   "id": "29dd0f7e",
   "metadata": {},
   "outputs": [
    {
     "name": "stdout",
     "output_type": "stream",
     "text": [
      "Top 5 recommended players for Player ID 370 are:\n",
      "    player_id     player_name archetype\n",
      "0         80  Charles Turner   regular\n",
      "1        117    Erik Oconnor   regular\n",
      "2        155  Amanda Barrett   regular\n",
      "3        245      Chase Shah   regular\n",
      "4         88  Cory Hernandez   regular\n",
      "\n",
      "\n",
      "Precision@K for Player ID 370: 90.0%\n"
     ]
    }
   ],
   "source": [
    "player_id = 370\n",
    "\n",
    "# providing the capability to exlcude some users \n",
    "unavailable_players = [152,59,379,377]\n",
    "if unavailable_players:\n",
    "    revised_df = df[~df['player_id'].isin(unavailable_players)]\n",
    "else:\n",
    "    revised_df = df.copy()\n",
    "\n",
    "# Generate matrices\n",
    "svd_matrix, cosine_sim, player_performance_matrix = svd_approach.svd_augmentated(revised_df)\n",
    "\n",
    "# Recommend players\n",
    "recommended_players = svd_approach.recommend_players(player_id, cosine_sim, player_performance_matrix)\n",
    "recommended_player_details = df[df['player_id'].isin(recommended_players)][['player_id', 'player_name', 'archetype']].drop_duplicates().reset_index(drop=True)\n",
    "print(f\"Top 5 recommended players for Player ID {player_id} are:\\n\", recommended_player_details)\n",
    "\n",
    "print('\\n')\n",
    "precision_at_k = svd_approach.precisionK(player_id, df, cosine_sim, player_performance_matrix, top_n=5)\n",
    "print(f\"Precision@K for Player ID {player_id}: {precision_at_k}%\")\n"
   ]
  },
  {
   "cell_type": "markdown",
   "id": "f566629f",
   "metadata": {},
   "source": [
    "#### Evaluation\n",
    "<i>We can assess the quality of our recommendations using the Precision at K (P@K) metric. In essence, this metric helps us determine how many of the top K recommended players are relevant. For example, if I'm requesting a list of players similar to Player A, and Player A belongs to the 'elite' archetype, I would expect the recommended players to also be elite, or at least predominantly elite. Conversely, if a player is regular I would expect that recommendations are good if they are eithr elite or regular. The underlying assumption here is that when looking for similar players based on performance metrics, the archetype plays a key role. If the performance metrics driving the recommendations align with what defines an elite player, it is reasonable to expect that the most similar players will also be elite. Additionally, we can look at the distribution of the precision ranking for each player and have a better understanding.</i>"
   ]
  },
  {
   "cell_type": "code",
   "execution_count": 25,
   "id": "f7b16a03",
   "metadata": {},
   "outputs": [
    {
     "data": {
      "image/png": "[encoded data removed]",
      "text/plain": [
       "<Figure size 640x480 with 1 Axes>"
      ]
     },
     "metadata": {},
     "output_type": "display_data"
    }
   ],
   "source": [
    "svd_matrix, cosine_sim, player_performance_matrix = svd_approach.svd_augmentated(df)\n",
    "precisions_recordings = []\n",
    "for player_id in df['player_id'].unique():\n",
    "    try:\n",
    "        # Handle unavailable players\n",
    "        if player_id in unavailable_players:\n",
    "            continue \n",
    "\n",
    "        # Calculate precision@K\n",
    "        precision_at_k = svd_approach.precisionK(\n",
    "            player_id=player_id,\n",
    "            df=df,\n",
    "            cosine_sim=cosine_sim,\n",
    "            player_performance_matrix=player_performance_matrix,\n",
    "            top_n=5\n",
    "        )\n",
    "        precisions_recordings.append(precision_at_k)\n",
    "\n",
    "    except Exception as e:\n",
    "        print(f\"Error processing player_id {player_id}: {e}\")\n",
    "        pass\n",
    "\n",
    "\n",
    "precision_df = pd.DataFrame(precisions_recordings, columns=[\"Precision\"])\n",
    "\n",
    "precision_df.Precision.hist(bins=10, color='skyblue', edgecolor='black')\n",
    "plt.xlabel(\"Precision\")\n",
    "plt.ylabel(\"Frequency\")\n",
    "plt.title(\"Histogram of Precision Recordings\")\n",
    "\n",
    "plt.show();\n",
    "\n",
    "\n",
    "\n"
   ]
  },
  {
   "cell_type": "code",
   "execution_count": 26,
   "id": "26d10668",
   "metadata": {},
   "outputs": [
    {
     "data": {
      "text/html": [
       "<div>\n",
       "<style scoped>\n",
       "    .dataframe tbody tr th:only-of-type {\n",
       "        vertical-align: middle;\n",
       "    }\n",
       "\n",
       "    .dataframe tbody tr th {\n",
       "        vertical-align: top;\n",
       "    }\n",
       "\n",
       "    .dataframe thead th {\n",
       "        text-align: right;\n",
       "    }\n",
       "</style>\n",
       "<table border=\"1\" class=\"dataframe\">\n",
       "  <thead>\n",
       "    <tr style=\"text-align: right;\">\n",
       "      <th></th>\n",
       "      <th>Precision</th>\n",
       "    </tr>\n",
       "  </thead>\n",
       "  <tbody>\n",
       "    <tr>\n",
       "      <th>count</th>\n",
       "      <td>384.000000</td>\n",
       "    </tr>\n",
       "    <tr>\n",
       "      <th>mean</th>\n",
       "      <td>90.911458</td>\n",
       "    </tr>\n",
       "    <tr>\n",
       "      <th>std</th>\n",
       "      <td>8.788342</td>\n",
       "    </tr>\n",
       "    <tr>\n",
       "      <th>min</th>\n",
       "      <td>0.000000</td>\n",
       "    </tr>\n",
       "    <tr>\n",
       "      <th>25%</th>\n",
       "      <td>90.000000</td>\n",
       "    </tr>\n",
       "    <tr>\n",
       "      <th>50%</th>\n",
       "      <td>90.000000</td>\n",
       "    </tr>\n",
       "    <tr>\n",
       "      <th>75%</th>\n",
       "      <td>90.000000</td>\n",
       "    </tr>\n",
       "    <tr>\n",
       "      <th>max</th>\n",
       "      <td>100.000000</td>\n",
       "    </tr>\n",
       "  </tbody>\n",
       "</table>\n",
       "</div>"
      ],
      "text/plain": [
       "        Precision\n",
       "count  384.000000\n",
       "mean    90.911458\n",
       "std      8.788342\n",
       "min      0.000000\n",
       "25%     90.000000\n",
       "50%     90.000000\n",
       "75%     90.000000\n",
       "max    100.000000"
      ]
     },
     "execution_count": 26,
     "metadata": {},
     "output_type": "execute_result"
    }
   ],
   "source": [
    "precision_df.describe()"
   ]
  },
  {
   "cell_type": "markdown",
   "id": "eff00c78",
   "metadata": {},
   "source": [
    "<i>The histogram of precision recordings shows that the recommender system performs exceptionally well for the majority of players. The dominant peak at 100% precision indicates that over 300 players received perfect recommendations, meaning all their top recommendations were relevant. A smaller number of players achieved precision scores between 40% and 90%, with very few cases below 40%. The presence of a few outliers at 0% suggests that the system occasionally fails to provide relevant recommendations for certain players, but these cases are rare.</i>"
   ]
  },
  {
   "cell_type": "markdown",
   "id": "fca146e6",
   "metadata": {},
   "source": [
    "### Collaborative Filtering using Random Forest\n",
    "\n",
    "In this approach, we combine the rule-based system with a Random Forest model to perform collaborative filtering and make player recommendations. The goal is to suggest players similar to the one provided by the user input, with recommendations based on both historical performance and other features. The Random Forest model, a type of ensemble learning, creates multiple decision trees and aggregates their results to make more accurate predictions.\n",
    "\n",
    "Random Forest differs from the previous Singular Value Decomposition (SVD) approach in its technique. Instead of identifying latent features through matrix factorization like SVD, Random Forest focuses on creating multiple decision trees to handle complex relationships and interactions within the data. It captures non-linear patterns, making it highly effective for problems where features interact in intricate ways.\n",
    "\n",
    "While the SVD-based approach breaks down the data into lower-dimensional latent features, the Random Forest approach works by building decision trees that improve over time with more data. It is more flexible and robust when dealing with noisy or highly varied data and performs well in cases where traditional matrix factorization methods might struggle.\n",
    "\n",
    "Compared to the rank-based rule-based approach, Random Forest offers more predictive power, especially in large and complex datasets, where interactions between features need to be captured. The rule-based method, while easier to explain and implement, does not account for the complexities and interdependencies that a Random Forest model can uncover."
   ]
  },
  {
   "cell_type": "code",
   "execution_count": 27,
   "id": "c393a741",
   "metadata": {},
   "outputs": [
    {
     "name": "stdout",
     "output_type": "stream",
     "text": [
      "Top 5 recommended players similar to player_id 270\n",
      "      player_id     player_name          team     archetype\n",
      "1249        333     Sean Wilson  UnitedWeCode  elite_scorer\n",
      "972         288  Shelley Knight    VBADragons  elite_scorer\n",
      "862         125     Anna Curtis    VBADragons  elite_scorer\n",
      "739         330    Theresa Cook  UnitedWeCode  elite_scorer\n",
      "1087         79  Jessica Mathis    VBADragons  elite_scorer\n",
      "\n",
      "Top 5 recommendations similar to 270 excluding unavailable players:\n",
      "     player_id     player_name          team     archetype\n",
      "972        288  Shelley Knight    VBADragons  elite_scorer\n",
      "862        125     Anna Curtis    VBADragons  elite_scorer\n",
      "739        330    Theresa Cook  UnitedWeCode  elite_scorer\n",
      "27          39      James Mack     BIsupremE  elite_scorer\n",
      "984        305      John Gomez    VBADragons  elite_scorer\n"
     ]
    }
   ],
   "source": [
    "# Initialize recommender\n",
    "from FantasyRF import FantasyRecommenderRF\n",
    "fantasy_rec = FantasyRecommenderRF(df)\n",
    "player_id = 270 \n",
    "\n",
    "recommendations = fantasy_rec.get_recommendations(player_id, top_n=5)\n",
    "\n",
    "print(f\"Top 5 recommended players similar to player_id {player_id}\")\n",
    "print(recommendations[['player_id','player_name', 'team', 'archetype']])\n",
    "\n",
    "# Simulate making some players unavailable (update unavailable_players set)\n",
    "unavailable_players = [333, 205,79]  \n",
    "fantasy_rec.update_unavailable_players(unavailable_players)\n",
    "\n",
    "# Get recommendations considering unavailable players\n",
    "recommendations_updated = fantasy_rec.get_recommendations(player_id, top_n=5)\n",
    "\n",
    "# Print recommendations excluding unavailable players\n",
    "print(f\"\\nTop 5 recommendations similar to {player_id} excluding unavailable players:\")\n",
    "print(recommendations_updated[['player_id','player_name', 'team', 'archetype']])"
   ]
  },
  {
   "cell_type": "code",
   "execution_count": 29,
   "id": "c39152c0",
   "metadata": {},
   "outputs": [
    {
     "name": "stdout",
     "output_type": "stream",
     "text": [
      "Top 5 recommended players similar to player_id 270\n",
      "      player_id     player_name          team     archetype\n",
      "1249        333     Sean Wilson  UnitedWeCode  elite_scorer\n",
      "972         288  Shelley Knight    VBADragons  elite_scorer\n",
      "862         125     Anna Curtis    VBADragons  elite_scorer\n",
      "739         330    Theresa Cook  UnitedWeCode  elite_scorer\n",
      "1087         79  Jessica Mathis    VBADragons  elite_scorer\n",
      "\n",
      "Precision at K for initial recommendations for player_id 270: 100.00%\n",
      "\n",
      "Top 5 recommendations similar to 270 excluding unavailable players:\n",
      "     player_id    player_name          team     archetype\n",
      "862        125    Anna Curtis    VBADragons  elite_scorer\n",
      "739        330   Theresa Cook  UnitedWeCode  elite_scorer\n",
      "129        205  Angel Blevins      SkyBirds  elite_scorer\n",
      "27          39     James Mack     BIsupremE  elite_scorer\n",
      "984        305     John Gomez    VBADragons  elite_scorer\n",
      "\n",
      "Precision at K for updated recommendations (excluding unavailable players) for player_id 270: 100.00%\n"
     ]
    }
   ],
   "source": [
    "# Initialize recommender\n",
    "from FantasyRF import FantasyRecommenderRF\n",
    "fantasy_rec = FantasyRecommenderRF(df)\n",
    "player_id = 270 \n",
    "\n",
    "# Get initial recommendations (before excluding unavailable players)\n",
    "initial_recommendations = fantasy_rec.get_recommendations(player_id, top_n=5)\n",
    "print(f\"Top 5 recommended players similar to player_id {player_id}\")\n",
    "print(initial_recommendations[['player_id', 'player_name', 'team', 'archetype']])\n",
    "\n",
    "# Calculate precision at K for initial recommendations\n",
    "precision_initial = fantasy_rec.precisionK(player_id, initial_recommendations)\n",
    "\n",
    "# Print precision for initial recommendations\n",
    "print(f\"\\nPrecision at K for initial recommendations for player_id {player_id}: {precision_initial:.2f}%\")\n",
    "\n",
    "# Simulate making some players unavailable (update unavailable_players set)\n",
    "unavailable_players = [333, 288, 79]  \n",
    "fantasy_rec.update_unavailable_players(unavailable_players)\n",
    "\n",
    "# Get updated recommendations (excluding unavailable players)\n",
    "updated_recommendations = fantasy_rec.get_recommendations(player_id, top_n=5)\n",
    "\n",
    "# Print updated recommendations excluding unavailable players\n",
    "print(f\"\\nTop 5 recommendations similar to {player_id} excluding unavailable players:\")\n",
    "print(updated_recommendations[['player_id', 'player_name', 'team', 'archetype']])\n",
    "\n",
    "# Calculate precision at K for updated recommendations\n",
    "precision_updated = fantasy_rec.precisionK(player_id, updated_recommendations)\n",
    "\n",
    "# Print precision for updated recommendations\n",
    "print(f\"\\nPrecision at K for updated recommendations (excluding unavailable players) for player_id {player_id}: {precision_updated:.2f}%\")\n"
   ]
  },
  {
   "cell_type": "code",
   "execution_count": null,
   "id": "b6a6901c",
   "metadata": {},
   "outputs": [],
   "source": []
  }
 ],
 "metadata": {
  "kernelspec": {
   "display_name": "DataScience",
   "language": "python",
   "name": "python3"
  },
  "language_info": {
   "codemirror_mode": {
    "name": "ipython",
    "version": 3
   },
   "file_extension": ".py",
   "mimetype": "text/x-python",
   "name": "python",
   "nbconvert_exporter": "python",
   "pygments_lexer": "ipython3",
   "version": "3.12.3"
  }
 },
 "nbformat": 4,
 "nbformat_minor": 5
}
