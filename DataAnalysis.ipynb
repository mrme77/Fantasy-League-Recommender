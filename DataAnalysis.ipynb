{
 "cells": [
  {
   "cell_type": "markdown",
   "id": "6a585626",
   "metadata": {},
   "source": [
    "# Basketball Fantasy League Recommender System\n",
    "\n",
    "This Jupyter notebook is part of a comprehensive educational project that demonstrates the integration of data engineering and machine learning concepts. The project showcases three key components: API development, ETL (Extract, Transform, Load) processes, and recommender systems. Specifically, we leverage a custom-built BasketballAPI that generates fictional basketball player data and statistics across multiple seasons by simulating the `nba_api` which is an API Client for www.nba.com. This data is then processed through a Python-based ETL pipeline that cleanly transforms and stores the information in a CSV format. Ultimately, we use different type of recommender systems to solve a fictional fantasy league problem.\n",
    "\n",
    "The project follows the CRISP-DM (Cross-Industry Standard Process for Data Mining) methodology, which provides a structured approach through six key phases:\n",
    "1. **Business Understanding**: Defining the need for a fantasy basketball recommender system\n",
    "2. **Data Understanding**: Analyzing the BasketballAPI data structure and statistical patterns\n",
    "3. **Data Preparation**: ETL processes to clean and transform the raw API data\n",
    "4. **Modeling**: Implementing various recommender system algorithms\n",
    "5. **Evaluation**: Testing the recommendations' accuracy and relevance\n",
    "6. **Deployment**: Creating a usable system for fantasy basketball managers\n",
    "\n",
    "While the project encompasses multiple technical aspects, this notebook primarily focuses on building and evaluating different recommender system techniques to suggest similar players based on their statistical performance and characteristics. This practical approach allows us to explore real-world applications of data science while working with a controlled, yet realistic dataset that simulates five seasons of basketball data across 390 players and multiple teams."
   ]
  },
  {
   "cell_type": "markdown",
   "id": "6d9e29af",
   "metadata": {},
   "source": [
    "### Import Modules - Loading Data"
   ]
  },
  {
   "cell_type": "code",
   "execution_count": 1,
   "id": "9fd399d5",
   "metadata": {},
   "outputs": [],
   "source": [
    "import pandas as pd\n",
    "import numpy as np\n",
    "import matplotlib.pyplot as plt\n",
    "import pickle\n",
    "import seaborn as sns\n",
    "from sklearn.preprocessing import MinMaxScaler\n",
    "from sklearn.preprocessing import StandardScaler\n",
    "from BasicRec import FantasyReccomenderBasic\n",
    "from FantasyAdvanced import FantasyRecommenderAdvanced\n",
    "from sklearn.decomposition import TruncatedSVD\n",
    "from sklearn.metrics.pairwise import cosine_similarity\n",
    "from sklearn.model_selection import train_test_split\n",
    "pd.set_option('display.max_colwidth', 800)\n",
    "%matplotlib inline"
   ]
  },
  {
   "cell_type": "code",
   "execution_count": 2,
   "id": "fd061f23",
   "metadata": {},
   "outputs": [],
   "source": [
    "df = pd.read_csv('basketball_data.csv')"
   ]
  },
  {
   "cell_type": "markdown",
   "id": "ff0f10f7",
   "metadata": {},
   "source": [
    "### Exploratory Data Analysis (EDA)"
   ]
  },
  {
   "cell_type": "code",
   "execution_count": 3,
   "id": "dbd18ea7",
   "metadata": {},
   "outputs": [
    {
     "data": {
      "text/html": [
       "<div>\n",
       "<style scoped>\n",
       "    .dataframe tbody tr th:only-of-type {\n",
       "        vertical-align: middle;\n",
       "    }\n",
       "\n",
       "    .dataframe tbody tr th {\n",
       "        vertical-align: top;\n",
       "    }\n",
       "\n",
       "    .dataframe thead th {\n",
       "        text-align: right;\n",
       "    }\n",
       "</style>\n",
       "<table border=\"1\" class=\"dataframe\">\n",
       "  <thead>\n",
       "    <tr style=\"text-align: right;\">\n",
       "      <th></th>\n",
       "      <th>player_id</th>\n",
       "      <th>player_name</th>\n",
       "      <th>archetype</th>\n",
       "      <th>season</th>\n",
       "      <th>team</th>\n",
       "      <th>games_played</th>\n",
       "      <th>minutes</th>\n",
       "      <th>points</th>\n",
       "      <th>rebounds</th>\n",
       "      <th>assists</th>\n",
       "      <th>steals</th>\n",
       "      <th>blocks</th>\n",
       "      <th>fg_pct</th>\n",
       "      <th>fg3_pct</th>\n",
       "      <th>ft_pct</th>\n",
       "    </tr>\n",
       "  </thead>\n",
       "  <tbody>\n",
       "    <tr>\n",
       "      <th>0</th>\n",
       "      <td>0</td>\n",
       "      <td>Robert Smith</td>\n",
       "      <td>regular</td>\n",
       "      <td>2019-20</td>\n",
       "      <td>SkyBirds</td>\n",
       "      <td>55</td>\n",
       "      <td>36.3</td>\n",
       "      <td>5.4</td>\n",
       "      <td>3.9</td>\n",
       "      <td>NaN</td>\n",
       "      <td>1.2</td>\n",
       "      <td>0.2</td>\n",
       "      <td>0.400</td>\n",
       "      <td>0.302</td>\n",
       "      <td>0.709</td>\n",
       "    </tr>\n",
       "    <tr>\n",
       "      <th>1</th>\n",
       "      <td>1</td>\n",
       "      <td>Mandy Evans</td>\n",
       "      <td>regular</td>\n",
       "      <td>2019-20</td>\n",
       "      <td>SparkiFY</td>\n",
       "      <td>38</td>\n",
       "      <td>14.8</td>\n",
       "      <td>17.9</td>\n",
       "      <td>5.9</td>\n",
       "      <td>3.9</td>\n",
       "      <td>1.6</td>\n",
       "      <td>0.5</td>\n",
       "      <td>0.431</td>\n",
       "      <td>0.369</td>\n",
       "      <td>0.734</td>\n",
       "    </tr>\n",
       "    <tr>\n",
       "      <th>2</th>\n",
       "      <td>2</td>\n",
       "      <td>Miguel Lee</td>\n",
       "      <td>regular</td>\n",
       "      <td>2019-20</td>\n",
       "      <td>SkyBirds</td>\n",
       "      <td>79</td>\n",
       "      <td>17.2</td>\n",
       "      <td>10.1</td>\n",
       "      <td>7.2</td>\n",
       "      <td>2.5</td>\n",
       "      <td>1.4</td>\n",
       "      <td>1.2</td>\n",
       "      <td>0.432</td>\n",
       "      <td>0.322</td>\n",
       "      <td>0.792</td>\n",
       "    </tr>\n",
       "    <tr>\n",
       "      <th>3</th>\n",
       "      <td>3</td>\n",
       "      <td>Ashlee Martin</td>\n",
       "      <td>regular</td>\n",
       "      <td>2019-20</td>\n",
       "      <td>HtmlERS</td>\n",
       "      <td>46</td>\n",
       "      <td>31.6</td>\n",
       "      <td>11.6</td>\n",
       "      <td>7.0</td>\n",
       "      <td>3.5</td>\n",
       "      <td>0.5</td>\n",
       "      <td>1.1</td>\n",
       "      <td>0.474</td>\n",
       "      <td>0.365</td>\n",
       "      <td>0.739</td>\n",
       "    </tr>\n",
       "    <tr>\n",
       "      <th>4</th>\n",
       "      <td>4</td>\n",
       "      <td>David Hamilton</td>\n",
       "      <td>regular</td>\n",
       "      <td>2019-20</td>\n",
       "      <td>SparkiFY</td>\n",
       "      <td>37</td>\n",
       "      <td>31.9</td>\n",
       "      <td>8.9</td>\n",
       "      <td>6.4</td>\n",
       "      <td>NaN</td>\n",
       "      <td>1.7</td>\n",
       "      <td>0.8</td>\n",
       "      <td>0.433</td>\n",
       "      <td>0.329</td>\n",
       "      <td>NaN</td>\n",
       "    </tr>\n",
       "  </tbody>\n",
       "</table>\n",
       "</div>"
      ],
      "text/plain": [
       "   player_id     player_name archetype   season      team  games_played  \\\n",
       "0          0    Robert Smith   regular  2019-20  SkyBirds            55   \n",
       "1          1     Mandy Evans   regular  2019-20  SparkiFY            38   \n",
       "2          2      Miguel Lee   regular  2019-20  SkyBirds            79   \n",
       "3          3   Ashlee Martin   regular  2019-20   HtmlERS            46   \n",
       "4          4  David Hamilton   regular  2019-20  SparkiFY            37   \n",
       "\n",
       "   minutes  points  rebounds  assists  steals  blocks  fg_pct  fg3_pct  ft_pct  \n",
       "0     36.3     5.4       3.9      NaN     1.2     0.2   0.400    0.302   0.709  \n",
       "1     14.8    17.9       5.9      3.9     1.6     0.5   0.431    0.369   0.734  \n",
       "2     17.2    10.1       7.2      2.5     1.4     1.2   0.432    0.322   0.792  \n",
       "3     31.6    11.6       7.0      3.5     0.5     1.1   0.474    0.365   0.739  \n",
       "4     31.9     8.9       6.4      NaN     1.7     0.8   0.433    0.329     NaN  "
      ]
     },
     "execution_count": 3,
     "metadata": {},
     "output_type": "execute_result"
    }
   ],
   "source": [
    "df.head()"
   ]
  },
  {
   "cell_type": "code",
   "execution_count": 4,
   "id": "b0b7a7be",
   "metadata": {},
   "outputs": [
    {
     "name": "stdout",
     "output_type": "stream",
     "text": [
      " The dataframe has 1950 records and 15 attributes.\n"
     ]
    }
   ],
   "source": [
    "print(f\" The dataframe has {df.shape[0]} records and {df.shape[1]} attributes.\")"
   ]
  },
  {
   "cell_type": "code",
   "execution_count": 5,
   "id": "0aa2be87",
   "metadata": {},
   "outputs": [
    {
     "data": {
      "text/plain": [
       "player_id         int64\n",
       "player_name      object\n",
       "archetype        object\n",
       "season           object\n",
       "team             object\n",
       "games_played      int64\n",
       "minutes         float64\n",
       "points          float64\n",
       "rebounds        float64\n",
       "assists         float64\n",
       "steals          float64\n",
       "blocks          float64\n",
       "fg_pct          float64\n",
       "fg3_pct         float64\n",
       "ft_pct          float64\n",
       "dtype: object"
      ]
     },
     "execution_count": 5,
     "metadata": {},
     "output_type": "execute_result"
    }
   ],
   "source": [
    "df.dtypes"
   ]
  },
  {
   "cell_type": "markdown",
   "id": "443ec1f1",
   "metadata": {},
   "source": [
    "<p><i>Does this dataframe present duplicate values? </i></p>"
   ]
  },
  {
   "cell_type": "code",
   "execution_count": 6,
   "id": "ba6bdb2e",
   "metadata": {},
   "outputs": [
    {
     "name": "stdout",
     "output_type": "stream",
     "text": [
      "The dataframe should contain 390 unique player\n"
     ]
    }
   ],
   "source": [
    "print(f\"The dataframe should contain {df.player_id.nunique()} unique player\")"
   ]
  },
  {
   "cell_type": "code",
   "execution_count": 7,
   "id": "629c9599",
   "metadata": {},
   "outputs": [
    {
     "data": {
      "text/plain": [
       "season\n",
       "2019-20    390\n",
       "2020-21    390\n",
       "2021-22    390\n",
       "2022-23    390\n",
       "2023-24    390\n",
       "Name: player_id, dtype: int64"
      ]
     },
     "execution_count": 7,
     "metadata": {},
     "output_type": "execute_result"
    }
   ],
   "source": [
    "df.groupby('season')['player_id'].count()"
   ]
  },
  {
   "cell_type": "markdown",
   "id": "c28e6d6a",
   "metadata": {},
   "source": [
    "<p> <i> Is the relation player-team unique, or do players change team during the course of five seasons? if they do change, what is the ratio?</p>"
   ]
  },
  {
   "cell_type": "code",
   "execution_count": 8,
   "id": "609c0a5f",
   "metadata": {},
   "outputs": [],
   "source": [
    "players_swapped = df.groupby('player_id')['team']\\\n",
    "    .nunique()\\\n",
    "    .reset_index()\\\n",
    "    .rename(columns={'team': 'unique_teams'})\n",
    "players_swapped_list = players_swapped[players_swapped['unique_teams']>1]\\\n",
    "                                                 ['player_id'].tolist()\n"
   ]
  },
  {
   "cell_type": "code",
   "execution_count": 9,
   "id": "403def4a",
   "metadata": {},
   "outputs": [
    {
     "name": "stdout",
     "output_type": "stream",
     "text": [
      "Out of 390 players during the 5 seasons analyzed, 40 players changed teams, which is a ratio of 0.10.\n"
     ]
    }
   ],
   "source": [
    "print(\n",
    "    f\"Out of {df.player_id.nunique()} players during the 5 seasons analyzed, \"\n",
    "    f\"{len(players_swapped_list)} players changed teams, which is a ratio of \"\n",
    "    f\"{len(players_swapped_list) / df.player_id.nunique():.2f}.\"\n",
    ")\n"
   ]
  },
  {
   "cell_type": "markdown",
   "id": "7340d4c1",
   "metadata": {},
   "source": [
    "<p> <i>Does the dataframe presents any null values?</i></p>\n"
   ]
  },
  {
   "cell_type": "code",
   "execution_count": 10,
   "id": "7bde1887",
   "metadata": {},
   "outputs": [
    {
     "data": {
      "text/plain": [
       "player_id       False\n",
       "player_name     False\n",
       "archetype       False\n",
       "season          False\n",
       "team            False\n",
       "games_played    False\n",
       "minutes         False\n",
       "points           True\n",
       "rebounds         True\n",
       "assists          True\n",
       "steals           True\n",
       "blocks           True\n",
       "fg_pct           True\n",
       "fg3_pct          True\n",
       "ft_pct           True\n",
       "dtype: bool"
      ]
     },
     "execution_count": 10,
     "metadata": {},
     "output_type": "execute_result"
    }
   ],
   "source": [
    "df.isnull().any()"
   ]
  },
  {
   "cell_type": "code",
   "execution_count": 11,
   "id": "82311980",
   "metadata": {},
   "outputs": [
    {
     "name": "stdout",
     "output_type": "stream",
     "text": [
      " There are 8 attribues with missing values\n"
     ]
    }
   ],
   "source": [
    "print(f\" There are {df.isnull().any().sum()} attribues with missing values\")"
   ]
  },
  {
   "cell_type": "code",
   "execution_count": 12,
   "id": "625fdc83",
   "metadata": {},
   "outputs": [
    {
     "name": "stdout",
     "output_type": "stream",
     "text": [
      "points      5.435897\n",
      "rebounds    5.435897\n",
      "assists     5.538462\n",
      "steals      4.358974\n",
      "blocks      4.205128\n",
      "fg_pct      3.538462\n",
      "fg3_pct     5.384615\n",
      "ft_pct      5.230769\n",
      "dtype: float64\n"
     ]
    }
   ],
   "source": [
    "#(df.isnull().sum() / df.shape[0])\n",
    "missing_percentage = (df.isnull().sum() / df.shape[0]) * 100\n",
    "missing_percentage = missing_percentage[missing_percentage > 0]  \n",
    "print(missing_percentage)\n"
   ]
  },
  {
   "cell_type": "code",
   "execution_count": 13,
   "id": "0d84b76a",
   "metadata": {},
   "outputs": [
    {
     "name": "stdout",
     "output_type": "stream",
     "text": [
      " On average these fields have 4.9 of missing values\n"
     ]
    }
   ],
   "source": [
    "print(f\" On average these fields have {round(missing_percentage.mean(),1)} of missing values\")"
   ]
  },
  {
   "cell_type": "markdown",
   "id": "726c0c9a",
   "metadata": {},
   "source": [
    "<p>  <i>This is something to keep into account as we develop our models.Next we to observe the distributions of some attributes. Now let's look at some summary statics.</i></p>"
   ]
  },
  {
   "cell_type": "code",
   "execution_count": 14,
   "id": "f1cd01bd",
   "metadata": {},
   "outputs": [
    {
     "data": {
      "text/html": [
       "<div>\n",
       "<style scoped>\n",
       "    .dataframe tbody tr th:only-of-type {\n",
       "        vertical-align: middle;\n",
       "    }\n",
       "\n",
       "    .dataframe tbody tr th {\n",
       "        vertical-align: top;\n",
       "    }\n",
       "\n",
       "    .dataframe thead th {\n",
       "        text-align: right;\n",
       "    }\n",
       "</style>\n",
       "<table border=\"1\" class=\"dataframe\">\n",
       "  <thead>\n",
       "    <tr style=\"text-align: right;\">\n",
       "      <th></th>\n",
       "      <th>games_played</th>\n",
       "      <th>minutes</th>\n",
       "      <th>points</th>\n",
       "      <th>rebounds</th>\n",
       "      <th>assists</th>\n",
       "      <th>steals</th>\n",
       "      <th>blocks</th>\n",
       "      <th>fg_pct</th>\n",
       "      <th>fg3_pct</th>\n",
       "      <th>ft_pct</th>\n",
       "    </tr>\n",
       "  </thead>\n",
       "  <tbody>\n",
       "    <tr>\n",
       "      <th>count</th>\n",
       "      <td>1950.000000</td>\n",
       "      <td>1950.000000</td>\n",
       "      <td>1844.000000</td>\n",
       "      <td>1844.000000</td>\n",
       "      <td>1842.000000</td>\n",
       "      <td>1865.000000</td>\n",
       "      <td>1868.000000</td>\n",
       "      <td>1881.000000</td>\n",
       "      <td>1845.000000</td>\n",
       "      <td>1848.000000</td>\n",
       "    </tr>\n",
       "    <tr>\n",
       "      <th>mean</th>\n",
       "      <td>51.735385</td>\n",
       "      <td>25.105949</td>\n",
       "      <td>11.420174</td>\n",
       "      <td>4.495824</td>\n",
       "      <td>3.033659</td>\n",
       "      <td>1.009330</td>\n",
       "      <td>0.641328</td>\n",
       "      <td>0.446874</td>\n",
       "      <td>0.330622</td>\n",
       "      <td>0.752390</td>\n",
       "    </tr>\n",
       "    <tr>\n",
       "      <th>std</th>\n",
       "      <td>18.249953</td>\n",
       "      <td>7.595495</td>\n",
       "      <td>5.761876</td>\n",
       "      <td>1.934746</td>\n",
       "      <td>1.938258</td>\n",
       "      <td>0.537009</td>\n",
       "      <td>0.426800</td>\n",
       "      <td>0.048509</td>\n",
       "      <td>0.036472</td>\n",
       "      <td>0.067144</td>\n",
       "    </tr>\n",
       "    <tr>\n",
       "      <th>min</th>\n",
       "      <td>20.000000</td>\n",
       "      <td>12.100000</td>\n",
       "      <td>2.000000</td>\n",
       "      <td>1.000000</td>\n",
       "      <td>0.500000</td>\n",
       "      <td>0.000000</td>\n",
       "      <td>0.000000</td>\n",
       "      <td>0.350000</td>\n",
       "      <td>0.250000</td>\n",
       "      <td>0.601000</td>\n",
       "    </tr>\n",
       "    <tr>\n",
       "      <th>25%</th>\n",
       "      <td>36.000000</td>\n",
       "      <td>18.400000</td>\n",
       "      <td>7.400000</td>\n",
       "      <td>3.100000</td>\n",
       "      <td>1.700000</td>\n",
       "      <td>0.600000</td>\n",
       "      <td>0.400000</td>\n",
       "      <td>0.413000</td>\n",
       "      <td>0.306000</td>\n",
       "      <td>0.706000</td>\n",
       "    </tr>\n",
       "    <tr>\n",
       "      <th>50%</th>\n",
       "      <td>52.000000</td>\n",
       "      <td>25.150000</td>\n",
       "      <td>10.700000</td>\n",
       "      <td>4.200000</td>\n",
       "      <td>2.700000</td>\n",
       "      <td>0.900000</td>\n",
       "      <td>0.500000</td>\n",
       "      <td>0.443000</td>\n",
       "      <td>0.329000</td>\n",
       "      <td>0.748000</td>\n",
       "    </tr>\n",
       "    <tr>\n",
       "      <th>75%</th>\n",
       "      <td>68.000000</td>\n",
       "      <td>31.900000</td>\n",
       "      <td>14.400000</td>\n",
       "      <td>5.800000</td>\n",
       "      <td>3.800000</td>\n",
       "      <td>1.300000</td>\n",
       "      <td>0.800000</td>\n",
       "      <td>0.476000</td>\n",
       "      <td>0.354000</td>\n",
       "      <td>0.801000</td>\n",
       "    </tr>\n",
       "    <tr>\n",
       "      <th>max</th>\n",
       "      <td>82.000000</td>\n",
       "      <td>38.000000</td>\n",
       "      <td>34.800000</td>\n",
       "      <td>12.000000</td>\n",
       "      <td>11.900000</td>\n",
       "      <td>3.000000</td>\n",
       "      <td>3.000000</td>\n",
       "      <td>0.647000</td>\n",
       "      <td>0.449000</td>\n",
       "      <td>0.947000</td>\n",
       "    </tr>\n",
       "  </tbody>\n",
       "</table>\n",
       "</div>"
      ],
      "text/plain": [
       "       games_played      minutes       points     rebounds      assists  \\\n",
       "count   1950.000000  1950.000000  1844.000000  1844.000000  1842.000000   \n",
       "mean      51.735385    25.105949    11.420174     4.495824     3.033659   \n",
       "std       18.249953     7.595495     5.761876     1.934746     1.938258   \n",
       "min       20.000000    12.100000     2.000000     1.000000     0.500000   \n",
       "25%       36.000000    18.400000     7.400000     3.100000     1.700000   \n",
       "50%       52.000000    25.150000    10.700000     4.200000     2.700000   \n",
       "75%       68.000000    31.900000    14.400000     5.800000     3.800000   \n",
       "max       82.000000    38.000000    34.800000    12.000000    11.900000   \n",
       "\n",
       "            steals       blocks       fg_pct      fg3_pct       ft_pct  \n",
       "count  1865.000000  1868.000000  1881.000000  1845.000000  1848.000000  \n",
       "mean      1.009330     0.641328     0.446874     0.330622     0.752390  \n",
       "std       0.537009     0.426800     0.048509     0.036472     0.067144  \n",
       "min       0.000000     0.000000     0.350000     0.250000     0.601000  \n",
       "25%       0.600000     0.400000     0.413000     0.306000     0.706000  \n",
       "50%       0.900000     0.500000     0.443000     0.329000     0.748000  \n",
       "75%       1.300000     0.800000     0.476000     0.354000     0.801000  \n",
       "max       3.000000     3.000000     0.647000     0.449000     0.947000  "
      ]
     },
     "execution_count": 14,
     "metadata": {},
     "output_type": "execute_result"
    }
   ],
   "source": [
    "df.iloc[:,1:].describe()"
   ]
  },
  {
   "cell_type": "markdown",
   "id": "d8394c25",
   "metadata": {},
   "source": [
    "<p> <i> The attribute games_played appears to have higher variation. It would be helpful to plot the related histogram.</i></p>"
   ]
  },
  {
   "cell_type": "code",
   "execution_count": 15,
   "id": "c6cbeda5",
   "metadata": {},
   "outputs": [
    {
     "data": {
      "image/png": "[encoded data removed]",
      "text/plain": [
       "<Figure size 1000x400 with 1 Axes>"
      ]
     },
     "metadata": {},
     "output_type": "display_data"
    }
   ],
   "source": [
    "# Create histogram\n",
    "plt.figure(figsize=(10, 4))\n",
    "plt.hist(df['games_played'], bins=50)\n",
    "plt.title('Distribution of Games Played')\n",
    "plt.xlabel('Number of Games')\n",
    "plt.ylabel('Count')\n",
    "plt.show()"
   ]
  },
  {
   "cell_type": "markdown",
   "id": "07467599",
   "metadata": {},
   "source": [
    "<p> <i> A box-plot could help identify any outliers. </i></p>"
   ]
  },
  {
   "cell_type": "code",
   "execution_count": 16,
   "id": "d2037b7a",
   "metadata": {},
   "outputs": [
    {
     "data": {
      "image/png": "[encoded data removed]",
      "text/plain": [
       "<Figure size 1000x400 with 1 Axes>"
      ]
     },
     "metadata": {},
     "output_type": "display_data"
    }
   ],
   "source": [
    "# Create box plot\n",
    "plt.figure(figsize=(10, 4))\n",
    "plt.boxplot(df.games_played)\n",
    "plt.title('Box Plot of Games Played')\n",
    "plt.ylabel('Number of Games')\n",
    "plt.show();"
   ]
  },
  {
   "cell_type": "markdown",
   "id": "b0a38408",
   "metadata": {},
   "source": [
    "<p><i> The box plot of the games_played attribute doesn't present any outliers. Considering the implaction of null values and the fact that there is only a 5% percentage we will proceed to eliminate such values from the dataset used for this project. </i></p>"
   ]
  },
  {
   "cell_type": "code",
   "execution_count": 17,
   "id": "207fabca",
   "metadata": {},
   "outputs": [
    {
     "data": {
      "text/html": [
       "<div>\n",
       "<style scoped>\n",
       "    .dataframe tbody tr th:only-of-type {\n",
       "        vertical-align: middle;\n",
       "    }\n",
       "\n",
       "    .dataframe tbody tr th {\n",
       "        vertical-align: top;\n",
       "    }\n",
       "\n",
       "    .dataframe thead th {\n",
       "        text-align: right;\n",
       "    }\n",
       "</style>\n",
       "<table border=\"1\" class=\"dataframe\">\n",
       "  <thead>\n",
       "    <tr style=\"text-align: right;\">\n",
       "      <th></th>\n",
       "      <th>player_id</th>\n",
       "      <th>player_name</th>\n",
       "      <th>archetype</th>\n",
       "      <th>season</th>\n",
       "      <th>team</th>\n",
       "      <th>games_played</th>\n",
       "      <th>minutes</th>\n",
       "      <th>points</th>\n",
       "      <th>rebounds</th>\n",
       "      <th>assists</th>\n",
       "      <th>steals</th>\n",
       "      <th>blocks</th>\n",
       "      <th>fg_pct</th>\n",
       "      <th>fg3_pct</th>\n",
       "      <th>ft_pct</th>\n",
       "    </tr>\n",
       "  </thead>\n",
       "  <tbody>\n",
       "    <tr>\n",
       "      <th>0</th>\n",
       "      <td>1</td>\n",
       "      <td>Mandy Evans</td>\n",
       "      <td>regular</td>\n",
       "      <td>2019-20</td>\n",
       "      <td>SparkiFY</td>\n",
       "      <td>38</td>\n",
       "      <td>14.8</td>\n",
       "      <td>17.9</td>\n",
       "      <td>5.9</td>\n",
       "      <td>3.9</td>\n",
       "      <td>1.6</td>\n",
       "      <td>0.5</td>\n",
       "      <td>0.431</td>\n",
       "      <td>0.369</td>\n",
       "      <td>0.734</td>\n",
       "    </tr>\n",
       "    <tr>\n",
       "      <th>1</th>\n",
       "      <td>2</td>\n",
       "      <td>Miguel Lee</td>\n",
       "      <td>regular</td>\n",
       "      <td>2019-20</td>\n",
       "      <td>SkyBirds</td>\n",
       "      <td>79</td>\n",
       "      <td>17.2</td>\n",
       "      <td>10.1</td>\n",
       "      <td>7.2</td>\n",
       "      <td>2.5</td>\n",
       "      <td>1.4</td>\n",
       "      <td>1.2</td>\n",
       "      <td>0.432</td>\n",
       "      <td>0.322</td>\n",
       "      <td>0.792</td>\n",
       "    </tr>\n",
       "    <tr>\n",
       "      <th>2</th>\n",
       "      <td>3</td>\n",
       "      <td>Ashlee Martin</td>\n",
       "      <td>regular</td>\n",
       "      <td>2019-20</td>\n",
       "      <td>HtmlERS</td>\n",
       "      <td>46</td>\n",
       "      <td>31.6</td>\n",
       "      <td>11.6</td>\n",
       "      <td>7.0</td>\n",
       "      <td>3.5</td>\n",
       "      <td>0.5</td>\n",
       "      <td>1.1</td>\n",
       "      <td>0.474</td>\n",
       "      <td>0.365</td>\n",
       "      <td>0.739</td>\n",
       "    </tr>\n",
       "    <tr>\n",
       "      <th>3</th>\n",
       "      <td>5</td>\n",
       "      <td>Anna Thompson</td>\n",
       "      <td>regular</td>\n",
       "      <td>2019-20</td>\n",
       "      <td>HtmlERS</td>\n",
       "      <td>23</td>\n",
       "      <td>19.6</td>\n",
       "      <td>13.6</td>\n",
       "      <td>6.6</td>\n",
       "      <td>4.1</td>\n",
       "      <td>1.2</td>\n",
       "      <td>0.7</td>\n",
       "      <td>0.511</td>\n",
       "      <td>0.330</td>\n",
       "      <td>0.838</td>\n",
       "    </tr>\n",
       "    <tr>\n",
       "      <th>4</th>\n",
       "      <td>6</td>\n",
       "      <td>Angela Kelly</td>\n",
       "      <td>regular</td>\n",
       "      <td>2019-20</td>\n",
       "      <td>SkyBirds</td>\n",
       "      <td>41</td>\n",
       "      <td>18.9</td>\n",
       "      <td>10.9</td>\n",
       "      <td>4.9</td>\n",
       "      <td>1.0</td>\n",
       "      <td>0.9</td>\n",
       "      <td>0.3</td>\n",
       "      <td>0.442</td>\n",
       "      <td>0.336</td>\n",
       "      <td>0.781</td>\n",
       "    </tr>\n",
       "  </tbody>\n",
       "</table>\n",
       "</div>"
      ],
      "text/plain": [
       "   player_id    player_name archetype   season      team  games_played  \\\n",
       "0          1    Mandy Evans   regular  2019-20  SparkiFY            38   \n",
       "1          2     Miguel Lee   regular  2019-20  SkyBirds            79   \n",
       "2          3  Ashlee Martin   regular  2019-20   HtmlERS            46   \n",
       "3          5  Anna Thompson   regular  2019-20   HtmlERS            23   \n",
       "4          6   Angela Kelly   regular  2019-20  SkyBirds            41   \n",
       "\n",
       "   minutes  points  rebounds  assists  steals  blocks  fg_pct  fg3_pct  ft_pct  \n",
       "0     14.8    17.9       5.9      3.9     1.6     0.5   0.431    0.369   0.734  \n",
       "1     17.2    10.1       7.2      2.5     1.4     1.2   0.432    0.322   0.792  \n",
       "2     31.6    11.6       7.0      3.5     0.5     1.1   0.474    0.365   0.739  \n",
       "3     19.6    13.6       6.6      4.1     1.2     0.7   0.511    0.330   0.838  \n",
       "4     18.9    10.9       4.9      1.0     0.9     0.3   0.442    0.336   0.781  "
      ]
     },
     "execution_count": 17,
     "metadata": {},
     "output_type": "execute_result"
    }
   ],
   "source": [
    "df = df.dropna(subset=[\n",
    "        'points', 'rebounds', 'assists', 'steals', 'blocks',\n",
    "        'fg_pct', 'fg3_pct', 'ft_pct'\n",
    "    ]).reset_index(drop=True)\n",
    "df.head()"
   ]
  },
  {
   "cell_type": "markdown",
   "id": "450dbaab",
   "metadata": {},
   "source": [
    "### Rank-Based Recommendations\n",
    "\n",
    "In this scenario, we are just getting started with a basketball fantasy league and we have no knowledge of players' interactions from previous fantasy leagues except for player and teams data acquired via API. Thus, a rank-based system (a rule-based recommender) would focus on sorting players according to specific performance metrics and consequent composite score. For the purpose of this project, we can prioritize metrics such as points, rebounds, assists, blocks, and steals, assuming a Head to Head league's scoring system."
   ]
  },
  {
   "cell_type": "code",
   "execution_count": 18,
   "id": "363720b6",
   "metadata": {},
   "outputs": [],
   "source": [
    "# Adding a 'traded' feature: Check if a player changed teams\n",
    "\n",
    "df['traded'] = df.groupby('player_id')['team'].transform('nunique') > 1\n"
   ]
  },
  {
   "cell_type": "code",
   "execution_count": 24,
   "id": "635a665d",
   "metadata": {},
   "outputs": [
    {
     "name": "stdout",
     "output_type": "stream",
     "text": [
      "Top 10 Reccomended Players\n",
      "   player_id     player_name              team  composite_score  traded  \\\n",
      "0        270  Richard Morris        VBADragons         0.631105   False   \n",
      "1        147  Kristen Murphy          SparkiFY         0.616644   False   \n",
      "2         39      James Mack         BIsupremE         0.611875   False   \n",
      "3        330    Theresa Cook      UnitedWeCode         0.601391   False   \n",
      "4        284      Diana Cain           LutammS         0.599319   False   \n",
      "5        241     Todd Garcia        VBADragons         0.599099    True   \n",
      "6        277   Robert Rivera  KeyBoardWarriors         0.579443   False   \n",
      "7        383   Ashley Fisher         BIsupremE         0.569330   False   \n",
      "8        321   Melissa Doyle           HtmlERS         0.565963   False   \n",
      "9        365    Tracey Blair           HtmlERS         0.564878   False   \n",
      "\n",
      "         archetype  \n",
      "0     elite_scorer  \n",
      "1     elite_scorer  \n",
      "2     elite_scorer  \n",
      "3     elite_scorer  \n",
      "4  elite_playmaker  \n",
      "5     elite_scorer  \n",
      "6  elite_playmaker  \n",
      "7  elite_playmaker  \n",
      "8  elite_playmaker  \n",
      "9  elite_playmaker  \n"
     ]
    }
   ],
   "source": [
    "recommender = FantasyReccomenderBasic(df)\n",
    "top_recommendations = recommender.create_rank_based_recommendations(top_n=10)\n",
    "print('Top 10 Reccomended Players')\n",
    "print(top_recommendations)"
   ]
  },
  {
   "cell_type": "code",
   "execution_count": 25,
   "id": "c5ea37d9",
   "metadata": {},
   "outputs": [
    {
     "name": "stdout",
     "output_type": "stream",
     "text": [
      "Coverage: 0.007733952049497293\n",
      "Elite Bias: 1.00\n",
      "Elite Coverage: 0.05\n",
      "\n",
      "Archetype Distribution in Recommendations:\n",
      "archetype\n",
      "elite_scorer       50.0\n",
      "elite_playmaker    50.0\n",
      "Name: proportion, dtype: float64\n"
     ]
    }
   ],
   "source": [
    "coverage = len(top_recommendations) / len(df)\n",
    "archetype_distribution = top_recommendations['archetype'].value_counts(normalize=True) * 100\n",
    "\n",
    "elite_count = top_recommendations['archetype'].str.contains('elite').sum()\n",
    "elite_bias = elite_count / len(top_recommendations) if len(top_recommendations) > 0 else 0\n",
    "elite_player_count = df[df['archetype'].str.contains('elite')].shape[0]\n",
    "elite_coverage = elite_count / elite_player_count if elite_player_count > 0 else 0\n",
    "\n",
    "# Summary Metrics\n",
    "print(f\"Coverage: {coverage}\")\n",
    "print(f\"Elite Bias: {elite_bias:.2f}\")\n",
    "print(f\"Elite Coverage: {elite_coverage:.2f}\")\n",
    "print(\"\\nArchetype Distribution in Recommendations:\")\n",
    "print(archetype_distribution)"
   ]
  },
  {
   "cell_type": "markdown",
   "id": "978c200a",
   "metadata": {},
   "source": [
    "### Enanched Rank-Based Recommendations\n",
    "\n",
    "<i>We can enhance the previous FantasyRecommender by ensuring that recommendations do not include unavailable players as specified by user's input.</i>"
   ]
  },
  {
   "cell_type": "code",
   "execution_count": 26,
   "id": "b3143410",
   "metadata": {},
   "outputs": [
    {
     "name": "stdout",
     "output_type": "stream",
     "text": [
      "    player_id       player_name              team  composite_score  traded  \\\n",
      "3         330      Theresa Cook      UnitedWeCode         0.601391   False   \n",
      "4         284        Diana Cain           LutammS         0.599319   False   \n",
      "5         241       Todd Garcia        VBADragons         0.599099    True   \n",
      "6         277     Robert Rivera  KeyBoardWarriors         0.579443   False   \n",
      "7         383     Ashley Fisher         BIsupremE         0.569330   False   \n",
      "8         321     Melissa Doyle           HtmlERS         0.565963   False   \n",
      "9         365      Tracey Blair           HtmlERS         0.564878   False   \n",
      "10        183      Connor Lopez           HtmlERS         0.561267   False   \n",
      "11        174  Nathaniel Vaughn         BIsupremE         0.559483   False   \n",
      "12        193         David Kim          SparkiFY         0.557791   False   \n",
      "\n",
      "          archetype  \n",
      "3      elite_scorer  \n",
      "4   elite_playmaker  \n",
      "5      elite_scorer  \n",
      "6   elite_playmaker  \n",
      "7   elite_playmaker  \n",
      "8   elite_playmaker  \n",
      "9   elite_playmaker  \n",
      "10     elite_scorer  \n",
      "11  elite_playmaker  \n",
      "12  elite_playmaker  \n"
     ]
    }
   ],
   "source": [
    "recommender = FantasyRecommenderAdvanced(df)\n",
    "\n",
    "# Get recommendations excluding unavailable players\n",
    "unavailable_players = [270,147,39]\n",
    "top_recommendations = recommender.create_rank_based_recommendations(unavailable_players=unavailable_players, top_n=10)\n",
    "print(top_recommendations)"
   ]
  },
  {
   "cell_type": "markdown",
   "id": "ce6bff41",
   "metadata": {},
   "source": [
    "<p> <i> We can observe that Richard Morris,Kristen Murphy, and James Mack , previosuly ranked as top recomended players, are exluded this time since they have already been selected from another fantasy league player.</i></p>"
   ]
  },
  {
   "cell_type": "code",
   "execution_count": 27,
   "id": "164c3228",
   "metadata": {},
   "outputs": [
    {
     "name": "stdout",
     "output_type": "stream",
     "text": [
      "Coverage: 0.007733952049497293\n",
      "Elite Bias: 1.00\n",
      "Elite Coverage: 0.05\n",
      "\n",
      "Archetype Distribution in Recommendations:\n",
      "archetype\n",
      "elite_playmaker    70.0\n",
      "elite_scorer       30.0\n",
      "Name: proportion, dtype: float64\n"
     ]
    }
   ],
   "source": [
    "coverage = len(top_recommendations) / len(df)\n",
    "archetype_distribution = top_recommendations['archetype'].value_counts(normalize=True) * 100\n",
    "\n",
    "elite_count = top_recommendations['archetype'].str.contains('elite').sum()\n",
    "elite_bias = elite_count / len(top_recommendations) if len(top_recommendations) > 0 else 0\n",
    "elite_player_count = df[df['archetype'].str.contains('elite')].shape[0]\n",
    "elite_coverage = elite_count / elite_player_count if elite_player_count > 0 else 0\n",
    "\n",
    "# Summary Metrics\n",
    "print(f\"Coverage: {coverage}\")\n",
    "print(f\"Elite Bias: {elite_bias:.2f}\")\n",
    "print(f\"Elite Coverage: {elite_coverage:.2f}\")\n",
    "print(\"\\nArchetype Distribution in Recommendations:\")\n",
    "print(archetype_distribution)\n"
   ]
  },
  {
   "cell_type": "markdown",
   "id": "0a8e2685",
   "metadata": {},
   "source": [
    "#### Evaluation \n",
    "<i>The initial rank-based, rule-based recommender system metrics actually show appropriate behavior for a head-to-head fantasy league recommender. **Coverage (0.007)** is a measure of how many unique players are recommended relative to the entire pool of players; the low value here suggests that the recommender focuses on a very narrow subset of players as requested per user input.In fantasy basketball, you're typically only interested in the most impactful players for your matchups. **Elite Bias (100)** indicates that the system is correctly focusing on elite scorers and playmakers, who typically generate the most fantasy points through multiple categories (points, assists, percentages). **Elite Coverage (0.05)** shows that only 5% of all elite players are included in the recommendations, implying that even within elite categories, the system recommends only a small subset with players who can contribute across multiple statistical categories.\n",
    "\n",
    "In the archetype distribution, **50% of recommendations are elite_scorer**, while **50% are elite_playmaker**  which makes sense for fantasy basketball where scoring and assist-heavy players typically provide the highest fantasy value as they often contribute in multiple categories (points, FG%, FT%, assists) which is crucial for head-to-head points leagues. Overall, the recommender excels at ranking a small, specific subset of players based on user-defined criteria but has room for improvement in diversifying recommendations to increase both coverage and elite representation.\n",
    "\n",
    "The eanched version allows the recommender to exclude unavailable players, the system maintains a Coverage of 0.007, indicating that recommendations remain focused on a small subset of players. The Elite Bias stays at 1, maintaining an emphasis on elite archetypes. However, Elite Coverage remains at 0.05, meaning the inclusion of elite players is still limited. The archetype distribution now favors lite_playmaker **(70%)** with elite_scorer(**30%**) showing that the system is adapting after some elite players were selected.This update improves user control but further narrows the recommender's scope.\n",
    "</i>"
   ]
  },
  {
   "cell_type": "markdown",
   "id": "4446985f",
   "metadata": {},
   "source": [
    "### Collaborative Filtering (Matrix Factorization) using SVD (Singular Value Decomposition)\n",
    "In this approach, we will combine the rule-based approach from before with SVD (Singular Value Decomposition) to perform collaborative filtering and make player recommendations. We'll treat the recommendation problem as one where we want the system to suggest players who are similar to the one provided by user input. Top reccomended players will be also based on historical performance.\n",
    "The SVD-based approach uses machine learning techniques to identify latent features in the data, capturing relationships that are not directly observable. This allows for more nuanced recommendations as it combines multiple performance metrics into lower-dimensional representations.\n",
    "\n",
    "In contrast, the rank-based rule-based approach depends on explicit thresholds or ranking rules for each metric (e.g., top scorers or rebounders). While simpler, it fails to capture complex patterns or interdependencies between metrics.\n",
    "\n",
    "The SVD-based approach is dynamic and scalable, making it better suited for large datasets where performance metrics interact in complex ways. The rule-based approach is better for explainability and simplicity in smaller datasets.\n"
   ]
  },
  {
   "cell_type": "code",
   "execution_count": 29,
   "id": "6a3dac05",
   "metadata": {},
   "outputs": [],
   "source": [
    "def svd_augmentated(df, top_n=5):\n",
    "    \"\"\"\n",
    "    Perform Singular Value Decomposition (SVD) on player performance data and \n",
    "    return the SVD matrix and cosine similarity matrix.\n",
    "\n",
    "    Args:\n",
    "        df (pd.DataFrame): The dataframe containing player performance data with columns such as 'points', 'rebounds', 'assists', etc.\n",
    "        top_n (int): The number of recommended players to return (default is 5).\n",
    "\n",
    "    Returns:\n",
    "        tuple: A tuple containing the SVD matrix, cosine similarity matrix.\n",
    "    \"\"\"\n",
    "    #Cleaning the dataset by removing rows with NaN values in the relevant columns\n",
    "    new_df = df.dropna(subset=[\n",
    "        'points', 'rebounds', 'assists', 'steals', 'blocks',\n",
    "        'fg_pct', 'fg3_pct', 'ft_pct'\n",
    "    ])\n",
    "    new_df = df.copy()\n",
    "    \n",
    "    # Aggregating player stats by averaging across seasons\n",
    "    aggregated_df = (\n",
    "        new_df.groupby('player_id')[['points', 'rebounds', 'assists', 'steals', 'blocks', 'fg_pct', 'fg3_pct', 'ft_pct']]\n",
    "        .mean()\n",
    "        .reset_index()\n",
    "    )\n",
    "    \n",
    "    \n",
    "    player_performance_matrix = aggregated_df.set_index('player_id')\n",
    "    #player_performance_matrix = aggregated_df.set_index('player_id').reset_index(drop=True)\n",
    "\n",
    " \n",
    "\n",
    "    \n",
    "    scaler = StandardScaler()\n",
    "    normalized_matrix = scaler.fit_transform(player_performance_matrix)\n",
    "\n",
    "    svd = TruncatedSVD(n_components=3, random_state=42)\n",
    "    svd_matrix = svd.fit_transform(normalized_matrix)\n",
    "\n",
    "    # Calculating cosine similarity between players\n",
    "    cosine_sim = cosine_similarity(svd_matrix)\n",
    "\n",
    "    return svd_matrix, cosine_sim, player_performance_matrix\n"
   ]
  },
  {
   "cell_type": "code",
   "execution_count": 31,
   "id": "793a71fd",
   "metadata": {},
   "outputs": [],
   "source": [
    "def recommend_players(player_id, cosine_sim, player_performance_matrix, top_n=5):\n",
    "    \"\"\"\n",
    "    Recommend the top N players similar to the given player ID based on cosine similarity.\n",
    "\n",
    "    Args:\n",
    "        player_id (int): The ID of the player for whom recommendations are made.\n",
    "        cosine_sim (numpy.ndarray): The cosine similarity matrix.\n",
    "        player_performance_matrix (pd.DataFrame): The player performance matrix.\n",
    "        top_n (int): The number of top recommended players to return.\n",
    "\n",
    "    Returns:\n",
    "        list: A list of recommended player IDs.\n",
    "    \"\"\"\n",
    "    if player_id not in player_performance_matrix.index:\n",
    "        raise ValueError(\"Player ID not found in the dataset.\")\n",
    "    \n",
    "    # Find the index of the player in the matrix\n",
    "    idx = player_performance_matrix.index.tolist().index(player_id)\n",
    "    \n",
    "    # Get similarity scores for the player\n",
    "    sim_scores = list(enumerate(cosine_sim[idx]))\n",
    "    \n",
    "    # Sorting the scores by similarity (descending order), excluding the player itself\n",
    "    sim_scores = sorted(sim_scores, key=lambda x: x[1], reverse=True)[1:top_n+1]\n",
    "    \n",
    "    # Map back to player IDs\n",
    "    recommended_players = [player_performance_matrix.index[i[0]] for i in sim_scores]\n",
    "    \n",
    "    return recommended_players\n"
   ]
  },
  {
   "cell_type": "code",
   "execution_count": 32,
   "id": "044df9cb",
   "metadata": {},
   "outputs": [
    {
     "name": "stdout",
     "output_type": "stream",
     "text": [
      "Top 5 recommended players similar to Player ID: 278 - Peter Nelson are:\n",
      "   player_id           player_name archetype\n",
      "0        207         Travis Garcia   regular\n",
      "1        248             David May   regular\n",
      "2        367     Russell Gillespie   regular\n",
      "3        210   Michael Fitzpatrick   regular\n",
      "4        267  Mackenzie Richardson   regular\n"
     ]
    }
   ],
   "source": [
    "player_id = 278\n",
    "\n",
    "# Player name for the given player_id\n",
    "player_name_orig = df.loc[df['player_id'] == player_id, 'player_name'].values[0]\n",
    "\n",
    "# svd_matrix, cosine_sim, and player performance matrix\n",
    "svd_matrix, cosine_sim, player_performance_matrix = svd_augmentated(df, top_n=5)\n",
    "\n",
    "recommended_players = recommend_players(player_id, cosine_sim, player_performance_matrix, top_n=5)\n",
    "\n",
    "\n",
    "recommended_player_details = df[df['player_id'].isin(recommended_players)][['player_id', 'player_name', 'archetype']] \\\n",
    "    .drop_duplicates() \\\n",
    "    .reset_index(drop=True)\n",
    "\n",
    "\n",
    "print(f\"Top 5 recommended players similar to Player ID: {player_id} - {player_name_orig} are:\")\n",
    "print(recommended_player_details)\n"
   ]
  },
  {
   "cell_type": "code",
   "execution_count": 55,
   "id": "94916615",
   "metadata": {},
   "outputs": [],
   "source": [
    "# # Loop over player_id values in the dataset\n",
    "# for players_id in df['player_id'].unique(): \n",
    "#     if len(df[df['player_id'] == players_id]['archetype'].unique()) > 1:\n",
    "#         # Print the player_name for the given player_id\n",
    "#         player_name = df[df['player_id'] == players_id]['player_name'].iloc[0]\n",
    "#         print(f\"Player {player_name} (ID: {players_id}) has more than one archetype.\")\n",
    "    \n"
   ]
  },
  {
   "cell_type": "code",
   "execution_count": 33,
   "id": "8ba346c3",
   "metadata": {},
   "outputs": [],
   "source": [
    "def precisionK(player_id, df, cosine_sim, player_performance_matrix, top_n=5):\n",
    "    \"\"\"\n",
    "    Calculate precision at K for player recommendations, based on whether the player is elite or regular.\n",
    "\n",
    "    Args:\n",
    "        player_id (int): The ID of the player for whom recommendations are made.\n",
    "        df (pd.DataFrame): The dataframe containing player information, including 'player_id' and 'archetype'.\n",
    "        cosine_sim (array): The cosine similarity matrix used to recommend players.\n",
    "        player_performance_matrix (pd.DataFrame): The matrix containing player performance data.\n",
    "        top_n (int): The number of top recommendations to consider.\n",
    "\n",
    "    Returns:\n",
    "        float: The precision at K metric as a value between 0 and 1.\n",
    "    \"\"\"\n",
    "    \n",
    "    recommender_results = set(recommend_players(player_id, cosine_sim, player_performance_matrix, top_n))\n",
    "    \n",
    "    if len(recommender_results) == 0:\n",
    "        return 0.0  \n",
    "\n",
    "   \n",
    "    player_archetype = df[df['player_id'] == player_id]['archetype'].iloc[0]\n",
    "    \n",
    "    if player_archetype == \"\":\n",
    "        return 0.0  # Return 0 precision if archetype is unknown\n",
    "\n",
    "    #Calculate precision at K based on player archetype (elite or regular)\n",
    "    if 'elite' in player_archetype:\n",
    "        elite_players_ids = df[df['archetype'] != 'regular']['player_id'].unique()\n",
    "        Kmetric = len(recommender_results.intersection(set(elite_players_ids))) / len(recommender_results)\n",
    "       \n",
    "\n",
    "    # else:\n",
    "    #     non_elite_players_ids = df[df['archetype'] == 'regular']['player_id'].unique()\n",
    "    #     elite_players_ids = df[df['archetype'] != 'regular']['player_id'].unique()\n",
    "    #     Kmetric = len(recommender_results.intersection(set(non_elite_players_ids))) / len(recommender_results)\n",
    "    #         # Step 5: Return precision at K as a float between 0 and 1\n",
    "    # else:\n",
    "    # # For regular players, count recommendations of both regular AND elite players\n",
    "    # # since both types would be good recommendations\n",
    "    #     all_valid_ids = df['player_id'].unique()  # All players are valid recommendations\n",
    "    #     Kmetric = len(recommender_results.intersection(set(all_valid_ids))) / len(recommender_results)\n",
    "    # \n",
    "    else:\n",
    "        # For regular players\n",
    "        elite_players_ids = df[df['archetype'] != 'regular']['player_id'].unique()\n",
    "        regular_players_ids = df[df['archetype'] == 'regular']['player_id'].unique()\n",
    "        \n",
    "        # Count elite and regular recommendations separately\n",
    "        elite_recs = len(recommender_results.intersection(set(elite_players_ids)))\n",
    "        regular_recs = len(recommender_results.intersection(set(regular_players_ids)))\n",
    "        \n",
    "        # If all recommendations are regular players, apply a 10% penalty\n",
    "        if elite_recs == 0:\n",
    "            Kmetric = (regular_recs / len(recommender_results)) - 0.1\n",
    "        else:\n",
    "            # Otherwise use the normal calculation\n",
    "            Kmetric = (elite_recs + regular_recs) / len(recommender_results)\n",
    "        \n",
    "        # Ensure the metric doesn't go below 0\n",
    "        Kmetric = max(0, Kmetric)\n",
    "    return Kmetric*100\n"
   ]
  },
  {
   "cell_type": "code",
   "execution_count": 34,
   "id": "ece941f0",
   "metadata": {},
   "outputs": [
    {
     "name": "stdout",
     "output_type": "stream",
     "text": [
      "Precision@K for player_id 278 is 0.0 %\n"
     ]
    }
   ],
   "source": [
    "player_id=278\n",
    "precision_at_k = precisionK(player_id=player_id, df=df, cosine_sim=cosine_sim, player_performance_matrix=player_performance_matrix, top_n=5)\n",
    "\n",
    "print(f\"Precision@K for player_id {player_id} is {precision_at_k} %\")\n",
    "\n"
   ]
  },
  {
   "cell_type": "markdown",
   "id": "f566629f",
   "metadata": {},
   "source": [
    "#### Evaluation\n",
    "<i>We can assess the quality of our recommendations using the Precision at K (P@K) metric. In essence, this metric helps us determine how many of the top K recommended players are relevant. For example, if I'm requesting a list of players similar to Player A, and Player A belongs to the 'elite' archetype, I would expect the recommended players to also be elite, or at least predominantly elite. Conversely, if a player is regular I would expect that recommendations are good if they are eithr elite or regular. The underlying assumption here is that when looking for similar players based on performance metrics, the archetype plays a key role. If the performance metrics driving the recommendations align with what defines an elite player, it is reasonable to expect that the most similar players will also be elite. Additionally, we can look at the distribution of the precision ranking for each player and have a better understanding.</i>"
   ]
  },
  {
   "cell_type": "code",
   "execution_count": 36,
   "id": "f7b16a03",
   "metadata": {},
   "outputs": [
    {
     "data": {
      "image/png": "[encoded data removed]",
      "text/plain": [
       "<Figure size 640x480 with 1 Axes>"
      ]
     },
     "metadata": {},
     "output_type": "display_data"
    }
   ],
   "source": [
    "precisions_recordings = []\n",
    "for player_id in df.player_id.unique():\n",
    "    try:\n",
    "        precision_at_k = precisionK(\n",
    "            player_id=player_id, \n",
    "            df=df, \n",
    "            cosine_sim=cosine_sim, \n",
    "            player_performance_matrix=player_performance_matrix, \n",
    "            top_n=5\n",
    "        )\n",
    "        precisions_recordings.append(precision_at_k)\n",
    "    except:\n",
    "        pass\n",
    "\n",
    "\n",
    "precision_df = pd.DataFrame(precisions_recordings, columns=[\"Precision\"])\n",
    "\n",
    "precision_df.Precision.hist(bins=10, color='skyblue', edgecolor='black')\n",
    "plt.xlabel(\"Precision\")\n",
    "plt.ylabel(\"Frequency\")\n",
    "plt.title(\"Histogram of Precision Recordings\")\n",
    "\n",
    "plt.show();\n",
    "\n",
    "\n",
    "\n"
   ]
  },
  {
   "cell_type": "code",
   "execution_count": 37,
   "id": "26d10668",
   "metadata": {},
   "outputs": [
    {
     "data": {
      "text/html": [
       "<div>\n",
       "<style scoped>\n",
       "    .dataframe tbody tr th:only-of-type {\n",
       "        vertical-align: middle;\n",
       "    }\n",
       "\n",
       "    .dataframe tbody tr th {\n",
       "        vertical-align: top;\n",
       "    }\n",
       "\n",
       "    .dataframe thead th {\n",
       "        text-align: right;\n",
       "    }\n",
       "</style>\n",
       "<table border=\"1\" class=\"dataframe\">\n",
       "  <thead>\n",
       "    <tr style=\"text-align: right;\">\n",
       "      <th></th>\n",
       "      <th>Precision</th>\n",
       "    </tr>\n",
       "  </thead>\n",
       "  <tbody>\n",
       "    <tr>\n",
       "      <th>count</th>\n",
       "      <td>388.000000</td>\n",
       "    </tr>\n",
       "    <tr>\n",
       "      <th>mean</th>\n",
       "      <td>90.902062</td>\n",
       "    </tr>\n",
       "    <tr>\n",
       "      <th>std</th>\n",
       "      <td>8.743292</td>\n",
       "    </tr>\n",
       "    <tr>\n",
       "      <th>min</th>\n",
       "      <td>0.000000</td>\n",
       "    </tr>\n",
       "    <tr>\n",
       "      <th>25%</th>\n",
       "      <td>90.000000</td>\n",
       "    </tr>\n",
       "    <tr>\n",
       "      <th>50%</th>\n",
       "      <td>90.000000</td>\n",
       "    </tr>\n",
       "    <tr>\n",
       "      <th>75%</th>\n",
       "      <td>90.000000</td>\n",
       "    </tr>\n",
       "    <tr>\n",
       "      <th>max</th>\n",
       "      <td>100.000000</td>\n",
       "    </tr>\n",
       "  </tbody>\n",
       "</table>\n",
       "</div>"
      ],
      "text/plain": [
       "        Precision\n",
       "count  388.000000\n",
       "mean    90.902062\n",
       "std      8.743292\n",
       "min      0.000000\n",
       "25%     90.000000\n",
       "50%     90.000000\n",
       "75%     90.000000\n",
       "max    100.000000"
      ]
     },
     "execution_count": 37,
     "metadata": {},
     "output_type": "execute_result"
    }
   ],
   "source": [
    "precision_df.describe()"
   ]
  },
  {
   "cell_type": "markdown",
   "id": "eff00c78",
   "metadata": {},
   "source": [
    "<i>The histogram of precision recordings shows that the recommender system performs exceptionally well for the majority of players. The dominant peak at 100% precision indicates that over 300 players received perfect recommendations, meaning all their top recommendations were relevant. A smaller number of players achieved precision scores between 40% and 90%, with very few cases below 40%. The presence of a few outliers at 0% suggests that the system occasionally fails to provide relevant recommendations for certain players, but these cases are rare.\n",
    "This distribution aligns with the previously provided statistics:\n",
    "- Mean Precision: 90.90%\n",
    "- Median Precision: 90%\n",
    "- Standard Deviation: 8.74\n",
    "\n",
    "The histogram confirms the system's strong and consistent performance, with most recommendations being highly accurate. The few lower precision scores likely represent edge cases where the system struggles to find relevant matches, but overall, the recommender system is highly effective.</i>"
   ]
  },
  {
   "cell_type": "markdown",
   "id": "70d81f2b",
   "metadata": {},
   "source": [
    "#### Evaluation\n",
    "<i>We can assess the quality of our recommendations using the Precision at K (P@K) metric. In essence, this metric helps us determine how many of the top K recommended players are relevant. For example, if I'm requesting a list of players similar to Player A, and Player A belongs to the 'elite' archetype, I would expect the recommended players to also be elite, or at least predominantly elite. The underlying assumption here is that when looking for similar players based on performance metrics, the archetype plays a key role. If the performance metrics driving the recommendations align with what defines an elite player, it is reasonable to expect that the most similar players will also be elite.</i>\n",
    "\n",
    "\n",
    "\n"
   ]
  },
  {
   "cell_type": "code",
   "execution_count": 75,
   "id": "8d6525ef",
   "metadata": {},
   "outputs": [
    {
     "name": "stdout",
     "output_type": "stream",
     "text": [
      "Recommended Players based on Composite Score and Archetype:\n",
      "     player_id predicted_archetype  composite_score\n",
      "330        332             regular         0.596111\n",
      "277        279             regular         0.573451\n",
      "365        367             regular         0.571084\n",
      "359        361             regular         0.567034\n",
      "270        272             regular         0.557208\n"
     ]
    }
   ],
   "source": [
    "import pandas as pd\n",
    "from sklearn.model_selection import train_test_split\n",
    "from sklearn.ensemble import RandomForestClassifier\n",
    "from sklearn.metrics import accuracy_score, classification_report, confusion_matrix\n",
    "from sklearn.preprocessing import MinMaxScaler\n",
    "\n",
    "# Sample dataset (use the actual 'new_df' in your case)\n",
    "# Aggregating data by player_id\n",
    "aggregated_stats = new_df.groupby('player_id').agg({\n",
    "    'points': 'mean',\n",
    "    'rebounds': 'mean',\n",
    "    'assists': 'mean',\n",
    "    'steals': 'mean',\n",
    "    'blocks': 'mean',\n",
    "    'fg_pct': 'mean',\n",
    "    'fg3_pct': 'mean',\n",
    "    'ft_pct': 'mean',\n",
    "    'archetype': 'first'  # Use 'first' or 'mode' depending on archetype consistency per player\n",
    "}).reset_index()\n",
    "\n",
    "# Step 1: Preprocess data and define features and target\n",
    "X = aggregated_stats[['points', 'rebounds', 'assists', 'steals', 'blocks', 'fg_pct', 'fg3_pct', 'ft_pct']]  # Features\n",
    "y = aggregated_stats['archetype']  # Target variable: archetype (categorical)\n",
    "\n",
    "# Normalize features\n",
    "scaler = MinMaxScaler()\n",
    "X_normalized = pd.DataFrame(scaler.fit_transform(X), columns=X.columns, index=X.index)\n",
    "\n",
    "# Step 2: Train Random Forest Classifier\n",
    "X_train, X_test, y_train, y_test = train_test_split(X_normalized, y, test_size=0.2, random_state=42)\n",
    "rf_classifier = RandomForestClassifier(n_estimators=100, random_state=42)\n",
    "rf_classifier.fit(X_train, y_train)\n",
    "\n",
    "# Predict archetypes for all players\n",
    "predicted_archetypes = rf_classifier.predict(X_normalized)\n",
    "\n",
    "# Add predicted archetypes to the aggregated data\n",
    "aggregated_stats['predicted_archetype'] = predicted_archetypes\n",
    "\n",
    "# Step 3: Calculate Composite Score\n",
    "weights = {\n",
    "    'points': 0.25,\n",
    "    'rebounds': 0.15,\n",
    "    'assists': 0.15,\n",
    "    'steals': 0.125,\n",
    "    'blocks': 0.125,\n",
    "    'fg_pct': 0.10,\n",
    "    'fg3_pct': 0.05,\n",
    "    'ft_pct': 0.05\n",
    "}\n",
    "\n",
    "# Normalize the aggregated stats (exclude player_id and archetype)\n",
    "normalized_stats = pd.DataFrame(scaler.fit_transform(aggregated_stats.iloc[:, 1:9]), \n",
    "                                columns=aggregated_stats.columns[1:9], \n",
    "                                index=aggregated_stats['player_id'])\n",
    "\n",
    "# Calculate the composite score\n",
    "composite_scores = pd.Series(0, index=normalized_stats.index)\n",
    "for metric, weight in weights.items():\n",
    "    composite_scores += normalized_stats[metric] * weight\n",
    "\n",
    "# Add the composite score to the aggregated stats\n",
    "aggregated_stats['composite_score'] = composite_scores\n",
    "\n",
    "# Step 4: Recommender System (Example)\n",
    "# Get recommended players for a specific player (e.g., player_id = 1)\n",
    "target_player_id = 1\n",
    "target_player = aggregated_stats[aggregated_stats['player_id'] == target_player_id]\n",
    "\n",
    "# Find players with the same predicted archetype and higher composite score\n",
    "recommended_players = aggregated_stats[(aggregated_stats['predicted_archetype'] == target_player['predicted_archetype'].values[0]) & \n",
    "                                       (aggregated_stats['composite_score'] > target_player['composite_score'].values[0])]\n",
    "\n",
    "# Sort by composite score to get top recommendations\n",
    "recommended_players = recommended_players.sort_values(by='composite_score', ascending=False)\n",
    "\n",
    "# Step 5: Display recommendations\n",
    "print(\"Recommended Players based on Composite Score and Archetype:\")\n",
    "print(recommended_players[['player_id', 'predicted_archetype', 'composite_score']].head())\n"
   ]
  },
  {
   "cell_type": "code",
   "execution_count": 67,
   "id": "445faf3b",
   "metadata": {},
   "outputs": [
    {
     "name": "stdout",
     "output_type": "stream",
     "text": [
      "     player_id     points  rebounds   assists    steals    blocks    fg_pct  \\\n",
      "0            0   8.900000  3.500000  2.100000  0.800000  0.600000  0.433000   \n",
      "1            1  11.440000  4.100000  2.580000  0.940000  0.360000  0.440800   \n",
      "2            2  12.633333  5.733333  3.566667  0.933333  0.900000  0.438000   \n",
      "3            3   7.040000  4.080000  2.340000  0.820000  0.660000  0.444600   \n",
      "4            4  11.633333  4.900000  2.233333  1.033333  0.600000  0.394333   \n",
      "..         ...        ...       ...       ...       ...       ...       ...   \n",
      "383        385  13.233333  4.500000  3.066667  1.166667  0.766667  0.443333   \n",
      "384        386   8.500000  3.775000  1.675000  0.850000  0.425000  0.425000   \n",
      "385        387  25.000000  6.200000  3.850000  0.150000  0.700000  0.526000   \n",
      "386        388  10.000000  4.600000  2.120000  1.040000  0.780000  0.453000   \n",
      "387        389   9.175000  4.375000  2.925000  0.850000  0.800000  0.434750   \n",
      "\n",
      "      fg3_pct    ft_pct       player_name  composite_score  \n",
      "0    0.320000  0.699000      Robert Smith         0.217945  \n",
      "1    0.329200  0.721400       Mandy Evans         0.259417  \n",
      "2    0.348000  0.783667        Miguel Lee         0.354957  \n",
      "3    0.313000  0.692800     Ashlee Martin         0.221872  \n",
      "4    0.324000  0.704000    David Hamilton         0.263149  \n",
      "..        ...       ...               ...              ...  \n",
      "383  0.343667  0.727333  Angela Frederick         0.532400  \n",
      "384  0.308750  0.720500      Peggy Martin         0.384366  \n",
      "385  0.412000  0.876500    Brian Gonzalez         0.327114  \n",
      "386  0.319000  0.724000      William Neal         0.203490  \n",
      "387  0.331750  0.775000     Melissa Simon         0.487632  \n",
      "\n",
      "[388 rows x 11 columns]\n"
     ]
    }
   ],
   "source": [
    "import pandas as pd\n",
    "from sklearn.preprocessing import MinMaxScaler\n",
    "\n",
    "# Drop rows with missing values in the relevant columns\n",
    "new_df = df.dropna(subset=[\n",
    "    'points', 'rebounds', 'assists', 'steals', 'blocks',\n",
    "    'fg_pct', 'fg3_pct', 'ft_pct', 'player_name'\n",
    "])\n",
    "\n",
    "# Define the weights for each metric\n",
    "weights = {\n",
    "    'points': 0.25,\n",
    "    'rebounds': 0.15,\n",
    "    'assists': 0.15,\n",
    "    'steals': 0.125,\n",
    "    'blocks': 0.125,\n",
    "    'fg_pct': 0.10,\n",
    "    'fg3_pct': 0.05,\n",
    "    'ft_pct': 0.05\n",
    "}\n",
    "\n",
    "# Aggregating the data based on player_id (mean values for each player)\n",
    "aggregated_stats = new_df.groupby('player_id').agg({\n",
    "    'points': 'mean',\n",
    "    'rebounds': 'mean',\n",
    "    'assists': 'mean',\n",
    "    'steals': 'mean',\n",
    "    'blocks': 'mean',\n",
    "    'fg_pct': 'mean',\n",
    "    'fg3_pct': 'mean',\n",
    "    'ft_pct': 'mean'\n",
    "}).reset_index()\n",
    "\n",
    "# Create a mapping of player_id to player_name\n",
    "player_name_map = new_df.drop_duplicates(subset='player_id')[['player_id', 'player_name']].set_index('player_id')['player_name']\n",
    "\n",
    "# Map the player_name column to the aggregated_stats DataFrame\n",
    "aggregated_stats['player_name'] = aggregated_stats['player_id'].map(player_name_map)\n",
    "\n",
    "# Normalize only the numerical columns (excluding player_id and player_name)\n",
    "scaler = MinMaxScaler()\n",
    "numerical_columns = ['points', 'rebounds', 'assists', 'steals', 'blocks', 'fg_pct', 'fg3_pct', 'ft_pct']\n",
    "normalized_stats = pd.DataFrame(scaler.fit_transform(aggregated_stats[numerical_columns]), \n",
    "                                columns=numerical_columns, \n",
    "                                index=aggregated_stats['player_id'])\n",
    "\n",
    "# Calculate the composite score using weighted sum of normalized stats\n",
    "composite_scores = pd.Series(0, index=normalized_stats.index)\n",
    "for metric, weight in weights.items():\n",
    "    composite_scores += normalized_stats[metric] * weight\n",
    "\n",
    "# Add the composite score as a new column in the aggregated DataFrame\n",
    "aggregated_stats['composite_score'] = composite_scores\n",
    "\n",
    "# Display the updated DataFrame with composite scores and player names\n",
    "print(aggregated_stats)\n"
   ]
  },
  {
   "cell_type": "code",
   "execution_count": 70,
   "id": "18081c6a",
   "metadata": {},
   "outputs": [],
   "source": [
    "aggregated_stats = aggregated_stats.dropna(subset=[\n",
    "            'points', 'rebounds', 'assists', 'steals', 'blocks',\n",
    "            'fg_pct', 'fg3_pct', 'ft_pct','composite_score'\n",
    "            \n",
    "        ])"
   ]
  },
  {
   "cell_type": "code",
   "execution_count": 71,
   "id": "e3849164",
   "metadata": {},
   "outputs": [
    {
     "name": "stdout",
     "output_type": "stream",
     "text": [
      "Mean Squared Error: 0.011419036565401873\n",
      "Recommended Players based on Composite Score:\n",
      "      player_id        player_name  predicted_composite_score\n",
      "330        332       Paul Simmons                   0.531611\n",
      "174        175  Ashley Mccullough                   0.508142\n",
      "71          72     Joseph Johnson                   0.485983\n",
      "39          40      Holly Hawkins                   0.485979\n",
      "270        272         John Adams                   0.485906\n"
     ]
    }
   ],
   "source": [
    "from sklearn.ensemble import RandomForestRegressor\n",
    "from sklearn.model_selection import train_test_split\n",
    "from sklearn.metrics import mean_squared_error\n",
    "\n",
    "# Use 'composite_score' as the target variable for regression\n",
    "X = aggregated_stats[['points', 'rebounds', 'assists', 'steals', 'blocks', 'fg_pct', 'fg3_pct', 'ft_pct']]\n",
    "y = aggregated_stats['composite_score']  # Target variable: composite score (continuous)\n",
    "\n",
    "# Step 1: Split data into training and test sets\n",
    "X_train, X_test, y_train, y_test = train_test_split(X, y, test_size=0.2, random_state=42)\n",
    "\n",
    "# Step 2: Train a Random Forest Regressor\n",
    "rf_regressor = RandomForestRegressor(n_estimators=100, random_state=42)\n",
    "rf_regressor.fit(X_train, y_train)\n",
    "\n",
    "# Step 3: Evaluate the regressor\n",
    "y_pred = rf_regressor.predict(X_test)\n",
    "print(\"Mean Squared Error:\", mean_squared_error(y_test, y_pred))\n",
    "\n",
    "# Step 4: Recommend players based on predicted composite score\n",
    "def recommend_players_rf(player_id, rf_model, aggregated_stats, top_n=5):\n",
    "    # Get the player's stats\n",
    "    player_stats = new_df.loc[new_df['player_id'] == player_id, X.columns]\n",
    "    if player_stats.empty:\n",
    "        raise ValueError(\"Player ID not found in the dataset.\")\n",
    "    \n",
    "    # Predict the player's composite score\n",
    "    predicted_composite_score = rf_model.predict(player_stats)[0]\n",
    "    \n",
    "    # Sort players by predicted composite score\n",
    "    aggregated_stats['predicted_composite_score'] = rf_model.predict(aggregated_stats[X.columns])\n",
    "    recommended_players = aggregated_stats.sort_values(by='predicted_composite_score', ascending=False)\n",
    "    \n",
    "    # Exclude the player itself and return the top N similar players\n",
    "    recommended_players = recommended_players[recommended_players['player_id'] != player_id]\n",
    "    return recommended_players[['player_id', 'player_name', 'predicted_composite_score']].head(top_n)\n",
    "\n",
    "# Test the recommendation system with composite score prediction\n",
    "player_id = 116  # Example Player ID\n",
    "recommended_players = recommend_players_rf(player_id, rf_regressor, aggregated_stats)\n",
    "print(\"Recommended Players based on Composite Score:\\n\", recommended_players)\n"
   ]
  },
  {
   "cell_type": "code",
   "execution_count": 73,
   "id": "5d42aad4",
   "metadata": {},
   "outputs": [
    {
     "name": "stdout",
     "output_type": "stream",
     "text": [
      "R-squared: -0.1057\n",
      "Root Mean Squared Error (RMSE): 0.1069\n",
      "Mean Absolute Error (MAE): 0.0856\n",
      "Explained Variance Score: -0.0624\n"
     ]
    }
   ],
   "source": [
    "from sklearn.metrics import r2_score, mean_absolute_error, explained_variance_score\n",
    "import numpy as np\n",
    "\n",
    "# Calculate the predicted values\n",
    "y_pred = rf_regressor.predict(X_test)\n",
    "\n",
    "# Calculate R-squared (R²)\n",
    "r2 = r2_score(y_test, y_pred)\n",
    "\n",
    "# Calculate Root Mean Squared Error (RMSE)\n",
    "rmse = np.sqrt(mean_squared_error(y_test, y_pred))\n",
    "\n",
    "# Calculate Mean Absolute Error (MAE)\n",
    "mae = mean_absolute_error(y_test, y_pred)\n",
    "\n",
    "# Calculate Explained Variance Score\n",
    "explained_variance = explained_variance_score(y_test, y_pred)\n",
    "\n",
    "# Print the results\n",
    "print(f\"R-squared: {r2:.4f}\")\n",
    "print(f\"Root Mean Squared Error (RMSE): {rmse:.4f}\")\n",
    "print(f\"Mean Absolute Error (MAE): {mae:.4f}\")\n",
    "print(f\"Explained Variance Score: {explained_variance:.4f}\")\n"
   ]
  },
  {
   "cell_type": "code",
   "execution_count": 45,
   "id": "dedf6ae3",
   "metadata": {},
   "outputs": [
    {
     "ename": "ValueError",
     "evalue": "cannot reindex on an axis with duplicate labels",
     "output_type": "error",
     "traceback": [
      "\u001b[0;31m---------------------------------------------------------------------------\u001b[0m",
      "\u001b[0;31mValueError\u001b[0m                                Traceback (most recent call last)",
      "Cell \u001b[0;32mIn[45], line 31\u001b[0m\n\u001b[1;32m     28\u001b[0m     composite_scores \u001b[38;5;241m+\u001b[39m\u001b[38;5;241m=\u001b[39m normalized_stats[metric] \u001b[38;5;241m*\u001b[39m weight\n\u001b[1;32m     30\u001b[0m \u001b[38;5;66;03m# Create a new column for the composite score in the player_stats DataFrame\u001b[39;00m\n\u001b[0;32m---> 31\u001b[0m player_stats[\u001b[38;5;124m'\u001b[39m\u001b[38;5;124mcomposite_score\u001b[39m\u001b[38;5;124m'\u001b[39m] \u001b[38;5;241m=\u001b[39m composite_scores\n\u001b[1;32m     33\u001b[0m \u001b[38;5;66;03m# Display the updated DataFrame\u001b[39;00m\n\u001b[1;32m     34\u001b[0m \u001b[38;5;28mprint\u001b[39m(player_stats)\n",
      "File \u001b[0;32m/opt/anaconda3/envs/DataScience/lib/python3.12/site-packages/pandas/core/frame.py:4311\u001b[0m, in \u001b[0;36mDataFrame.__setitem__\u001b[0;34m(self, key, value)\u001b[0m\n\u001b[1;32m   4308\u001b[0m     \u001b[38;5;28mself\u001b[39m\u001b[38;5;241m.\u001b[39m_setitem_array([key], value)\n\u001b[1;32m   4309\u001b[0m \u001b[38;5;28;01melse\u001b[39;00m:\n\u001b[1;32m   4310\u001b[0m     \u001b[38;5;66;03m# set column\u001b[39;00m\n\u001b[0;32m-> 4311\u001b[0m     \u001b[38;5;28mself\u001b[39m\u001b[38;5;241m.\u001b[39m_set_item(key, value)\n",
      "File \u001b[0;32m/opt/anaconda3/envs/DataScience/lib/python3.12/site-packages/pandas/core/frame.py:4524\u001b[0m, in \u001b[0;36mDataFrame._set_item\u001b[0;34m(self, key, value)\u001b[0m\n\u001b[1;32m   4514\u001b[0m \u001b[38;5;28;01mdef\u001b[39;00m \u001b[38;5;21m_set_item\u001b[39m(\u001b[38;5;28mself\u001b[39m, key, value) \u001b[38;5;241m-\u001b[39m\u001b[38;5;241m>\u001b[39m \u001b[38;5;28;01mNone\u001b[39;00m:\n\u001b[1;32m   4515\u001b[0m \u001b[38;5;250m    \u001b[39m\u001b[38;5;124;03m\"\"\"\u001b[39;00m\n\u001b[1;32m   4516\u001b[0m \u001b[38;5;124;03m    Add series to DataFrame in specified column.\u001b[39;00m\n\u001b[1;32m   4517\u001b[0m \n\u001b[0;32m   (...)\u001b[0m\n\u001b[1;32m   4522\u001b[0m \u001b[38;5;124;03m    ensure homogeneity.\u001b[39;00m\n\u001b[1;32m   4523\u001b[0m \u001b[38;5;124;03m    \"\"\"\u001b[39;00m\n\u001b[0;32m-> 4524\u001b[0m     value, refs \u001b[38;5;241m=\u001b[39m \u001b[38;5;28mself\u001b[39m\u001b[38;5;241m.\u001b[39m_sanitize_column(value)\n\u001b[1;32m   4526\u001b[0m     \u001b[38;5;28;01mif\u001b[39;00m (\n\u001b[1;32m   4527\u001b[0m         key \u001b[38;5;129;01min\u001b[39;00m \u001b[38;5;28mself\u001b[39m\u001b[38;5;241m.\u001b[39mcolumns\n\u001b[1;32m   4528\u001b[0m         \u001b[38;5;129;01mand\u001b[39;00m value\u001b[38;5;241m.\u001b[39mndim \u001b[38;5;241m==\u001b[39m \u001b[38;5;241m1\u001b[39m\n\u001b[1;32m   4529\u001b[0m         \u001b[38;5;129;01mand\u001b[39;00m \u001b[38;5;129;01mnot\u001b[39;00m \u001b[38;5;28misinstance\u001b[39m(value\u001b[38;5;241m.\u001b[39mdtype, ExtensionDtype)\n\u001b[1;32m   4530\u001b[0m     ):\n\u001b[1;32m   4531\u001b[0m         \u001b[38;5;66;03m# broadcast across multiple columns if necessary\u001b[39;00m\n\u001b[1;32m   4532\u001b[0m         \u001b[38;5;28;01mif\u001b[39;00m \u001b[38;5;129;01mnot\u001b[39;00m \u001b[38;5;28mself\u001b[39m\u001b[38;5;241m.\u001b[39mcolumns\u001b[38;5;241m.\u001b[39mis_unique \u001b[38;5;129;01mor\u001b[39;00m \u001b[38;5;28misinstance\u001b[39m(\u001b[38;5;28mself\u001b[39m\u001b[38;5;241m.\u001b[39mcolumns, MultiIndex):\n",
      "File \u001b[0;32m/opt/anaconda3/envs/DataScience/lib/python3.12/site-packages/pandas/core/frame.py:5263\u001b[0m, in \u001b[0;36mDataFrame._sanitize_column\u001b[0;34m(self, value)\u001b[0m\n\u001b[1;32m   5261\u001b[0m     \u001b[38;5;28;01mif\u001b[39;00m \u001b[38;5;129;01mnot\u001b[39;00m \u001b[38;5;28misinstance\u001b[39m(value, Series):\n\u001b[1;32m   5262\u001b[0m         value \u001b[38;5;241m=\u001b[39m Series(value)\n\u001b[0;32m-> 5263\u001b[0m     \u001b[38;5;28;01mreturn\u001b[39;00m _reindex_for_setitem(value, \u001b[38;5;28mself\u001b[39m\u001b[38;5;241m.\u001b[39mindex)\n\u001b[1;32m   5265\u001b[0m \u001b[38;5;28;01mif\u001b[39;00m is_list_like(value):\n\u001b[1;32m   5266\u001b[0m     com\u001b[38;5;241m.\u001b[39mrequire_length_match(value, \u001b[38;5;28mself\u001b[39m\u001b[38;5;241m.\u001b[39mindex)\n",
      "File \u001b[0;32m/opt/anaconda3/envs/DataScience/lib/python3.12/site-packages/pandas/core/frame.py:12692\u001b[0m, in \u001b[0;36m_reindex_for_setitem\u001b[0;34m(value, index)\u001b[0m\n\u001b[1;32m  12688\u001b[0m \u001b[38;5;28;01mexcept\u001b[39;00m \u001b[38;5;167;01mValueError\u001b[39;00m \u001b[38;5;28;01mas\u001b[39;00m err:\n\u001b[1;32m  12689\u001b[0m     \u001b[38;5;66;03m# raised in MultiIndex.from_tuples, see test_insert_error_msmgs\u001b[39;00m\n\u001b[1;32m  12690\u001b[0m     \u001b[38;5;28;01mif\u001b[39;00m \u001b[38;5;129;01mnot\u001b[39;00m value\u001b[38;5;241m.\u001b[39mindex\u001b[38;5;241m.\u001b[39mis_unique:\n\u001b[1;32m  12691\u001b[0m         \u001b[38;5;66;03m# duplicate axis\u001b[39;00m\n\u001b[0;32m> 12692\u001b[0m         \u001b[38;5;28;01mraise\u001b[39;00m err\n\u001b[1;32m  12694\u001b[0m     \u001b[38;5;28;01mraise\u001b[39;00m \u001b[38;5;167;01mTypeError\u001b[39;00m(\n\u001b[1;32m  12695\u001b[0m         \u001b[38;5;124m\"\u001b[39m\u001b[38;5;124mincompatible index of inserted column with frame index\u001b[39m\u001b[38;5;124m\"\u001b[39m\n\u001b[1;32m  12696\u001b[0m     ) \u001b[38;5;28;01mfrom\u001b[39;00m \u001b[38;5;21;01merr\u001b[39;00m\n\u001b[1;32m  12697\u001b[0m \u001b[38;5;28;01mreturn\u001b[39;00m reindexed_value, \u001b[38;5;28;01mNone\u001b[39;00m\n",
      "File \u001b[0;32m/opt/anaconda3/envs/DataScience/lib/python3.12/site-packages/pandas/core/frame.py:12687\u001b[0m, in \u001b[0;36m_reindex_for_setitem\u001b[0;34m(value, index)\u001b[0m\n\u001b[1;32m  12685\u001b[0m \u001b[38;5;66;03m# GH#4107\u001b[39;00m\n\u001b[1;32m  12686\u001b[0m \u001b[38;5;28;01mtry\u001b[39;00m:\n\u001b[0;32m> 12687\u001b[0m     reindexed_value \u001b[38;5;241m=\u001b[39m value\u001b[38;5;241m.\u001b[39mreindex(index)\u001b[38;5;241m.\u001b[39m_values\n\u001b[1;32m  12688\u001b[0m \u001b[38;5;28;01mexcept\u001b[39;00m \u001b[38;5;167;01mValueError\u001b[39;00m \u001b[38;5;28;01mas\u001b[39;00m err:\n\u001b[1;32m  12689\u001b[0m     \u001b[38;5;66;03m# raised in MultiIndex.from_tuples, see test_insert_error_msmgs\u001b[39;00m\n\u001b[1;32m  12690\u001b[0m     \u001b[38;5;28;01mif\u001b[39;00m \u001b[38;5;129;01mnot\u001b[39;00m value\u001b[38;5;241m.\u001b[39mindex\u001b[38;5;241m.\u001b[39mis_unique:\n\u001b[1;32m  12691\u001b[0m         \u001b[38;5;66;03m# duplicate axis\u001b[39;00m\n",
      "File \u001b[0;32m/opt/anaconda3/envs/DataScience/lib/python3.12/site-packages/pandas/core/series.py:5153\u001b[0m, in \u001b[0;36mSeries.reindex\u001b[0;34m(self, index, axis, method, copy, level, fill_value, limit, tolerance)\u001b[0m\n\u001b[1;32m   5136\u001b[0m \u001b[38;5;129m@doc\u001b[39m(\n\u001b[1;32m   5137\u001b[0m     NDFrame\u001b[38;5;241m.\u001b[39mreindex,  \u001b[38;5;66;03m# type: ignore[has-type]\u001b[39;00m\n\u001b[1;32m   5138\u001b[0m     klass\u001b[38;5;241m=\u001b[39m_shared_doc_kwargs[\u001b[38;5;124m\"\u001b[39m\u001b[38;5;124mklass\u001b[39m\u001b[38;5;124m\"\u001b[39m],\n\u001b[0;32m   (...)\u001b[0m\n\u001b[1;32m   5151\u001b[0m     tolerance\u001b[38;5;241m=\u001b[39m\u001b[38;5;28;01mNone\u001b[39;00m,\n\u001b[1;32m   5152\u001b[0m ) \u001b[38;5;241m-\u001b[39m\u001b[38;5;241m>\u001b[39m Series:\n\u001b[0;32m-> 5153\u001b[0m     \u001b[38;5;28;01mreturn\u001b[39;00m \u001b[38;5;28msuper\u001b[39m()\u001b[38;5;241m.\u001b[39mreindex(\n\u001b[1;32m   5154\u001b[0m         index\u001b[38;5;241m=\u001b[39mindex,\n\u001b[1;32m   5155\u001b[0m         method\u001b[38;5;241m=\u001b[39mmethod,\n\u001b[1;32m   5156\u001b[0m         copy\u001b[38;5;241m=\u001b[39mcopy,\n\u001b[1;32m   5157\u001b[0m         level\u001b[38;5;241m=\u001b[39mlevel,\n\u001b[1;32m   5158\u001b[0m         fill_value\u001b[38;5;241m=\u001b[39mfill_value,\n\u001b[1;32m   5159\u001b[0m         limit\u001b[38;5;241m=\u001b[39mlimit,\n\u001b[1;32m   5160\u001b[0m         tolerance\u001b[38;5;241m=\u001b[39mtolerance,\n\u001b[1;32m   5161\u001b[0m     )\n",
      "File \u001b[0;32m/opt/anaconda3/envs/DataScience/lib/python3.12/site-packages/pandas/core/generic.py:5610\u001b[0m, in \u001b[0;36mNDFrame.reindex\u001b[0;34m(self, labels, index, columns, axis, method, copy, level, fill_value, limit, tolerance)\u001b[0m\n\u001b[1;32m   5607\u001b[0m     \u001b[38;5;28;01mreturn\u001b[39;00m \u001b[38;5;28mself\u001b[39m\u001b[38;5;241m.\u001b[39m_reindex_multi(axes, copy, fill_value)\n\u001b[1;32m   5609\u001b[0m \u001b[38;5;66;03m# perform the reindex on the axes\u001b[39;00m\n\u001b[0;32m-> 5610\u001b[0m \u001b[38;5;28;01mreturn\u001b[39;00m \u001b[38;5;28mself\u001b[39m\u001b[38;5;241m.\u001b[39m_reindex_axes(\n\u001b[1;32m   5611\u001b[0m     axes, level, limit, tolerance, method, fill_value, copy\n\u001b[1;32m   5612\u001b[0m )\u001b[38;5;241m.\u001b[39m__finalize__(\u001b[38;5;28mself\u001b[39m, method\u001b[38;5;241m=\u001b[39m\u001b[38;5;124m\"\u001b[39m\u001b[38;5;124mreindex\u001b[39m\u001b[38;5;124m\"\u001b[39m)\n",
      "File \u001b[0;32m/opt/anaconda3/envs/DataScience/lib/python3.12/site-packages/pandas/core/generic.py:5633\u001b[0m, in \u001b[0;36mNDFrame._reindex_axes\u001b[0;34m(self, axes, level, limit, tolerance, method, fill_value, copy)\u001b[0m\n\u001b[1;32m   5630\u001b[0m     \u001b[38;5;28;01mcontinue\u001b[39;00m\n\u001b[1;32m   5632\u001b[0m ax \u001b[38;5;241m=\u001b[39m \u001b[38;5;28mself\u001b[39m\u001b[38;5;241m.\u001b[39m_get_axis(a)\n\u001b[0;32m-> 5633\u001b[0m new_index, indexer \u001b[38;5;241m=\u001b[39m ax\u001b[38;5;241m.\u001b[39mreindex(\n\u001b[1;32m   5634\u001b[0m     labels, level\u001b[38;5;241m=\u001b[39mlevel, limit\u001b[38;5;241m=\u001b[39mlimit, tolerance\u001b[38;5;241m=\u001b[39mtolerance, method\u001b[38;5;241m=\u001b[39mmethod\n\u001b[1;32m   5635\u001b[0m )\n\u001b[1;32m   5637\u001b[0m axis \u001b[38;5;241m=\u001b[39m \u001b[38;5;28mself\u001b[39m\u001b[38;5;241m.\u001b[39m_get_axis_number(a)\n\u001b[1;32m   5638\u001b[0m obj \u001b[38;5;241m=\u001b[39m obj\u001b[38;5;241m.\u001b[39m_reindex_with_indexers(\n\u001b[1;32m   5639\u001b[0m     {axis: [new_index, indexer]},\n\u001b[1;32m   5640\u001b[0m     fill_value\u001b[38;5;241m=\u001b[39mfill_value,\n\u001b[1;32m   5641\u001b[0m     copy\u001b[38;5;241m=\u001b[39mcopy,\n\u001b[1;32m   5642\u001b[0m     allow_dups\u001b[38;5;241m=\u001b[39m\u001b[38;5;28;01mFalse\u001b[39;00m,\n\u001b[1;32m   5643\u001b[0m )\n",
      "File \u001b[0;32m/opt/anaconda3/envs/DataScience/lib/python3.12/site-packages/pandas/core/indexes/base.py:4429\u001b[0m, in \u001b[0;36mIndex.reindex\u001b[0;34m(self, target, method, level, limit, tolerance)\u001b[0m\n\u001b[1;32m   4426\u001b[0m     \u001b[38;5;28;01mraise\u001b[39;00m \u001b[38;5;167;01mValueError\u001b[39;00m(\u001b[38;5;124m\"\u001b[39m\u001b[38;5;124mcannot handle a non-unique multi-index!\u001b[39m\u001b[38;5;124m\"\u001b[39m)\n\u001b[1;32m   4427\u001b[0m \u001b[38;5;28;01melif\u001b[39;00m \u001b[38;5;129;01mnot\u001b[39;00m \u001b[38;5;28mself\u001b[39m\u001b[38;5;241m.\u001b[39mis_unique:\n\u001b[1;32m   4428\u001b[0m     \u001b[38;5;66;03m# GH#42568\u001b[39;00m\n\u001b[0;32m-> 4429\u001b[0m     \u001b[38;5;28;01mraise\u001b[39;00m \u001b[38;5;167;01mValueError\u001b[39;00m(\u001b[38;5;124m\"\u001b[39m\u001b[38;5;124mcannot reindex on an axis with duplicate labels\u001b[39m\u001b[38;5;124m\"\u001b[39m)\n\u001b[1;32m   4430\u001b[0m \u001b[38;5;28;01melse\u001b[39;00m:\n\u001b[1;32m   4431\u001b[0m     indexer, _ \u001b[38;5;241m=\u001b[39m \u001b[38;5;28mself\u001b[39m\u001b[38;5;241m.\u001b[39mget_indexer_non_unique(target)\n",
      "\u001b[0;31mValueError\u001b[0m: cannot reindex on an axis with duplicate labels"
     ]
    }
   ],
   "source": [
    "import pandas as pd\n",
    "from sklearn.preprocessing import MinMaxScaler\n",
    "\n",
    "# Define weights for each metric\n",
    "weights = {\n",
    "    'points': 0.25,\n",
    "    'rebounds': 0.15,\n",
    "    'assists': 0.15,\n",
    "    'steals': 0.125,\n",
    "    'blocks': 0.125,\n",
    "    'fg_pct': 0.10,\n",
    "    'fg3_pct': 0.05,\n",
    "    'ft_pct': 0.05\n",
    "}\n",
    "\n",
    "# Assuming player_stats is your DataFrame with player performance metrics\n",
    "player_stats = new_df[['player_id', 'points', 'rebounds', 'assists', 'steals', 'blocks', 'fg_pct', 'fg3_pct', 'ft_pct']]\n",
    "\n",
    "# Normalize the player stats\n",
    "scaler = MinMaxScaler()\n",
    "normalized_stats = pd.DataFrame(scaler.fit_transform(player_stats.iloc[:, 1:]), \n",
    "                                columns=player_stats.columns[1:], \n",
    "                                index=player_stats['player_id'])\n",
    "\n",
    "# Calculate the composite score\n",
    "composite_scores = pd.Series(0, index=normalized_stats.index)\n",
    "for metric, weight in weights.items():\n",
    "    composite_scores += normalized_stats[metric] * weight\n",
    "\n",
    "# Create a new column for the composite score in the player_stats DataFrame\n",
    "player_stats['composite_score'] = composite_scores\n",
    "\n",
    "# Display the updated DataFrame\n",
    "print(player_stats)\n"
   ]
  },
  {
   "cell_type": "code",
   "execution_count": null,
   "id": "635a4926",
   "metadata": {},
   "outputs": [],
   "source": []
  },
  {
   "cell_type": "code",
   "execution_count": 35,
   "id": "832cc2e0",
   "metadata": {},
   "outputs": [
    {
     "name": "stdout",
     "output_type": "stream",
     "text": [
      "Precision: 0.60\n",
      "Recall: 1.00\n",
      "F1 Score: 0.75\n"
     ]
    }
   ],
   "source": [
    "# Example ground truth for Player ID: 116\n",
    "ground_truth = [158, 241, 288]  # IDs of players truly similar to player 116\n",
    "\n",
    "# Get recommendations\n",
    "player_id = 116\n",
    "recommended = recommend_players(player_id, cosine_sim, player_performance_matrix, top_n=5)\n",
    "\n",
    "# Calculate Precision, Recall, and F1\n",
    "recommended_set = set(recommended)\n",
    "ground_truth_set = set(ground_truth)\n",
    "\n",
    "precision = len(recommended_set & ground_truth_set) / len(recommended_set)\n",
    "recall = len(recommended_set & ground_truth_set) / len(ground_truth_set)\n",
    "f1_score = 2 * (precision * recall) / (precision + recall) if (precision + recall) > 0 else 0\n",
    "\n",
    "print(f\"Precision: {precision:.2f}\")\n",
    "print(f\"Recall: {recall:.2f}\")\n",
    "print(f\"F1 Score: {f1_score:.2f}\")\n"
   ]
  },
  {
   "cell_type": "code",
   "execution_count": 32,
   "id": "21aa041c",
   "metadata": {},
   "outputs": [
    {
     "name": "stdout",
     "output_type": "stream",
     "text": [
      "Explained Variance Ratio by SVD Components: [0.48312267 0.18264119 0.07798058]\n",
      "Total Variance Retained: 0.74\n"
     ]
    }
   ],
   "source": [
    "explained_variance = svd.explained_variance_ratio_\n",
    "print(f\"Explained Variance Ratio by SVD Components: {explained_variance}\")\n",
    "print(f\"Total Variance Retained: {explained_variance.sum():.2f}\")\n"
   ]
  },
  {
   "cell_type": "code",
   "execution_count": null,
   "id": "b6a6901c",
   "metadata": {},
   "outputs": [],
   "source": []
  }
 ],
 "metadata": {
  "kernelspec": {
   "display_name": "DataScience",
   "language": "python",
   "name": "python3"
  },
  "language_info": {
   "codemirror_mode": {
    "name": "ipython",
    "version": 3
   },
   "file_extension": ".py",
   "mimetype": "text/x-python",
   "name": "python",
   "nbconvert_exporter": "python",
   "pygments_lexer": "ipython3",
   "version": "3.12.3"
  }
 },
 "nbformat": 4,
 "nbformat_minor": 5
}
