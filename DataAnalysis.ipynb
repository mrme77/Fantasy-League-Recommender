{
 "cells": [
  {
   "cell_type": "markdown",
   "id": "6a585626",
   "metadata": {},
   "source": [
    "# Basketball Fantasy League Recommender System\n",
    "\n",
    "This Jupyter notebook is part of a comprehensive educational project that demonstrates the integration of data engineering and machine learning concepts. The project showcases three key components: API development, ETL (Extract, Transform, Load) processes, and recommender systems. Specifically, we leverage a custom-built BasketballAPI that generates fictional basketball player data and statistics across multiple seasons by simulating the `nba_api` which is an API Client for www.nba.com. This data is then processed through a Python-based ETL pipeline that cleanly transforms and stores the information in a CSV format. \n",
    "\n",
    "The project follows the CRISP-DM (Cross-Industry Standard Process for Data Mining) methodology, which provides a structured approach through six key phases:\n",
    "1. **Business Understanding**: Defining the need for a fantasy basketball recommender system\n",
    "2. **Data Understanding**: Analyzing the BasketballAPI data structure and statistical patterns\n",
    "3. **Data Preparation**: ETL processes to clean and transform the raw API data\n",
    "4. **Modeling**: Implementing various recommender system algorithms\n",
    "5. **Evaluation**: Testing the recommendations' accuracy and relevance\n",
    "6. **Deployment**: Creating a usable system for fantasy basketball managers\n",
    "\n",
    "While the project encompasses multiple technical aspects, this notebook primarily focuses on building and evaluating different recommender system techniques to suggest similar players based on their statistical performance and characteristics. This practical approach allows us to explore real-world applications of data science while working with a controlled, yet realistic dataset that simulates five seasons of basketball data across 390 players and multiple teams."
   ]
  },
  {
   "cell_type": "markdown",
   "id": "6d9e29af",
   "metadata": {},
   "source": [
    "### Import Modules - Loading Data"
   ]
  },
  {
   "cell_type": "code",
   "execution_count": 1,
   "id": "9fd399d5",
   "metadata": {},
   "outputs": [],
   "source": [
    "import pandas as pd\n",
    "import numpy as np\n",
    "import matplotlib.pyplot as plt\n",
    "import pickle\n",
    "import seaborn as sns\n",
    "from sklearn.preprocessing import MinMaxScaler\n",
    "pd.set_option('display.max_colwidth', 800)\n",
    "%matplotlib inline"
   ]
  },
  {
   "cell_type": "code",
   "execution_count": 2,
   "id": "fd061f23",
   "metadata": {},
   "outputs": [],
   "source": [
    "df = pd.read_csv('basketball_data.csv')"
   ]
  },
  {
   "cell_type": "markdown",
   "id": "ff0f10f7",
   "metadata": {},
   "source": [
    "### Exploratory Data Analysis (EDA)"
   ]
  },
  {
   "cell_type": "code",
   "execution_count": 4,
   "id": "dbd18ea7",
   "metadata": {},
   "outputs": [
    {
     "data": {
      "text/html": [
       "<div>\n",
       "<style scoped>\n",
       "    .dataframe tbody tr th:only-of-type {\n",
       "        vertical-align: middle;\n",
       "    }\n",
       "\n",
       "    .dataframe tbody tr th {\n",
       "        vertical-align: top;\n",
       "    }\n",
       "\n",
       "    .dataframe thead th {\n",
       "        text-align: right;\n",
       "    }\n",
       "</style>\n",
       "<table border=\"1\" class=\"dataframe\">\n",
       "  <thead>\n",
       "    <tr style=\"text-align: right;\">\n",
       "      <th></th>\n",
       "      <th>player_id</th>\n",
       "      <th>player_name</th>\n",
       "      <th>archetype</th>\n",
       "      <th>season</th>\n",
       "      <th>team</th>\n",
       "      <th>games_played</th>\n",
       "      <th>minutes</th>\n",
       "      <th>points</th>\n",
       "      <th>rebounds</th>\n",
       "      <th>assists</th>\n",
       "      <th>steals</th>\n",
       "      <th>blocks</th>\n",
       "      <th>fg_pct</th>\n",
       "      <th>fg3_pct</th>\n",
       "      <th>ft_pct</th>\n",
       "    </tr>\n",
       "  </thead>\n",
       "  <tbody>\n",
       "    <tr>\n",
       "      <th>0</th>\n",
       "      <td>0</td>\n",
       "      <td>Robert Smith</td>\n",
       "      <td>regular</td>\n",
       "      <td>2019-20</td>\n",
       "      <td>SkyBirds</td>\n",
       "      <td>55</td>\n",
       "      <td>36.3</td>\n",
       "      <td>5.4</td>\n",
       "      <td>3.9</td>\n",
       "      <td>NaN</td>\n",
       "      <td>1.2</td>\n",
       "      <td>0.2</td>\n",
       "      <td>0.400</td>\n",
       "      <td>0.302</td>\n",
       "      <td>0.709</td>\n",
       "    </tr>\n",
       "    <tr>\n",
       "      <th>1</th>\n",
       "      <td>1</td>\n",
       "      <td>Mandy Evans</td>\n",
       "      <td>regular</td>\n",
       "      <td>2019-20</td>\n",
       "      <td>SparkiFY</td>\n",
       "      <td>38</td>\n",
       "      <td>14.8</td>\n",
       "      <td>17.9</td>\n",
       "      <td>5.9</td>\n",
       "      <td>3.9</td>\n",
       "      <td>1.6</td>\n",
       "      <td>0.5</td>\n",
       "      <td>0.431</td>\n",
       "      <td>0.369</td>\n",
       "      <td>0.734</td>\n",
       "    </tr>\n",
       "    <tr>\n",
       "      <th>2</th>\n",
       "      <td>2</td>\n",
       "      <td>Miguel Lee</td>\n",
       "      <td>regular</td>\n",
       "      <td>2019-20</td>\n",
       "      <td>SkyBirds</td>\n",
       "      <td>79</td>\n",
       "      <td>17.2</td>\n",
       "      <td>10.1</td>\n",
       "      <td>7.2</td>\n",
       "      <td>2.5</td>\n",
       "      <td>1.4</td>\n",
       "      <td>1.2</td>\n",
       "      <td>0.432</td>\n",
       "      <td>0.322</td>\n",
       "      <td>0.792</td>\n",
       "    </tr>\n",
       "    <tr>\n",
       "      <th>3</th>\n",
       "      <td>3</td>\n",
       "      <td>Ashlee Martin</td>\n",
       "      <td>regular</td>\n",
       "      <td>2019-20</td>\n",
       "      <td>HtmlERS</td>\n",
       "      <td>46</td>\n",
       "      <td>31.6</td>\n",
       "      <td>11.6</td>\n",
       "      <td>7.0</td>\n",
       "      <td>3.5</td>\n",
       "      <td>0.5</td>\n",
       "      <td>1.1</td>\n",
       "      <td>0.474</td>\n",
       "      <td>0.365</td>\n",
       "      <td>0.739</td>\n",
       "    </tr>\n",
       "    <tr>\n",
       "      <th>4</th>\n",
       "      <td>4</td>\n",
       "      <td>David Hamilton</td>\n",
       "      <td>regular</td>\n",
       "      <td>2019-20</td>\n",
       "      <td>SparkiFY</td>\n",
       "      <td>37</td>\n",
       "      <td>31.9</td>\n",
       "      <td>8.9</td>\n",
       "      <td>6.4</td>\n",
       "      <td>NaN</td>\n",
       "      <td>1.7</td>\n",
       "      <td>0.8</td>\n",
       "      <td>0.433</td>\n",
       "      <td>0.329</td>\n",
       "      <td>NaN</td>\n",
       "    </tr>\n",
       "  </tbody>\n",
       "</table>\n",
       "</div>"
      ],
      "text/plain": [
       "   player_id     player_name archetype   season      team  games_played  \\\n",
       "0          0    Robert Smith   regular  2019-20  SkyBirds            55   \n",
       "1          1     Mandy Evans   regular  2019-20  SparkiFY            38   \n",
       "2          2      Miguel Lee   regular  2019-20  SkyBirds            79   \n",
       "3          3   Ashlee Martin   regular  2019-20   HtmlERS            46   \n",
       "4          4  David Hamilton   regular  2019-20  SparkiFY            37   \n",
       "\n",
       "   minutes  points  rebounds  assists  steals  blocks  fg_pct  fg3_pct  ft_pct  \n",
       "0     36.3     5.4       3.9      NaN     1.2     0.2   0.400    0.302   0.709  \n",
       "1     14.8    17.9       5.9      3.9     1.6     0.5   0.431    0.369   0.734  \n",
       "2     17.2    10.1       7.2      2.5     1.4     1.2   0.432    0.322   0.792  \n",
       "3     31.6    11.6       7.0      3.5     0.5     1.1   0.474    0.365   0.739  \n",
       "4     31.9     8.9       6.4      NaN     1.7     0.8   0.433    0.329     NaN  "
      ]
     },
     "execution_count": 4,
     "metadata": {},
     "output_type": "execute_result"
    }
   ],
   "source": [
    "df.head()"
   ]
  },
  {
   "cell_type": "code",
   "execution_count": 5,
   "id": "b0b7a7be",
   "metadata": {},
   "outputs": [
    {
     "name": "stdout",
     "output_type": "stream",
     "text": [
      " The dataframe has 1950 records and 15 attributes.\n"
     ]
    }
   ],
   "source": [
    "print(f\" The dataframe has {df.shape[0]} records and {df.shape[1]} attributes.\")"
   ]
  },
  {
   "cell_type": "code",
   "execution_count": 6,
   "id": "0aa2be87",
   "metadata": {},
   "outputs": [
    {
     "data": {
      "text/plain": [
       "player_id         int64\n",
       "player_name      object\n",
       "archetype        object\n",
       "season           object\n",
       "team             object\n",
       "games_played      int64\n",
       "minutes         float64\n",
       "points          float64\n",
       "rebounds        float64\n",
       "assists         float64\n",
       "steals          float64\n",
       "blocks          float64\n",
       "fg_pct          float64\n",
       "fg3_pct         float64\n",
       "ft_pct          float64\n",
       "dtype: object"
      ]
     },
     "execution_count": 6,
     "metadata": {},
     "output_type": "execute_result"
    }
   ],
   "source": [
    "df.dtypes"
   ]
  },
  {
   "cell_type": "markdown",
   "id": "443ec1f1",
   "metadata": {},
   "source": [
    "#### <i>Does this dataframe present duplicate values? </i>"
   ]
  },
  {
   "cell_type": "code",
   "execution_count": 7,
   "id": "ba6bdb2e",
   "metadata": {},
   "outputs": [
    {
     "name": "stdout",
     "output_type": "stream",
     "text": [
      "The dataframe should contain 390 unique player\n"
     ]
    }
   ],
   "source": [
    "print(f\"The dataframe should contain {df.player_id.nunique()} unique player\")"
   ]
  },
  {
   "cell_type": "code",
   "execution_count": 8,
   "id": "629c9599",
   "metadata": {},
   "outputs": [
    {
     "data": {
      "text/plain": [
       "season\n",
       "2019-20    390\n",
       "2020-21    390\n",
       "2021-22    390\n",
       "2022-23    390\n",
       "2023-24    390\n",
       "Name: player_id, dtype: int64"
      ]
     },
     "execution_count": 8,
     "metadata": {},
     "output_type": "execute_result"
    }
   ],
   "source": [
    "df.groupby('season')['player_id'].count()"
   ]
  },
  {
   "cell_type": "markdown",
   "id": "c28e6d6a",
   "metadata": {},
   "source": [
    "#### <i> Is the relation player-team unique, or do players change team during the course of five seasons? if they do change, what is the ratio?"
   ]
  },
  {
   "cell_type": "code",
   "execution_count": 9,
   "id": "609c0a5f",
   "metadata": {},
   "outputs": [],
   "source": [
    "players_swapped = df.groupby('player_id')['team']\\\n",
    "    .nunique()\\\n",
    "    .reset_index()\\\n",
    "    .rename(columns={'team': 'unique_teams'})\n",
    "players_swapped_list = players_swapped[players_swapped['unique_teams']>1]\\\n",
    "                                                 ['player_id'].tolist()\n"
   ]
  },
  {
   "cell_type": "code",
   "execution_count": 10,
   "id": "403def4a",
   "metadata": {},
   "outputs": [
    {
     "name": "stdout",
     "output_type": "stream",
     "text": [
      "Out of 390 players during the 5 seasons analyzed, 40 players changed teams, which is a ratio of 0.10.\n"
     ]
    }
   ],
   "source": [
    "print(\n",
    "    f\"Out of {df.player_id.nunique()} players during the 5 seasons analyzed, \"\n",
    "    f\"{len(players_swapped_list)} players changed teams, which is a ratio of \"\n",
    "    f\"{len(players_swapped_list) / df.player_id.nunique():.2f}.\"\n",
    ")\n"
   ]
  },
  {
   "cell_type": "markdown",
   "id": "7340d4c1",
   "metadata": {},
   "source": [
    "#### <i>Does the dataframe presents any null values?</i>\n"
   ]
  },
  {
   "cell_type": "code",
   "execution_count": 11,
   "id": "7bde1887",
   "metadata": {},
   "outputs": [
    {
     "data": {
      "text/plain": [
       "player_id       False\n",
       "player_name     False\n",
       "archetype       False\n",
       "season          False\n",
       "team            False\n",
       "games_played    False\n",
       "minutes         False\n",
       "points           True\n",
       "rebounds         True\n",
       "assists          True\n",
       "steals           True\n",
       "blocks           True\n",
       "fg_pct           True\n",
       "fg3_pct          True\n",
       "ft_pct           True\n",
       "dtype: bool"
      ]
     },
     "execution_count": 11,
     "metadata": {},
     "output_type": "execute_result"
    }
   ],
   "source": [
    "df.isnull().any()"
   ]
  },
  {
   "cell_type": "code",
   "execution_count": 12,
   "id": "82311980",
   "metadata": {},
   "outputs": [
    {
     "name": "stdout",
     "output_type": "stream",
     "text": [
      " There are 8 attribues with missing values\n"
     ]
    }
   ],
   "source": [
    "print(f\" There are {df.isnull().any().sum()} attribues with missing values\")"
   ]
  },
  {
   "cell_type": "code",
   "execution_count": 13,
   "id": "625fdc83",
   "metadata": {},
   "outputs": [
    {
     "name": "stdout",
     "output_type": "stream",
     "text": [
      "points      5.435897\n",
      "rebounds    5.435897\n",
      "assists     5.538462\n",
      "steals      4.358974\n",
      "blocks      4.205128\n",
      "fg_pct      3.538462\n",
      "fg3_pct     5.384615\n",
      "ft_pct      5.230769\n",
      "dtype: float64\n"
     ]
    }
   ],
   "source": [
    "#(df.isnull().sum() / df.shape[0])\n",
    "missing_percentage = (df.isnull().sum() / df.shape[0]) * 100\n",
    "missing_percentage = missing_percentage[missing_percentage > 0]  \n",
    "print(missing_percentage)\n"
   ]
  },
  {
   "cell_type": "code",
   "execution_count": 14,
   "id": "0d84b76a",
   "metadata": {},
   "outputs": [
    {
     "name": "stdout",
     "output_type": "stream",
     "text": [
      " On average these fields have 4.9 of missing values\n"
     ]
    }
   ],
   "source": [
    "print(f\" On average these fields have {round(missing_percentage.mean(),1)} of missing values\")"
   ]
  },
  {
   "cell_type": "markdown",
   "id": "726c0c9a",
   "metadata": {},
   "source": [
    "####  <i>This is something to keep into account as we develop our models.Next we to observe the distributions of some attributes. Now let's look at some summary statics.</i>"
   ]
  },
  {
   "cell_type": "code",
   "execution_count": 15,
   "id": "f1cd01bd",
   "metadata": {},
   "outputs": [
    {
     "data": {
      "text/html": [
       "<div>\n",
       "<style scoped>\n",
       "    .dataframe tbody tr th:only-of-type {\n",
       "        vertical-align: middle;\n",
       "    }\n",
       "\n",
       "    .dataframe tbody tr th {\n",
       "        vertical-align: top;\n",
       "    }\n",
       "\n",
       "    .dataframe thead th {\n",
       "        text-align: right;\n",
       "    }\n",
       "</style>\n",
       "<table border=\"1\" class=\"dataframe\">\n",
       "  <thead>\n",
       "    <tr style=\"text-align: right;\">\n",
       "      <th></th>\n",
       "      <th>games_played</th>\n",
       "      <th>minutes</th>\n",
       "      <th>points</th>\n",
       "      <th>rebounds</th>\n",
       "      <th>assists</th>\n",
       "      <th>steals</th>\n",
       "      <th>blocks</th>\n",
       "      <th>fg_pct</th>\n",
       "      <th>fg3_pct</th>\n",
       "      <th>ft_pct</th>\n",
       "    </tr>\n",
       "  </thead>\n",
       "  <tbody>\n",
       "    <tr>\n",
       "      <th>count</th>\n",
       "      <td>1950.000000</td>\n",
       "      <td>1950.000000</td>\n",
       "      <td>1844.000000</td>\n",
       "      <td>1844.000000</td>\n",
       "      <td>1842.000000</td>\n",
       "      <td>1865.000000</td>\n",
       "      <td>1868.000000</td>\n",
       "      <td>1881.000000</td>\n",
       "      <td>1845.000000</td>\n",
       "      <td>1848.000000</td>\n",
       "    </tr>\n",
       "    <tr>\n",
       "      <th>mean</th>\n",
       "      <td>51.735385</td>\n",
       "      <td>25.105949</td>\n",
       "      <td>11.420174</td>\n",
       "      <td>4.495824</td>\n",
       "      <td>3.033659</td>\n",
       "      <td>1.009330</td>\n",
       "      <td>0.641328</td>\n",
       "      <td>0.446874</td>\n",
       "      <td>0.330622</td>\n",
       "      <td>0.752390</td>\n",
       "    </tr>\n",
       "    <tr>\n",
       "      <th>std</th>\n",
       "      <td>18.249953</td>\n",
       "      <td>7.595495</td>\n",
       "      <td>5.761876</td>\n",
       "      <td>1.934746</td>\n",
       "      <td>1.938258</td>\n",
       "      <td>0.537009</td>\n",
       "      <td>0.426800</td>\n",
       "      <td>0.048509</td>\n",
       "      <td>0.036472</td>\n",
       "      <td>0.067144</td>\n",
       "    </tr>\n",
       "    <tr>\n",
       "      <th>min</th>\n",
       "      <td>20.000000</td>\n",
       "      <td>12.100000</td>\n",
       "      <td>2.000000</td>\n",
       "      <td>1.000000</td>\n",
       "      <td>0.500000</td>\n",
       "      <td>0.000000</td>\n",
       "      <td>0.000000</td>\n",
       "      <td>0.350000</td>\n",
       "      <td>0.250000</td>\n",
       "      <td>0.601000</td>\n",
       "    </tr>\n",
       "    <tr>\n",
       "      <th>25%</th>\n",
       "      <td>36.000000</td>\n",
       "      <td>18.400000</td>\n",
       "      <td>7.400000</td>\n",
       "      <td>3.100000</td>\n",
       "      <td>1.700000</td>\n",
       "      <td>0.600000</td>\n",
       "      <td>0.400000</td>\n",
       "      <td>0.413000</td>\n",
       "      <td>0.306000</td>\n",
       "      <td>0.706000</td>\n",
       "    </tr>\n",
       "    <tr>\n",
       "      <th>50%</th>\n",
       "      <td>52.000000</td>\n",
       "      <td>25.150000</td>\n",
       "      <td>10.700000</td>\n",
       "      <td>4.200000</td>\n",
       "      <td>2.700000</td>\n",
       "      <td>0.900000</td>\n",
       "      <td>0.500000</td>\n",
       "      <td>0.443000</td>\n",
       "      <td>0.329000</td>\n",
       "      <td>0.748000</td>\n",
       "    </tr>\n",
       "    <tr>\n",
       "      <th>75%</th>\n",
       "      <td>68.000000</td>\n",
       "      <td>31.900000</td>\n",
       "      <td>14.400000</td>\n",
       "      <td>5.800000</td>\n",
       "      <td>3.800000</td>\n",
       "      <td>1.300000</td>\n",
       "      <td>0.800000</td>\n",
       "      <td>0.476000</td>\n",
       "      <td>0.354000</td>\n",
       "      <td>0.801000</td>\n",
       "    </tr>\n",
       "    <tr>\n",
       "      <th>max</th>\n",
       "      <td>82.000000</td>\n",
       "      <td>38.000000</td>\n",
       "      <td>34.800000</td>\n",
       "      <td>12.000000</td>\n",
       "      <td>11.900000</td>\n",
       "      <td>3.000000</td>\n",
       "      <td>3.000000</td>\n",
       "      <td>0.647000</td>\n",
       "      <td>0.449000</td>\n",
       "      <td>0.947000</td>\n",
       "    </tr>\n",
       "  </tbody>\n",
       "</table>\n",
       "</div>"
      ],
      "text/plain": [
       "       games_played      minutes       points     rebounds      assists  \\\n",
       "count   1950.000000  1950.000000  1844.000000  1844.000000  1842.000000   \n",
       "mean      51.735385    25.105949    11.420174     4.495824     3.033659   \n",
       "std       18.249953     7.595495     5.761876     1.934746     1.938258   \n",
       "min       20.000000    12.100000     2.000000     1.000000     0.500000   \n",
       "25%       36.000000    18.400000     7.400000     3.100000     1.700000   \n",
       "50%       52.000000    25.150000    10.700000     4.200000     2.700000   \n",
       "75%       68.000000    31.900000    14.400000     5.800000     3.800000   \n",
       "max       82.000000    38.000000    34.800000    12.000000    11.900000   \n",
       "\n",
       "            steals       blocks       fg_pct      fg3_pct       ft_pct  \n",
       "count  1865.000000  1868.000000  1881.000000  1845.000000  1848.000000  \n",
       "mean      1.009330     0.641328     0.446874     0.330622     0.752390  \n",
       "std       0.537009     0.426800     0.048509     0.036472     0.067144  \n",
       "min       0.000000     0.000000     0.350000     0.250000     0.601000  \n",
       "25%       0.600000     0.400000     0.413000     0.306000     0.706000  \n",
       "50%       0.900000     0.500000     0.443000     0.329000     0.748000  \n",
       "75%       1.300000     0.800000     0.476000     0.354000     0.801000  \n",
       "max       3.000000     3.000000     0.647000     0.449000     0.947000  "
      ]
     },
     "execution_count": 15,
     "metadata": {},
     "output_type": "execute_result"
    }
   ],
   "source": [
    "df.iloc[:,1:].describe()"
   ]
  },
  {
   "cell_type": "markdown",
   "id": "d8394c25",
   "metadata": {},
   "source": [
    "#### <i> The attribute games_played appears to have higher variation. It would be helpful to plot the related histogram.</i>"
   ]
  },
  {
   "cell_type": "code",
   "execution_count": 16,
   "id": "c6cbeda5",
   "metadata": {},
   "outputs": [
    {
     "data": {
      "image/png": "[encoded data removed]",
      "text/plain": [
       "<Figure size 1000x400 with 1 Axes>"
      ]
     },
     "metadata": {},
     "output_type": "display_data"
    }
   ],
   "source": [
    "# Create histogram\n",
    "plt.figure(figsize=(10, 4))\n",
    "plt.hist(df['games_played'], bins=50)\n",
    "plt.title('Distribution of Games Played')\n",
    "plt.xlabel('Number of Games')\n",
    "plt.ylabel('Count')\n",
    "plt.show()"
   ]
  },
  {
   "cell_type": "markdown",
   "id": "07467599",
   "metadata": {},
   "source": [
    "#### <i> A box-plot could help identify any outliers. </i>"
   ]
  },
  {
   "cell_type": "code",
   "execution_count": 17,
   "id": "d2037b7a",
   "metadata": {},
   "outputs": [
    {
     "data": {
      "image/png": "[encoded data removed]",
      "text/plain": [
       "<Figure size 1000x400 with 1 Axes>"
      ]
     },
     "metadata": {},
     "output_type": "display_data"
    }
   ],
   "source": [
    "# Create box plot\n",
    "plt.figure(figsize=(10, 4))\n",
    "plt.boxplot(df.games_played)\n",
    "plt.title('Box Plot of Games Played')\n",
    "plt.ylabel('Number of Games')\n",
    "plt.show();"
   ]
  },
  {
   "cell_type": "markdown",
   "id": "b0a38408",
   "metadata": {},
   "source": [
    "#### <i> The box plot of the games_played attribute doesn't present any outliers </i>"
   ]
  },
  {
   "cell_type": "markdown",
   "id": "450dbaab",
   "metadata": {},
   "source": [
    "### Rank-Based Recommendations\n",
    "\n",
    "In this scenario, we are just getting started with a basketball fantasy league and we have no knowledge of players' interactions from previous fantasy leagues except for player and teams data acquired via API. Thus, a rank-based recommender system would focus on sorting players according to specific performance metrics or a composite score. For the purpose of this project, we can prioritize metrics such as points, rebounds, assists, blocks, and steals, assuming a Head to Head league's scoring system."
   ]
  },
  {
   "cell_type": "code",
   "execution_count": 18,
   "id": "363720b6",
   "metadata": {},
   "outputs": [],
   "source": [
    "# Adding a 'traded' feature: Check if a player changed teams\n",
    "df['traded'] = df.groupby('player_id')['team'].transform('nunique') > 1\n"
   ]
  },
  {
   "cell_type": "code",
   "execution_count": 19,
   "id": "635a665d",
   "metadata": {},
   "outputs": [
    {
     "name": "stdout",
     "output_type": "stream",
     "text": [
      "Top 5 Available Players:\n",
      "         player_name  composite_score  traded\n",
      "1440  Richard Morris         0.626077   False\n",
      "1317  Kristen Murphy         0.612403   False\n",
      "429       James Mack         0.607516   False\n",
      "1110    Theresa Cook         0.596710   False\n",
      "1021     Todd Garcia         0.595573    True\n",
      "\n",
      "New Top 5 Available Players:\n",
      "         player_name  composite_score  traded\n",
      "1317  Kristen Murphy         0.612403   False\n",
      "429       James Mack         0.607516   False\n",
      "1110    Theresa Cook         0.596710   False\n",
      "1021     Todd Garcia         0.595573    True\n",
      "1064      Diana Cain         0.594753   False\n"
     ]
    }
   ],
   "source": [
    "from FantasyRecommenderClass import FantasyRecommender\n",
    "\n",
    "# Example usage:\n",
    "recommender = FantasyRecommender()\n",
    "stats_df = df  # Your stats DataFrame\n",
    "\n",
    "# Create initial rankings\n",
    "rankings = recommender.create_rank_based_recommendations(stats_df)\n",
    "\n",
    "# Get top 5 available players\n",
    "print(\"Top 5 Available Players:\")\n",
    "recommendations = recommender.get_recommendations(rankings)\n",
    "print(recommendations[['player_name', 'composite_score', 'traded']])\n",
    "\n",
    "# Select a player\n",
    "player_id = recommendations.iloc[0]['player_id']\n",
    "recommender.select_player(player_id)\n",
    "\n",
    "# Get new recommendations (will exclude selected player)\n",
    "print(\"\\nNew Top 5 Available Players:\")\n",
    "new_recommendations = recommender.get_recommendations(rankings)\n",
    "print(new_recommendations[['player_name', 'composite_score', 'traded']])"
   ]
  },
  {
   "cell_type": "code",
   "execution_count": 236,
   "id": "511a1903",
   "metadata": {},
   "outputs": [],
   "source": [
    "# # Fill missing values\n",
    "# df.fillna(0, inplace=True)\n",
    "\n",
    "# # Create a player-team interaction matrix\n",
    "# interaction_matrix = df.pivot_table(\n",
    "#     index=\"player_id\", columns=\"team\", values=\"points\", aggfunc=\"sum\", fill_value=0\n",
    "# )"
   ]
  },
  {
   "cell_type": "code",
   "execution_count": 43,
   "id": "70255c4b",
   "metadata": {},
   "outputs": [
    {
     "name": "stdout",
     "output_type": "stream",
     "text": [
      "Initial Top 5 Recommended Players:\n",
      "       player_name  composite_score  traded\n",
      "429     James Mack         0.607516   False\n",
      "1110  Theresa Cook         0.596710   False\n",
      "1021   Todd Garcia         0.595573    True\n",
      "1064    Diana Cain         0.594753   False\n",
      "674     Diana Cain         0.576642   False\n",
      "\n",
      "New Revised Top 5 Recommended Players:\n",
      "       player_name  composite_score  traded\n",
      "1110  Theresa Cook         0.596710   False\n",
      "1021   Todd Garcia         0.595573    True\n",
      "1064    Diana Cain         0.594753   False\n",
      "674     Diana Cain         0.576642   False\n",
      "1500  Theresa Cook         0.575436   False\n"
     ]
    }
   ],
   "source": [
    "from ImprovedFantasy import FantasyRecommender\n",
    "# Example usage:\n",
    "# Create initial rankings (assuming stats_df exists)\n",
    "rankings = recommender.create_rank_based_recommendations(stats_df)\n",
    "    \n",
    "# Get initial recommendations\n",
    "print(\"Initial Top 5 Recommended Players:\")\n",
    "recommendations = recommender.get_recommendations(rankings)\n",
    "print(recommendations[['player_name', 'composite_score', 'traded']])\n",
    "    \n",
    "# Select a single player\n",
    "first_pick = recommendations.iloc[0]['player_id']\n",
    "recommender.select_player(first_pick)\n",
    "    \n",
    "# Select multiple players\n",
    "previous_picks = [10, 15, 20, 25]\n",
    "recommender.select_player(previous_picks)\n",
    "    \n",
    "# Get new recommendations (will exclude all selected players)\n",
    "print(\"\\nNew Revised Top 5 Recommended Players:\")\n",
    "new_recommendations = recommender.get_recommendations(rankings)\n",
    "print(new_recommendations[['player_name', 'composite_score', 'traded']])"
   ]
  },
  {
   "cell_type": "markdown",
   "id": "36404db4",
   "metadata": {},
   "source": []
  },
  {
   "cell_type": "code",
   "execution_count": null,
   "id": "8dde6c16",
   "metadata": {},
   "outputs": [],
   "source": []
  }
 ],
 "metadata": {
  "kernelspec": {
   "display_name": "DataScience",
   "language": "python",
   "name": "python3"
  },
  "language_info": {
   "codemirror_mode": {
    "name": "ipython",
    "version": 3
   },
   "file_extension": ".py",
   "mimetype": "text/x-python",
   "name": "python",
   "nbconvert_exporter": "python",
   "pygments_lexer": "ipython3",
   "version": "3.12.3"
  }
 },
 "nbformat": 4,
 "nbformat_minor": 5
}
