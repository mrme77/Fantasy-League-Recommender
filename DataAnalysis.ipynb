{
 "cells": [
  {
   "cell_type": "markdown",
   "id": "6a585626",
   "metadata": {},
   "source": [
    "# Basketball Fantasy League Recommender System\n",
    "\n",
    "This Jupyter notebook is part of a comprehensive educational project that demonstrates the integration of data engineering and machine learning concepts. The project showcases three key components: API development, ETL (Extract, Transform, Load) processes, and recommender systems. Specifically, we leverage a custom-built BasketballAPI that generates fictional basketball player data and statistics across multiple seasons by simulating the `nba_api` which is an API Client for www.nba.com. This data is then processed through a Python-based ETL pipeline that cleanly transforms and stores the information in a CSV format. \n",
    "\n",
    "The project follows the CRISP-DM (Cross-Industry Standard Process for Data Mining) methodology, which provides a structured approach through six key phases:\n",
    "1. **Business Understanding**: Defining the need for a fantasy basketball recommender system\n",
    "2. **Data Understanding**: Analyzing the BasketballAPI data structure and statistical patterns\n",
    "3. **Data Preparation**: ETL processes to clean and transform the raw API data\n",
    "4. **Modeling**: Implementing various recommender system algorithms\n",
    "5. **Evaluation**: Testing the recommendations' accuracy and relevance\n",
    "6. **Deployment**: Creating a usable system for fantasy basketball managers\n",
    "\n",
    "While the project encompasses multiple technical aspects, this notebook primarily focuses on building and evaluating different recommender system techniques to suggest similar players based on their statistical performance and characteristics. This practical approach allows us to explore real-world applications of data science while working with a controlled, yet realistic dataset that simulates five seasons of basketball data across 390 players and multiple teams."
   ]
  },
  {
   "cell_type": "markdown",
   "id": "6d9e29af",
   "metadata": {},
   "source": [
    "### Import Modules - Loading Data"
   ]
  },
  {
   "cell_type": "code",
   "execution_count": 2,
   "id": "9fd399d5",
   "metadata": {},
   "outputs": [],
   "source": [
    "import pandas as pd\n",
    "import numpy as np\n",
    "import matplotlib.pyplot as plt\n",
    "import pickle\n",
    "import seaborn as sns\n",
    "from sklearn.preprocessing import MinMaxScaler\n",
    "pd.set_option('display.max_colwidth', 800)\n",
    "%matplotlib inline"
   ]
  },
  {
   "cell_type": "code",
   "execution_count": 3,
   "id": "fd061f23",
   "metadata": {},
   "outputs": [],
   "source": [
    "df = pd.read_csv('basketball_data.csv')"
   ]
  },
  {
   "cell_type": "markdown",
   "id": "ff0f10f7",
   "metadata": {},
   "source": [
    "### Exploratory Data Analysis (EDA)"
   ]
  },
  {
   "cell_type": "code",
   "execution_count": 4,
   "id": "c411c7e9",
   "metadata": {},
   "outputs": [
    {
     "data": {
      "text/plain": [
       "Index(['player_id', 'player_name', 'archetype', 'season', 'team',\n",
       "       'games_played', 'minutes', 'points', 'rebounds', 'assists', 'steals',\n",
       "       'blocks', 'fg_pct', 'fg3_pct', 'ft_pct'],\n",
       "      dtype='object')"
      ]
     },
     "execution_count": 4,
     "metadata": {},
     "output_type": "execute_result"
    }
   ],
   "source": [
    "df.columns"
   ]
  },
  {
   "cell_type": "code",
   "execution_count": 5,
   "id": "dbd18ea7",
   "metadata": {},
   "outputs": [
    {
     "data": {
      "text/html": [
       "<div>\n",
       "<style scoped>\n",
       "    .dataframe tbody tr th:only-of-type {\n",
       "        vertical-align: middle;\n",
       "    }\n",
       "\n",
       "    .dataframe tbody tr th {\n",
       "        vertical-align: top;\n",
       "    }\n",
       "\n",
       "    .dataframe thead th {\n",
       "        text-align: right;\n",
       "    }\n",
       "</style>\n",
       "<table border=\"1\" class=\"dataframe\">\n",
       "  <thead>\n",
       "    <tr style=\"text-align: right;\">\n",
       "      <th></th>\n",
       "      <th>player_id</th>\n",
       "      <th>player_name</th>\n",
       "      <th>archetype</th>\n",
       "      <th>season</th>\n",
       "      <th>team</th>\n",
       "      <th>games_played</th>\n",
       "      <th>minutes</th>\n",
       "      <th>points</th>\n",
       "      <th>rebounds</th>\n",
       "      <th>assists</th>\n",
       "      <th>steals</th>\n",
       "      <th>blocks</th>\n",
       "      <th>fg_pct</th>\n",
       "      <th>fg3_pct</th>\n",
       "      <th>ft_pct</th>\n",
       "    </tr>\n",
       "  </thead>\n",
       "  <tbody>\n",
       "    <tr>\n",
       "      <th>0</th>\n",
       "      <td>0</td>\n",
       "      <td>Robert Smith</td>\n",
       "      <td>regular</td>\n",
       "      <td>2019-20</td>\n",
       "      <td>SkyBirds</td>\n",
       "      <td>55</td>\n",
       "      <td>36.3</td>\n",
       "      <td>5.4</td>\n",
       "      <td>3.9</td>\n",
       "      <td>NaN</td>\n",
       "      <td>1.2</td>\n",
       "      <td>0.2</td>\n",
       "      <td>0.400</td>\n",
       "      <td>0.302</td>\n",
       "      <td>0.709</td>\n",
       "    </tr>\n",
       "    <tr>\n",
       "      <th>1</th>\n",
       "      <td>1</td>\n",
       "      <td>Mandy Evans</td>\n",
       "      <td>regular</td>\n",
       "      <td>2019-20</td>\n",
       "      <td>SparkiFY</td>\n",
       "      <td>38</td>\n",
       "      <td>14.8</td>\n",
       "      <td>17.9</td>\n",
       "      <td>5.9</td>\n",
       "      <td>3.9</td>\n",
       "      <td>1.6</td>\n",
       "      <td>0.5</td>\n",
       "      <td>0.431</td>\n",
       "      <td>0.369</td>\n",
       "      <td>0.734</td>\n",
       "    </tr>\n",
       "    <tr>\n",
       "      <th>2</th>\n",
       "      <td>2</td>\n",
       "      <td>Miguel Lee</td>\n",
       "      <td>regular</td>\n",
       "      <td>2019-20</td>\n",
       "      <td>SkyBirds</td>\n",
       "      <td>79</td>\n",
       "      <td>17.2</td>\n",
       "      <td>10.1</td>\n",
       "      <td>7.2</td>\n",
       "      <td>2.5</td>\n",
       "      <td>1.4</td>\n",
       "      <td>1.2</td>\n",
       "      <td>0.432</td>\n",
       "      <td>0.322</td>\n",
       "      <td>0.792</td>\n",
       "    </tr>\n",
       "    <tr>\n",
       "      <th>3</th>\n",
       "      <td>3</td>\n",
       "      <td>Ashlee Martin</td>\n",
       "      <td>regular</td>\n",
       "      <td>2019-20</td>\n",
       "      <td>HtmlERS</td>\n",
       "      <td>46</td>\n",
       "      <td>31.6</td>\n",
       "      <td>11.6</td>\n",
       "      <td>7.0</td>\n",
       "      <td>3.5</td>\n",
       "      <td>0.5</td>\n",
       "      <td>1.1</td>\n",
       "      <td>0.474</td>\n",
       "      <td>0.365</td>\n",
       "      <td>0.739</td>\n",
       "    </tr>\n",
       "    <tr>\n",
       "      <th>4</th>\n",
       "      <td>4</td>\n",
       "      <td>David Hamilton</td>\n",
       "      <td>regular</td>\n",
       "      <td>2019-20</td>\n",
       "      <td>SparkiFY</td>\n",
       "      <td>37</td>\n",
       "      <td>31.9</td>\n",
       "      <td>8.9</td>\n",
       "      <td>6.4</td>\n",
       "      <td>NaN</td>\n",
       "      <td>1.7</td>\n",
       "      <td>0.8</td>\n",
       "      <td>0.433</td>\n",
       "      <td>0.329</td>\n",
       "      <td>NaN</td>\n",
       "    </tr>\n",
       "  </tbody>\n",
       "</table>\n",
       "</div>"
      ],
      "text/plain": [
       "   player_id     player_name archetype   season      team  games_played  \\\n",
       "0          0    Robert Smith   regular  2019-20  SkyBirds            55   \n",
       "1          1     Mandy Evans   regular  2019-20  SparkiFY            38   \n",
       "2          2      Miguel Lee   regular  2019-20  SkyBirds            79   \n",
       "3          3   Ashlee Martin   regular  2019-20   HtmlERS            46   \n",
       "4          4  David Hamilton   regular  2019-20  SparkiFY            37   \n",
       "\n",
       "   minutes  points  rebounds  assists  steals  blocks  fg_pct  fg3_pct  ft_pct  \n",
       "0     36.3     5.4       3.9      NaN     1.2     0.2   0.400    0.302   0.709  \n",
       "1     14.8    17.9       5.9      3.9     1.6     0.5   0.431    0.369   0.734  \n",
       "2     17.2    10.1       7.2      2.5     1.4     1.2   0.432    0.322   0.792  \n",
       "3     31.6    11.6       7.0      3.5     0.5     1.1   0.474    0.365   0.739  \n",
       "4     31.9     8.9       6.4      NaN     1.7     0.8   0.433    0.329     NaN  "
      ]
     },
     "execution_count": 5,
     "metadata": {},
     "output_type": "execute_result"
    }
   ],
   "source": [
    "df.head()"
   ]
  },
  {
   "cell_type": "code",
   "execution_count": 6,
   "id": "b0b7a7be",
   "metadata": {},
   "outputs": [
    {
     "name": "stdout",
     "output_type": "stream",
     "text": [
      " The dataframe has 1950 records and 15 attributes.\n"
     ]
    }
   ],
   "source": [
    "print(f\" The dataframe has {df.shape[0]} records and {df.shape[1]} attributes.\")"
   ]
  },
  {
   "cell_type": "code",
   "execution_count": 7,
   "id": "0aa2be87",
   "metadata": {},
   "outputs": [
    {
     "data": {
      "text/plain": [
       "player_id         int64\n",
       "player_name      object\n",
       "archetype        object\n",
       "season           object\n",
       "team             object\n",
       "games_played      int64\n",
       "minutes         float64\n",
       "points          float64\n",
       "rebounds        float64\n",
       "assists         float64\n",
       "steals          float64\n",
       "blocks          float64\n",
       "fg_pct          float64\n",
       "fg3_pct         float64\n",
       "ft_pct          float64\n",
       "dtype: object"
      ]
     },
     "execution_count": 7,
     "metadata": {},
     "output_type": "execute_result"
    }
   ],
   "source": [
    "df.dtypes"
   ]
  },
  {
   "cell_type": "markdown",
   "id": "443ec1f1",
   "metadata": {},
   "source": [
    "#### <i>Does this dataframe present duplicate values? </i>"
   ]
  },
  {
   "cell_type": "code",
   "execution_count": 64,
   "id": "ba6bdb2e",
   "metadata": {},
   "outputs": [
    {
     "name": "stdout",
     "output_type": "stream",
     "text": [
      "The dataframe should contain 390 unique player\n"
     ]
    }
   ],
   "source": [
    "print(f\"The dataframe should contain {df.player_id.nunique()} unique player\")"
   ]
  },
  {
   "cell_type": "code",
   "execution_count": 62,
   "id": "629c9599",
   "metadata": {},
   "outputs": [
    {
     "data": {
      "text/plain": [
       "season\n",
       "2019-20    390\n",
       "2020-21    390\n",
       "2021-22    390\n",
       "2022-23    390\n",
       "2023-24    390\n",
       "Name: player_id, dtype: int64"
      ]
     },
     "execution_count": 62,
     "metadata": {},
     "output_type": "execute_result"
    }
   ],
   "source": [
    "df.groupby('season')['player_id'].count()"
   ]
  },
  {
   "cell_type": "markdown",
   "id": "c28e6d6a",
   "metadata": {},
   "source": [
    "#### <i> Is the relation player-team unique, or do players change team during the course of five seasons? if they do change, what is the ratio?"
   ]
  },
  {
   "cell_type": "code",
   "execution_count": 216,
   "id": "609c0a5f",
   "metadata": {},
   "outputs": [],
   "source": [
    "players_swapped = df.groupby('player_id')['team']\\\n",
    "    .nunique()\\\n",
    "    .reset_index()\\\n",
    "    .rename(columns={'team': 'unique_teams'})\n",
    "players_swapped_list = players_swapped[players_swapped['unique_teams']>1]\\\n",
    "                                                 ['player_id'].tolist()\n"
   ]
  },
  {
   "cell_type": "code",
   "execution_count": 217,
   "id": "403def4a",
   "metadata": {},
   "outputs": [
    {
     "name": "stdout",
     "output_type": "stream",
     "text": [
      "Out of 390 players during the 5 seasons analyzed, 40 players changed teams, which is a ratio of 0.10.\n"
     ]
    }
   ],
   "source": [
    "print(\n",
    "    f\"Out of {df.player_id.nunique()} players during the 5 seasons analyzed, \"\n",
    "    f\"{len(players_swapped_list)} players changed teams, which is a ratio of \"\n",
    "    f\"{len(players_swapped_list) / df.player_id.nunique():.2f}.\"\n",
    ")\n"
   ]
  },
  {
   "cell_type": "markdown",
   "id": "7340d4c1",
   "metadata": {},
   "source": [
    "#### <i>Does the dataframe presents any null values?</i>\n"
   ]
  },
  {
   "cell_type": "code",
   "execution_count": 26,
   "id": "7bde1887",
   "metadata": {},
   "outputs": [
    {
     "data": {
      "text/plain": [
       "player_id       False\n",
       "player_name     False\n",
       "archetype       False\n",
       "season          False\n",
       "team            False\n",
       "games_played    False\n",
       "minutes         False\n",
       "points           True\n",
       "rebounds         True\n",
       "assists          True\n",
       "steals           True\n",
       "blocks           True\n",
       "fg_pct           True\n",
       "fg3_pct          True\n",
       "ft_pct           True\n",
       "dtype: bool"
      ]
     },
     "execution_count": 26,
     "metadata": {},
     "output_type": "execute_result"
    }
   ],
   "source": [
    "df.isnull().any()"
   ]
  },
  {
   "cell_type": "code",
   "execution_count": 38,
   "id": "82311980",
   "metadata": {},
   "outputs": [
    {
     "name": "stdout",
     "output_type": "stream",
     "text": [
      " There are 8 attribues with missing values\n"
     ]
    }
   ],
   "source": [
    "print(f\" There are {df.isnull().any().sum()} attribues with missing values\")"
   ]
  },
  {
   "cell_type": "code",
   "execution_count": 45,
   "id": "625fdc83",
   "metadata": {},
   "outputs": [
    {
     "name": "stdout",
     "output_type": "stream",
     "text": [
      "points      5.435897\n",
      "rebounds    5.435897\n",
      "assists     5.538462\n",
      "steals      4.358974\n",
      "blocks      4.205128\n",
      "fg_pct      3.538462\n",
      "fg3_pct     5.384615\n",
      "ft_pct      5.230769\n",
      "dtype: float64\n"
     ]
    }
   ],
   "source": [
    "#(df.isnull().sum() / df.shape[0])\n",
    "missing_percentage = (df.isnull().sum() / df.shape[0]) * 100\n",
    "missing_percentage = missing_percentage[missing_percentage > 0]  \n",
    "print(missing_percentage)\n"
   ]
  },
  {
   "cell_type": "code",
   "execution_count": 48,
   "id": "0d84b76a",
   "metadata": {},
   "outputs": [
    {
     "name": "stdout",
     "output_type": "stream",
     "text": [
      " On average these fields have 4.9 of missing values\n"
     ]
    }
   ],
   "source": [
    "print(f\" On average these fields have {round(missing_percentage.mean(),1)} of missing values\")"
   ]
  },
  {
   "cell_type": "markdown",
   "id": "726c0c9a",
   "metadata": {},
   "source": [
    "####  <i>This is something to keep into account as we develop our models.Next we to observe the distributions of some attributes. Now let's look at some summary statics.</i>"
   ]
  },
  {
   "cell_type": "code",
   "execution_count": 58,
   "id": "f1cd01bd",
   "metadata": {},
   "outputs": [
    {
     "data": {
      "text/html": [
       "<div>\n",
       "<style scoped>\n",
       "    .dataframe tbody tr th:only-of-type {\n",
       "        vertical-align: middle;\n",
       "    }\n",
       "\n",
       "    .dataframe tbody tr th {\n",
       "        vertical-align: top;\n",
       "    }\n",
       "\n",
       "    .dataframe thead th {\n",
       "        text-align: right;\n",
       "    }\n",
       "</style>\n",
       "<table border=\"1\" class=\"dataframe\">\n",
       "  <thead>\n",
       "    <tr style=\"text-align: right;\">\n",
       "      <th></th>\n",
       "      <th>games_played</th>\n",
       "      <th>minutes</th>\n",
       "      <th>points</th>\n",
       "      <th>rebounds</th>\n",
       "      <th>assists</th>\n",
       "      <th>steals</th>\n",
       "      <th>blocks</th>\n",
       "      <th>fg_pct</th>\n",
       "      <th>fg3_pct</th>\n",
       "      <th>ft_pct</th>\n",
       "    </tr>\n",
       "  </thead>\n",
       "  <tbody>\n",
       "    <tr>\n",
       "      <th>count</th>\n",
       "      <td>1950.000000</td>\n",
       "      <td>1950.000000</td>\n",
       "      <td>1844.000000</td>\n",
       "      <td>1844.000000</td>\n",
       "      <td>1842.000000</td>\n",
       "      <td>1865.000000</td>\n",
       "      <td>1868.000000</td>\n",
       "      <td>1881.000000</td>\n",
       "      <td>1845.000000</td>\n",
       "      <td>1848.000000</td>\n",
       "    </tr>\n",
       "    <tr>\n",
       "      <th>mean</th>\n",
       "      <td>51.735385</td>\n",
       "      <td>25.105949</td>\n",
       "      <td>11.420174</td>\n",
       "      <td>4.495824</td>\n",
       "      <td>3.033659</td>\n",
       "      <td>1.009330</td>\n",
       "      <td>0.641328</td>\n",
       "      <td>0.446874</td>\n",
       "      <td>0.330622</td>\n",
       "      <td>0.752390</td>\n",
       "    </tr>\n",
       "    <tr>\n",
       "      <th>std</th>\n",
       "      <td>18.249953</td>\n",
       "      <td>7.595495</td>\n",
       "      <td>5.761876</td>\n",
       "      <td>1.934746</td>\n",
       "      <td>1.938258</td>\n",
       "      <td>0.537009</td>\n",
       "      <td>0.426800</td>\n",
       "      <td>0.048509</td>\n",
       "      <td>0.036472</td>\n",
       "      <td>0.067144</td>\n",
       "    </tr>\n",
       "    <tr>\n",
       "      <th>min</th>\n",
       "      <td>20.000000</td>\n",
       "      <td>12.100000</td>\n",
       "      <td>2.000000</td>\n",
       "      <td>1.000000</td>\n",
       "      <td>0.500000</td>\n",
       "      <td>0.000000</td>\n",
       "      <td>0.000000</td>\n",
       "      <td>0.350000</td>\n",
       "      <td>0.250000</td>\n",
       "      <td>0.601000</td>\n",
       "    </tr>\n",
       "    <tr>\n",
       "      <th>25%</th>\n",
       "      <td>36.000000</td>\n",
       "      <td>18.400000</td>\n",
       "      <td>7.400000</td>\n",
       "      <td>3.100000</td>\n",
       "      <td>1.700000</td>\n",
       "      <td>0.600000</td>\n",
       "      <td>0.400000</td>\n",
       "      <td>0.413000</td>\n",
       "      <td>0.306000</td>\n",
       "      <td>0.706000</td>\n",
       "    </tr>\n",
       "    <tr>\n",
       "      <th>50%</th>\n",
       "      <td>52.000000</td>\n",
       "      <td>25.150000</td>\n",
       "      <td>10.700000</td>\n",
       "      <td>4.200000</td>\n",
       "      <td>2.700000</td>\n",
       "      <td>0.900000</td>\n",
       "      <td>0.500000</td>\n",
       "      <td>0.443000</td>\n",
       "      <td>0.329000</td>\n",
       "      <td>0.748000</td>\n",
       "    </tr>\n",
       "    <tr>\n",
       "      <th>75%</th>\n",
       "      <td>68.000000</td>\n",
       "      <td>31.900000</td>\n",
       "      <td>14.400000</td>\n",
       "      <td>5.800000</td>\n",
       "      <td>3.800000</td>\n",
       "      <td>1.300000</td>\n",
       "      <td>0.800000</td>\n",
       "      <td>0.476000</td>\n",
       "      <td>0.354000</td>\n",
       "      <td>0.801000</td>\n",
       "    </tr>\n",
       "    <tr>\n",
       "      <th>max</th>\n",
       "      <td>82.000000</td>\n",
       "      <td>38.000000</td>\n",
       "      <td>34.800000</td>\n",
       "      <td>12.000000</td>\n",
       "      <td>11.900000</td>\n",
       "      <td>3.000000</td>\n",
       "      <td>3.000000</td>\n",
       "      <td>0.647000</td>\n",
       "      <td>0.449000</td>\n",
       "      <td>0.947000</td>\n",
       "    </tr>\n",
       "  </tbody>\n",
       "</table>\n",
       "</div>"
      ],
      "text/plain": [
       "       games_played      minutes       points     rebounds      assists  \\\n",
       "count   1950.000000  1950.000000  1844.000000  1844.000000  1842.000000   \n",
       "mean      51.735385    25.105949    11.420174     4.495824     3.033659   \n",
       "std       18.249953     7.595495     5.761876     1.934746     1.938258   \n",
       "min       20.000000    12.100000     2.000000     1.000000     0.500000   \n",
       "25%       36.000000    18.400000     7.400000     3.100000     1.700000   \n",
       "50%       52.000000    25.150000    10.700000     4.200000     2.700000   \n",
       "75%       68.000000    31.900000    14.400000     5.800000     3.800000   \n",
       "max       82.000000    38.000000    34.800000    12.000000    11.900000   \n",
       "\n",
       "            steals       blocks       fg_pct      fg3_pct       ft_pct  \n",
       "count  1865.000000  1868.000000  1881.000000  1845.000000  1848.000000  \n",
       "mean      1.009330     0.641328     0.446874     0.330622     0.752390  \n",
       "std       0.537009     0.426800     0.048509     0.036472     0.067144  \n",
       "min       0.000000     0.000000     0.350000     0.250000     0.601000  \n",
       "25%       0.600000     0.400000     0.413000     0.306000     0.706000  \n",
       "50%       0.900000     0.500000     0.443000     0.329000     0.748000  \n",
       "75%       1.300000     0.800000     0.476000     0.354000     0.801000  \n",
       "max       3.000000     3.000000     0.647000     0.449000     0.947000  "
      ]
     },
     "execution_count": 58,
     "metadata": {},
     "output_type": "execute_result"
    }
   ],
   "source": [
    "df.iloc[:,1:].describe()"
   ]
  },
  {
   "cell_type": "markdown",
   "id": "d8394c25",
   "metadata": {},
   "source": [
    "#### <i> The attribute games_played appears to have higher variation. It would be helpful to plot the related histogram.</i>"
   ]
  },
  {
   "cell_type": "code",
   "execution_count": 52,
   "id": "c6cbeda5",
   "metadata": {},
   "outputs": [
    {
     "data": {
      "image/png": "[encoded data removed]",
      "text/plain": [
       "<Figure size 1000x400 with 1 Axes>"
      ]
     },
     "metadata": {},
     "output_type": "display_data"
    }
   ],
   "source": [
    "# Create histogram\n",
    "plt.figure(figsize=(10, 4))\n",
    "plt.hist(df['games_played'], bins=50)\n",
    "plt.title('Distribution of Games Played')\n",
    "plt.xlabel('Number of Games')\n",
    "plt.ylabel('Count')\n",
    "plt.show()"
   ]
  },
  {
   "cell_type": "markdown",
   "id": "07467599",
   "metadata": {},
   "source": [
    "#### <i> A box-plot could help identify any outliers. </i>"
   ]
  },
  {
   "cell_type": "code",
   "execution_count": 65,
   "id": "d2037b7a",
   "metadata": {},
   "outputs": [
    {
     "data": {
      "image/png": "[encoded data removed]",
      "text/plain": [
       "<Figure size 1000x400 with 1 Axes>"
      ]
     },
     "metadata": {},
     "output_type": "display_data"
    }
   ],
   "source": [
    "# Create box plot\n",
    "plt.figure(figsize=(10, 4))\n",
    "plt.boxplot(df.games_played)\n",
    "plt.title('Box Plot of Games Played')\n",
    "plt.ylabel('Number of Games')\n",
    "plt.show();"
   ]
  },
  {
   "cell_type": "markdown",
   "id": "b0a38408",
   "metadata": {},
   "source": [
    "#### <i> The box plot of the games_played attribute doesn't present any outliers </i>"
   ]
  },
  {
   "cell_type": "markdown",
   "id": "450dbaab",
   "metadata": {},
   "source": [
    "### Rank-Based Recommendations\n",
    "\n",
    "In this scenario, we are just getting started with a basketball fantasy league and we have no knowledge of players' interactions from previous fantasy leagues except for player and teams data acquired via API. Thus, a rank-based recommender system would focus on sorting players according to specific performance metrics or a composite score. For the purpose of this project, we can prioritize metrics such as points, rebounds, assists, blocks, and steals, assuming a Head to Head league's scoring system."
   ]
  },
  {
   "cell_type": "code",
   "execution_count": 256,
   "id": "7c200ba3",
   "metadata": {},
   "outputs": [
    {
     "data": {
      "text/plain": [
       "Index(['player_id', 'player_name', 'archetype', 'season', 'team',\n",
       "       'games_played', 'minutes', 'points', 'rebounds', 'assists', 'steals',\n",
       "       'blocks', 'fg_pct', 'fg3_pct', 'ft_pct'],\n",
       "      dtype='object')"
      ]
     },
     "execution_count": 256,
     "metadata": {},
     "output_type": "execute_result"
    }
   ],
   "source": [
    "df.columns"
   ]
  },
  {
   "cell_type": "code",
   "execution_count": 258,
   "id": "ea689301",
   "metadata": {},
   "outputs": [
    {
     "name": "stdout",
     "output_type": "stream",
     "text": [
      "Top 5 Overall Players:\n",
      "      player_id  composite_score        archetype\n",
      "1440        270         0.675580     elite_scorer\n",
      "1064        284         0.650305  elite_playmaker\n",
      "674         284         0.645443  elite_playmaker\n",
      "429          39         0.639789     elite_scorer\n",
      "1110        330         0.635614     elite_scorer\n",
      "\n",
      "Top 5 Elite Scorers:\n",
      "      player_id  composite_score     archetype\n",
      "1440        270         0.675580  elite_scorer\n",
      "429          39         0.639789  elite_scorer\n",
      "1110        330         0.635614  elite_scorer\n",
      "1317        147         0.633785  elite_scorer\n",
      "1021        241         0.626938  elite_scorer\n"
     ]
    }
   ],
   "source": [
    "\n",
    "from sklearn.preprocessing import MinMaxScaler\n",
    "\n",
    "def create_rank_based_recommendations(stats_df):\n",
    "    \"\"\"\n",
    "    Create rank-based recommendations using key basketball metrics\n",
    "    \"\"\"\n",
    "    # 1. Select Key Metrics\n",
    "    key_metrics = [\n",
    "        'points',\n",
    "        'rebounds',\n",
    "        'assists',\n",
    "        'steals',\n",
    "        'blocks',\n",
    "        'fg_pct',\n",
    "        'fg3_pct',\n",
    "        'ft_pct'\n",
    "    ]\n",
    "    \n",
    "    # 2. Normalize Metrics\n",
    "    scaler = MinMaxScaler()\n",
    "    normalized_stats = pd.DataFrame(\n",
    "        scaler.fit_transform(stats_df[key_metrics]),\n",
    "        columns=key_metrics\n",
    "    )\n",
    "    \n",
    "    # 3. Assign Weights to Metrics\n",
    "    weights = {\n",
    "        'points': 0.25,\n",
    "        'rebounds': 0.15,\n",
    "        'assists': 0.15,\n",
    "        'steals': 0.125,\n",
    "        'blocks': 0.125,\n",
    "        'fg_pct': 0.10,\n",
    "        'fg3_pct': 0.05,\n",
    "        'ft_pct': 0.05\n",
    "    }\n",
    "    \n",
    "    # 4. Calculate Composite Score\n",
    "    composite_scores = pd.Series(0, index=normalized_stats.index)\n",
    "    for metric, weight in weights.items():\n",
    "        composite_scores += normalized_stats[metric] * weight\n",
    "    \n",
    "    # 5. Create Final Rankings\n",
    "    rankings = pd.DataFrame({\n",
    "        'player_id': stats_df['player_id'],\n",
    "        'composite_score': composite_scores,\n",
    "        'archetype': stats_df['archetype']\n",
    "    }).sort_values('composite_score', ascending=False)\n",
    "    \n",
    "    return rankings\n",
    "\n",
    "def get_recommendations(rankings_df, n_recommendations=5, archetype=None):\n",
    "    \"\"\"\n",
    "    Get top N recommendations, optionally filtered by archetype\n",
    "    \"\"\"\n",
    "    if archetype:\n",
    "        filtered_rankings = rankings_df[rankings_df['archetype'] == archetype]\n",
    "    else:\n",
    "        filtered_rankings = rankings_df\n",
    "        \n",
    "    return filtered_rankings.head(n_recommendations)\n",
    "\n",
    "# Example usage:\n",
    "# Assuming 'stats' is your player statistics DataFrame\n",
    "stats_df = df  # Convert stats list to DataFrame\n",
    "\n",
    "# Create rankings\n",
    "rankings = create_rank_based_recommendations(stats_df)\n",
    "\n",
    "# Get top 5 overall players\n",
    "print(\"Top 5 Overall Players:\")\n",
    "print(get_recommendations(rankings))\n",
    "\n",
    "# Get top 5 elite scorers\n",
    "print(\"\\nTop 5 Elite Scorers:\")\n",
    "print(get_recommendations(rankings, archetype='elite_scorer'))"
   ]
  },
  {
   "cell_type": "code",
   "execution_count": 230,
   "id": "363720b6",
   "metadata": {},
   "outputs": [],
   "source": [
    "# Add a 'traded' feature: Check if a player changed teams\n",
    "#df['traded'] = df.groupby('player_id')['team'].transform('nunique') > 1\n"
   ]
  },
  {
   "cell_type": "code",
   "execution_count": 236,
   "id": "511a1903",
   "metadata": {},
   "outputs": [],
   "source": [
    "# Fill missing values\n",
    "df.fillna(0, inplace=True)\n",
    "\n",
    "# Create a player-team interaction matrix\n",
    "interaction_matrix = df.pivot_table(\n",
    "    index=\"player_id\", columns=\"team\", values=\"points\", aggfunc=\"sum\", fill_value=0\n",
    ")"
   ]
  },
  {
   "cell_type": "code",
   "execution_count": 244,
   "id": "9457084b",
   "metadata": {},
   "outputs": [
    {
     "data": {
      "text/html": [
       "<div>\n",
       "<style scoped>\n",
       "    .dataframe tbody tr th:only-of-type {\n",
       "        vertical-align: middle;\n",
       "    }\n",
       "\n",
       "    .dataframe tbody tr th {\n",
       "        vertical-align: top;\n",
       "    }\n",
       "\n",
       "    .dataframe thead th {\n",
       "        text-align: right;\n",
       "    }\n",
       "</style>\n",
       "<table border=\"1\" class=\"dataframe\">\n",
       "  <thead>\n",
       "    <tr style=\"text-align: right;\">\n",
       "      <th>team</th>\n",
       "      <th>BIsupremE</th>\n",
       "      <th>HtmlERS</th>\n",
       "      <th>KeyBoardWarriors</th>\n",
       "      <th>LutammS</th>\n",
       "      <th>SkyBirds</th>\n",
       "      <th>SparkiFY</th>\n",
       "      <th>UnitedWeCode</th>\n",
       "      <th>VBADragons</th>\n",
       "    </tr>\n",
       "    <tr>\n",
       "      <th>player_id</th>\n",
       "      <th></th>\n",
       "      <th></th>\n",
       "      <th></th>\n",
       "      <th></th>\n",
       "      <th></th>\n",
       "      <th></th>\n",
       "      <th></th>\n",
       "      <th></th>\n",
       "    </tr>\n",
       "  </thead>\n",
       "  <tbody>\n",
       "    <tr>\n",
       "      <th>0</th>\n",
       "      <td>0.0</td>\n",
       "      <td>0.0</td>\n",
       "      <td>0.0</td>\n",
       "      <td>0.0</td>\n",
       "      <td>33.0</td>\n",
       "      <td>0.0</td>\n",
       "      <td>0.0</td>\n",
       "      <td>0.0</td>\n",
       "    </tr>\n",
       "    <tr>\n",
       "      <th>1</th>\n",
       "      <td>0.0</td>\n",
       "      <td>0.0</td>\n",
       "      <td>0.0</td>\n",
       "      <td>0.0</td>\n",
       "      <td>0.0</td>\n",
       "      <td>57.2</td>\n",
       "      <td>0.0</td>\n",
       "      <td>0.0</td>\n",
       "    </tr>\n",
       "    <tr>\n",
       "      <th>2</th>\n",
       "      <td>0.0</td>\n",
       "      <td>0.0</td>\n",
       "      <td>0.0</td>\n",
       "      <td>0.0</td>\n",
       "      <td>42.0</td>\n",
       "      <td>0.0</td>\n",
       "      <td>0.0</td>\n",
       "      <td>0.0</td>\n",
       "    </tr>\n",
       "    <tr>\n",
       "      <th>3</th>\n",
       "      <td>0.0</td>\n",
       "      <td>35.2</td>\n",
       "      <td>0.0</td>\n",
       "      <td>0.0</td>\n",
       "      <td>0.0</td>\n",
       "      <td>0.0</td>\n",
       "      <td>0.0</td>\n",
       "      <td>0.0</td>\n",
       "    </tr>\n",
       "    <tr>\n",
       "      <th>4</th>\n",
       "      <td>0.0</td>\n",
       "      <td>0.0</td>\n",
       "      <td>0.0</td>\n",
       "      <td>0.0</td>\n",
       "      <td>7.3</td>\n",
       "      <td>52.2</td>\n",
       "      <td>0.0</td>\n",
       "      <td>0.0</td>\n",
       "    </tr>\n",
       "  </tbody>\n",
       "</table>\n",
       "</div>"
      ],
      "text/plain": [
       "team       BIsupremE  HtmlERS  KeyBoardWarriors  LutammS  SkyBirds  SparkiFY  \\\n",
       "player_id                                                                      \n",
       "0                0.0      0.0               0.0      0.0      33.0       0.0   \n",
       "1                0.0      0.0               0.0      0.0       0.0      57.2   \n",
       "2                0.0      0.0               0.0      0.0      42.0       0.0   \n",
       "3                0.0     35.2               0.0      0.0       0.0       0.0   \n",
       "4                0.0      0.0               0.0      0.0       7.3      52.2   \n",
       "\n",
       "team       UnitedWeCode  VBADragons  \n",
       "player_id                            \n",
       "0                   0.0         0.0  \n",
       "1                   0.0         0.0  \n",
       "2                   0.0         0.0  \n",
       "3                   0.0         0.0  \n",
       "4                   0.0         0.0  "
      ]
     },
     "execution_count": 244,
     "metadata": {},
     "output_type": "execute_result"
    }
   ],
   "source": [
    "interaction_matrix.head()"
   ]
  },
  {
   "cell_type": "code",
   "execution_count": 237,
   "id": "bf447ca1",
   "metadata": {},
   "outputs": [],
   "source": [
    "from sklearn.decomposition import TruncatedSVD\n",
    "from sklearn.metrics.pairwise import cosine_similarity\n",
    "from sklearn.preprocessing import MinMaxScaler"
   ]
  },
  {
   "cell_type": "code",
   "execution_count": 240,
   "id": "d85c04e2",
   "metadata": {},
   "outputs": [
    {
     "data": {
      "text/plain": [
       "0"
      ]
     },
     "execution_count": 240,
     "metadata": {},
     "output_type": "execute_result"
    }
   ],
   "source": [
    "interaction_matrix.isna().any().sum() "
   ]
  },
  {
   "cell_type": "code",
   "execution_count": 249,
   "id": "32327958",
   "metadata": {},
   "outputs": [
    {
     "data": {
      "text/plain": [
       "((390, 8), (8,), (8, 8))"
      ]
     },
     "execution_count": 249,
     "metadata": {},
     "output_type": "execute_result"
    }
   ],
   "source": [
    "u, s, vt = np.linalg.svd(interaction_matrix,full_matrices=False) \n",
    "u.shape, s.shape, vt.shape"
   ]
  },
  {
   "cell_type": "code",
   "execution_count": 254,
   "id": "29bcf411",
   "metadata": {},
   "outputs": [
    {
     "data": {
      "image/png": "[encoded data removed]",
      "text/plain": [
       "<Figure size 1000x600 with 1 Axes>"
      ]
     },
     "metadata": {},
     "output_type": "display_data"
    },
    {
     "name": "stdout",
     "output_type": "stream",
     "text": [
      "\n",
      "Optimal number of latent features: 8\n",
      "Maximum accuracy: 1.0000\n"
     ]
    }
   ],
   "source": [
    "num_latent_feats = np.arange(1, min(interaction_matrix.shape) + 1)\n",
    "sum_errs = []\n",
    "accuracies = []  # Add list to store accuracies\n",
    "\n",
    "for k in num_latent_feats:\n",
    "    # Restructure with k latent features\n",
    "    s_new = np.diag(s[:k])\n",
    "    u_new = u[:, :k]\n",
    "    vt_new = vt[:k, :]\n",
    "    \n",
    "    # Take dot product\n",
    "    user_item_est = np.dot(np.dot(u_new, s_new), vt_new)\n",
    "    \n",
    "    # Compute error and accuracy\n",
    "    error = np.sum(np.abs(interaction_matrix - user_item_est))\n",
    "    total_magnitude = np.sum(np.abs(interaction_matrix))\n",
    "    accuracy = 1 - (error / total_magnitude)  # Normalize by total magnitude\n",
    "    \n",
    "    sum_errs.append(error)\n",
    "    accuracies.append(accuracy)  # Store accuracy\n",
    "\n",
    "# Plot accuracies instead of error-based calculation\n",
    "plt.figure(figsize=(10, 6))\n",
    "plt.plot(num_latent_feats, accuracies, 'bo-')\n",
    "plt.xlabel('Number of Latent Features')\n",
    "plt.ylabel('Reconstruction Accuracy')\n",
    "plt.title('Accuracy vs. Number of Latent Features')\n",
    "plt.grid(True)\n",
    "plt.show()\n",
    "\n",
    "# Print optimal number of features\n",
    "optimal_k = num_latent_feats[np.argmax(accuracies)]\n",
    "print(f\"\\nOptimal number of latent features: {optimal_k}\")\n",
    "print(f\"Maximum accuracy: {max(accuracies):.4f}\")"
   ]
  },
  {
   "cell_type": "code",
   "execution_count": 253,
   "id": "5a6324dd",
   "metadata": {},
   "outputs": [
    {
     "name": "stdout",
     "output_type": "stream",
     "text": [
      "Processed k=5, Accuracy: 0.5933\n"
     ]
    },
    {
     "data": {
      "image/png": "[encoded data removed]",
      "text/plain": [
       "<Figure size 1000x600 with 1 Axes>"
      ]
     },
     "metadata": {},
     "output_type": "display_data"
    },
    {
     "name": "stdout",
     "output_type": "stream",
     "text": [
      "\n",
      "Optimal number of latent features: 8\n",
      "Maximum accuracy: 1.0000\n"
     ]
    }
   ],
   "source": [
    "# 1. First, convert interaction matrix to numpy array for SVD\n",
    "interaction_matrix = interaction_matrix.to_numpy()\n",
    "\n",
    "# 2. Perform SVD\n",
    "u, s, vt = np.linalg.svd(interaction_matrix)\n",
    "\n",
    "# 3. Define range of latent features to test\n",
    "#num_latent_feats = np.arange(1, min(interaction_array.shape), 2)\n",
    "num_latent_feats = np.arange(1, min(interaction_matrix.shape) + 1)\n",
    "\n",
    "# 4. Initialize lists for storing results\n",
    "sum_errs = []\n",
    "accuracies = []\n",
    "\n",
    "# 5. Create plotting function\n",
    "def plot_svd_accuracy(num_feats, acc_scores):\n",
    "    plt.figure(figsize=(10, 6))\n",
    "    plt.plot(num_feats, acc_scores, 'bo-')\n",
    "    plt.xlabel('Number of Latent Features')\n",
    "    plt.ylabel('Reconstruction Accuracy')\n",
    "    plt.title('SVD Reconstruction Accuracy vs. Number of Latent Features')\n",
    "    plt.grid(True)\n",
    "    plt.show()\n",
    "\n",
    "# 6. Perform SVD analysis\n",
    "for k in num_latent_feats:\n",
    "    # Reconstruct matrix with k features\n",
    "    u_k = u[:, :k]\n",
    "    s_k = np.diag(s[:k])\n",
    "    vt_k = vt[:k, :]\n",
    "    \n",
    "    # Calculate reconstructed matrix\n",
    "    reconstructed_array = np.dot(np.dot(u_k, s_k), vt_k)\n",
    "    \n",
    "    # Calculate error\n",
    "    error = np.sum(np.abs(interaction_matrix - reconstructed_array))\n",
    "    sum_errs.append(error)\n",
    "    \n",
    "    # Calculate accuracy\n",
    "    accuracy = 1 - (error / np.sum(np.abs(interaction_matrix)))\n",
    "    accuracies.append(accuracy)\n",
    "    \n",
    "    # Print progress\n",
    "    if k % 5 == 0:\n",
    "        print(f\"Processed k={k}, Accuracy: {accuracy:.4f}\")\n",
    "\n",
    "# 7. Plot results\n",
    "plot_svd_accuracy(num_latent_feats, accuracies)\n",
    "\n",
    "# 8. Find optimal number of features\n",
    "optimal_k = num_latent_feats[np.argmax(accuracies)]\n",
    "print(f\"\\nOptimal number of latent features: {optimal_k}\")\n",
    "print(f\"Maximum accuracy: {max(accuracies):.4f}\")"
   ]
  },
  {
   "cell_type": "code",
   "execution_count": 242,
   "id": "97ba1319",
   "metadata": {},
   "outputs": [
    {
     "name": "stderr",
     "output_type": "stream",
     "text": [
      "/opt/anaconda3/envs/DataScience/lib/python3.12/site-packages/numpy/core/fromnumeric.py:86: FutureWarning: The behavior of DataFrame.sum with axis=None is deprecated, in a future version this will reduce over both axes and return a scalar. To retain the old behavior, pass axis=0 (or do not pass axis)\n",
      "  return reduction(axis=axis, out=out, **passkwargs)\n"
     ]
    },
    {
     "data": {
      "image/png": "[encoded data removed]",
      "text/plain": [
       "<Figure size 640x480 with 1 Axes>"
      ]
     },
     "metadata": {},
     "output_type": "display_data"
    }
   ],
   "source": [
    "\n",
    "\n",
    "# Perform SVD\n",
    "u, s, vt = np.linalg.svd(interaction_matrix, full_matrices=False)\n",
    "\n",
    "# Define number of latent features to test\n",
    "num_latent_feats = np.arange(10, min(interaction_matrix.shape) + 10, 20)\n",
    "sum_errs = []\n",
    "\n",
    "for k in num_latent_feats:\n",
    "    # Restructure with k latent features\n",
    "    s_new = np.diag(s[:k])  # Create diagonal matrix for top k singular values\n",
    "    u_new = u[:, :k]        # Keep first k columns of u\n",
    "    vt_new = vt[:k, :]      # Keep first k rows of vt\n",
    "\n",
    "    # Take dot product to reconstruct the matrix\n",
    "    user_item_est = np.dot(np.dot(u_new, s_new), vt_new)\n",
    "\n",
    "    # Compute error for each prediction compared to actual value\n",
    "    diffs = np.subtract(interaction_matrix, user_item_est)\n",
    "\n",
    "    # Total errors and keep track of them\n",
    "    err = np.sum(np.sum(np.abs(diffs)))\n",
    "    sum_errs.append(err)\n",
    "\n",
    "# Plot the accuracy vs number of latent features\n",
    "plt.plot(num_latent_feats, 1 - np.array(sum_errs) / interaction_matrix.size)\n",
    "plt.xlabel('Number of Latent Features')\n",
    "plt.ylabel('Accuracy')\n",
    "plt.title('Accuracy vs. Number of Latent Features')\n",
    "plt.show()\n"
   ]
  },
  {
   "cell_type": "code",
   "execution_count": 238,
   "id": "08f95fae",
   "metadata": {},
   "outputs": [
    {
     "ename": "ValueError",
     "evalue": "n_components(15) must be <= n_features(8).",
     "output_type": "error",
     "traceback": [
      "\u001b[0;31m---------------------------------------------------------------------------\u001b[0m",
      "\u001b[0;31mValueError\u001b[0m                                Traceback (most recent call last)",
      "Cell \u001b[0;32mIn[238], line 3\u001b[0m\n\u001b[1;32m      1\u001b[0m \u001b[38;5;66;03m# Apply SVD for matrix factorization\u001b[39;00m\n\u001b[1;32m      2\u001b[0m svd \u001b[38;5;241m=\u001b[39m TruncatedSVD(n_components\u001b[38;5;241m=\u001b[39m\u001b[38;5;241m15\u001b[39m, random_state\u001b[38;5;241m=\u001b[39m\u001b[38;5;241m42\u001b[39m)\n\u001b[0;32m----> 3\u001b[0m latent_features \u001b[38;5;241m=\u001b[39m svd\u001b[38;5;241m.\u001b[39mfit_transform(interaction_matrix)\n\u001b[1;32m      5\u001b[0m \u001b[38;5;66;03m# Reconstruct the matrix using latent features\u001b[39;00m\n\u001b[1;32m      6\u001b[0m predicted_matrix \u001b[38;5;241m=\u001b[39m np\u001b[38;5;241m.\u001b[39mdot(latent_features, svd\u001b[38;5;241m.\u001b[39mcomponents_)\n",
      "File \u001b[0;32m/opt/anaconda3/envs/DataScience/lib/python3.12/site-packages/sklearn/utils/_set_output.py:313\u001b[0m, in \u001b[0;36m_wrap_method_output.<locals>.wrapped\u001b[0;34m(self, X, *args, **kwargs)\u001b[0m\n\u001b[1;32m    311\u001b[0m \u001b[38;5;129m@wraps\u001b[39m(f)\n\u001b[1;32m    312\u001b[0m \u001b[38;5;28;01mdef\u001b[39;00m \u001b[38;5;21mwrapped\u001b[39m(\u001b[38;5;28mself\u001b[39m, X, \u001b[38;5;241m*\u001b[39margs, \u001b[38;5;241m*\u001b[39m\u001b[38;5;241m*\u001b[39mkwargs):\n\u001b[0;32m--> 313\u001b[0m     data_to_wrap \u001b[38;5;241m=\u001b[39m f(\u001b[38;5;28mself\u001b[39m, X, \u001b[38;5;241m*\u001b[39margs, \u001b[38;5;241m*\u001b[39m\u001b[38;5;241m*\u001b[39mkwargs)\n\u001b[1;32m    314\u001b[0m     \u001b[38;5;28;01mif\u001b[39;00m \u001b[38;5;28misinstance\u001b[39m(data_to_wrap, \u001b[38;5;28mtuple\u001b[39m):\n\u001b[1;32m    315\u001b[0m         \u001b[38;5;66;03m# only wrap the first output for cross decomposition\u001b[39;00m\n\u001b[1;32m    316\u001b[0m         return_tuple \u001b[38;5;241m=\u001b[39m (\n\u001b[1;32m    317\u001b[0m             _wrap_data_with_container(method, data_to_wrap[\u001b[38;5;241m0\u001b[39m], X, \u001b[38;5;28mself\u001b[39m),\n\u001b[1;32m    318\u001b[0m             \u001b[38;5;241m*\u001b[39mdata_to_wrap[\u001b[38;5;241m1\u001b[39m:],\n\u001b[1;32m    319\u001b[0m         )\n",
      "File \u001b[0;32m/opt/anaconda3/envs/DataScience/lib/python3.12/site-packages/sklearn/base.py:1473\u001b[0m, in \u001b[0;36m_fit_context.<locals>.decorator.<locals>.wrapper\u001b[0;34m(estimator, *args, **kwargs)\u001b[0m\n\u001b[1;32m   1466\u001b[0m     estimator\u001b[38;5;241m.\u001b[39m_validate_params()\n\u001b[1;32m   1468\u001b[0m \u001b[38;5;28;01mwith\u001b[39;00m config_context(\n\u001b[1;32m   1469\u001b[0m     skip_parameter_validation\u001b[38;5;241m=\u001b[39m(\n\u001b[1;32m   1470\u001b[0m         prefer_skip_nested_validation \u001b[38;5;129;01mor\u001b[39;00m global_skip_validation\n\u001b[1;32m   1471\u001b[0m     )\n\u001b[1;32m   1472\u001b[0m ):\n\u001b[0;32m-> 1473\u001b[0m     \u001b[38;5;28;01mreturn\u001b[39;00m fit_method(estimator, \u001b[38;5;241m*\u001b[39margs, \u001b[38;5;241m*\u001b[39m\u001b[38;5;241m*\u001b[39mkwargs)\n",
      "File \u001b[0;32m/opt/anaconda3/envs/DataScience/lib/python3.12/site-packages/sklearn/decomposition/_truncated_svd.py:242\u001b[0m, in \u001b[0;36mTruncatedSVD.fit_transform\u001b[0;34m(self, X, y)\u001b[0m\n\u001b[1;32m    240\u001b[0m \u001b[38;5;28;01melif\u001b[39;00m \u001b[38;5;28mself\u001b[39m\u001b[38;5;241m.\u001b[39malgorithm \u001b[38;5;241m==\u001b[39m \u001b[38;5;124m\"\u001b[39m\u001b[38;5;124mrandomized\u001b[39m\u001b[38;5;124m\"\u001b[39m:\n\u001b[1;32m    241\u001b[0m     \u001b[38;5;28;01mif\u001b[39;00m \u001b[38;5;28mself\u001b[39m\u001b[38;5;241m.\u001b[39mn_components \u001b[38;5;241m>\u001b[39m X\u001b[38;5;241m.\u001b[39mshape[\u001b[38;5;241m1\u001b[39m]:\n\u001b[0;32m--> 242\u001b[0m         \u001b[38;5;28;01mraise\u001b[39;00m \u001b[38;5;167;01mValueError\u001b[39;00m(\n\u001b[1;32m    243\u001b[0m             \u001b[38;5;124mf\u001b[39m\u001b[38;5;124m\"\u001b[39m\u001b[38;5;124mn_components(\u001b[39m\u001b[38;5;132;01m{\u001b[39;00m\u001b[38;5;28mself\u001b[39m\u001b[38;5;241m.\u001b[39mn_components\u001b[38;5;132;01m}\u001b[39;00m\u001b[38;5;124m) must be <=\u001b[39m\u001b[38;5;124m\"\u001b[39m\n\u001b[1;32m    244\u001b[0m             \u001b[38;5;124mf\u001b[39m\u001b[38;5;124m\"\u001b[39m\u001b[38;5;124m n_features(\u001b[39m\u001b[38;5;132;01m{\u001b[39;00mX\u001b[38;5;241m.\u001b[39mshape[\u001b[38;5;241m1\u001b[39m]\u001b[38;5;132;01m}\u001b[39;00m\u001b[38;5;124m).\u001b[39m\u001b[38;5;124m\"\u001b[39m\n\u001b[1;32m    245\u001b[0m         )\n\u001b[1;32m    246\u001b[0m     U, Sigma, VT \u001b[38;5;241m=\u001b[39m randomized_svd(\n\u001b[1;32m    247\u001b[0m         X,\n\u001b[1;32m    248\u001b[0m         \u001b[38;5;28mself\u001b[39m\u001b[38;5;241m.\u001b[39mn_components,\n\u001b[0;32m   (...)\u001b[0m\n\u001b[1;32m    253\u001b[0m         flip_sign\u001b[38;5;241m=\u001b[39m\u001b[38;5;28;01mFalse\u001b[39;00m,\n\u001b[1;32m    254\u001b[0m     )\n\u001b[1;32m    255\u001b[0m     U, VT \u001b[38;5;241m=\u001b[39m svd_flip(U, VT, u_based_decision\u001b[38;5;241m=\u001b[39m\u001b[38;5;28;01mFalse\u001b[39;00m)\n",
      "\u001b[0;31mValueError\u001b[0m: n_components(15) must be <= n_features(8)."
     ]
    }
   ],
   "source": [
    "# Apply SVD for matrix factorization\n",
    "svd = TruncatedSVD(n_components=15, random_state=42)\n",
    "latent_features = svd.fit_transform(interaction_matrix)\n",
    "\n",
    "# Reconstruct the matrix using latent features\n",
    "predicted_matrix = np.dot(latent_features, svd.components_)\n",
    "predicted_df = pd.DataFrame(\n",
    "    predicted_matrix, index=interaction_matrix.index, columns=interaction_matrix.columns\n",
    ")\n",
    "\n",
    "# Normalize the predicted scores for easier interpretation\n",
    "scaler = MinMaxScaler()\n",
    "predicted_df_normalized = pd.DataFrame(\n",
    "    scaler.fit_transform(predicted_df), \n",
    "    index=predicted_df.index, \n",
    "    columns=predicted_df.columns\n",
    ")\n"
   ]
  },
  {
   "cell_type": "code",
   "execution_count": 202,
   "id": "dad2e998",
   "metadata": {},
   "outputs": [
    {
     "data": {
      "text/html": [
       "<div>\n",
       "<style scoped>\n",
       "    .dataframe tbody tr th:only-of-type {\n",
       "        vertical-align: middle;\n",
       "    }\n",
       "\n",
       "    .dataframe tbody tr th {\n",
       "        vertical-align: top;\n",
       "    }\n",
       "\n",
       "    .dataframe thead th {\n",
       "        text-align: right;\n",
       "    }\n",
       "</style>\n",
       "<table border=\"1\" class=\"dataframe\">\n",
       "  <thead>\n",
       "    <tr style=\"text-align: right;\">\n",
       "      <th></th>\n",
       "      <th>team</th>\n",
       "      <th>blocks</th>\n",
       "    </tr>\n",
       "  </thead>\n",
       "  <tbody>\n",
       "    <tr>\n",
       "      <th>6</th>\n",
       "      <td>UnitedWeCode</td>\n",
       "      <td>0.706393</td>\n",
       "    </tr>\n",
       "    <tr>\n",
       "      <th>7</th>\n",
       "      <td>VBADragons</td>\n",
       "      <td>0.648162</td>\n",
       "    </tr>\n",
       "    <tr>\n",
       "      <th>1</th>\n",
       "      <td>HtmlERS</td>\n",
       "      <td>0.648018</td>\n",
       "    </tr>\n",
       "  </tbody>\n",
       "</table>\n",
       "</div>"
      ],
      "text/plain": [
       "           team    blocks\n",
       "6  UnitedWeCode  0.706393\n",
       "7    VBADragons  0.648162\n",
       "1       HtmlERS  0.648018"
      ]
     },
     "execution_count": 202,
     "metadata": {},
     "output_type": "execute_result"
    }
   ],
   "source": [
    "top3_blocker_teams = df.groupby('team')['blocks'].mean()\\\n",
    "                     .reset_index()\\\n",
    "                     .sort_values('blocks',ascending=False).head(3)\n",
    "top3_blocker_teams"
   ]
  },
  {
   "cell_type": "code",
   "execution_count": 184,
   "id": "9f418712",
   "metadata": {},
   "outputs": [],
   "source": [
    "players_swapped = df.groupby('player_id')['team']\\\n",
    "    .nunique()\\\n",
    "    .reset_index()\\\n",
    "    .rename(columns={'team': 'unique_teams'})\n",
    "players_swapped = players_swapped[players_swapped['unique_teams']>1]\\\n",
    "                                                 ['player_id'].tolist()\n"
   ]
  },
  {
   "cell_type": "code",
   "execution_count": 187,
   "id": "d3195110",
   "metadata": {},
   "outputs": [
    {
     "data": {
      "text/html": [
       "<div>\n",
       "<style scoped>\n",
       "    .dataframe tbody tr th:only-of-type {\n",
       "        vertical-align: middle;\n",
       "    }\n",
       "\n",
       "    .dataframe tbody tr th {\n",
       "        vertical-align: top;\n",
       "    }\n",
       "\n",
       "    .dataframe thead th {\n",
       "        text-align: right;\n",
       "    }\n",
       "</style>\n",
       "<table border=\"1\" class=\"dataframe\">\n",
       "  <thead>\n",
       "    <tr style=\"text-align: right;\">\n",
       "      <th></th>\n",
       "      <th>games_played</th>\n",
       "      <th>minutes</th>\n",
       "      <th>points</th>\n",
       "      <th>rebounds</th>\n",
       "      <th>assists</th>\n",
       "      <th>steals</th>\n",
       "      <th>blocks</th>\n",
       "      <th>fg_pct</th>\n",
       "      <th>fg3_pct</th>\n",
       "      <th>ft_pct</th>\n",
       "    </tr>\n",
       "  </thead>\n",
       "  <tbody>\n",
       "    <tr>\n",
       "      <th>count</th>\n",
       "      <td>200.000000</td>\n",
       "      <td>200.000000</td>\n",
       "      <td>191.000000</td>\n",
       "      <td>192.000000</td>\n",
       "      <td>188.000000</td>\n",
       "      <td>186.000000</td>\n",
       "      <td>196.000000</td>\n",
       "      <td>188.000000</td>\n",
       "      <td>191.000000</td>\n",
       "      <td>183.000000</td>\n",
       "    </tr>\n",
       "    <tr>\n",
       "      <th>mean</th>\n",
       "      <td>50.530000</td>\n",
       "      <td>25.962500</td>\n",
       "      <td>11.654450</td>\n",
       "      <td>4.581250</td>\n",
       "      <td>2.973936</td>\n",
       "      <td>0.991935</td>\n",
       "      <td>0.610204</td>\n",
       "      <td>0.445622</td>\n",
       "      <td>0.333236</td>\n",
       "      <td>0.753995</td>\n",
       "    </tr>\n",
       "    <tr>\n",
       "      <th>std</th>\n",
       "      <td>18.437702</td>\n",
       "      <td>7.438967</td>\n",
       "      <td>6.038401</td>\n",
       "      <td>1.837384</td>\n",
       "      <td>1.646455</td>\n",
       "      <td>0.512007</td>\n",
       "      <td>0.364443</td>\n",
       "      <td>0.051456</td>\n",
       "      <td>0.039093</td>\n",
       "      <td>0.067611</td>\n",
       "    </tr>\n",
       "    <tr>\n",
       "      <th>min</th>\n",
       "      <td>20.000000</td>\n",
       "      <td>12.200000</td>\n",
       "      <td>2.000000</td>\n",
       "      <td>1.100000</td>\n",
       "      <td>0.600000</td>\n",
       "      <td>0.000000</td>\n",
       "      <td>0.000000</td>\n",
       "      <td>0.351000</td>\n",
       "      <td>0.251000</td>\n",
       "      <td>0.603000</td>\n",
       "    </tr>\n",
       "    <tr>\n",
       "      <th>25%</th>\n",
       "      <td>34.750000</td>\n",
       "      <td>19.675000</td>\n",
       "      <td>7.450000</td>\n",
       "      <td>3.275000</td>\n",
       "      <td>1.700000</td>\n",
       "      <td>0.600000</td>\n",
       "      <td>0.400000</td>\n",
       "      <td>0.413000</td>\n",
       "      <td>0.308000</td>\n",
       "      <td>0.708500</td>\n",
       "    </tr>\n",
       "    <tr>\n",
       "      <th>50%</th>\n",
       "      <td>49.000000</td>\n",
       "      <td>26.150000</td>\n",
       "      <td>10.800000</td>\n",
       "      <td>4.250000</td>\n",
       "      <td>2.700000</td>\n",
       "      <td>0.900000</td>\n",
       "      <td>0.500000</td>\n",
       "      <td>0.442500</td>\n",
       "      <td>0.331000</td>\n",
       "      <td>0.751000</td>\n",
       "    </tr>\n",
       "    <tr>\n",
       "      <th>75%</th>\n",
       "      <td>68.000000</td>\n",
       "      <td>32.525000</td>\n",
       "      <td>14.550000</td>\n",
       "      <td>6.125000</td>\n",
       "      <td>3.925000</td>\n",
       "      <td>1.300000</td>\n",
       "      <td>0.800000</td>\n",
       "      <td>0.474000</td>\n",
       "      <td>0.354500</td>\n",
       "      <td>0.799500</td>\n",
       "    </tr>\n",
       "    <tr>\n",
       "      <th>max</th>\n",
       "      <td>80.000000</td>\n",
       "      <td>38.000000</td>\n",
       "      <td>34.200000</td>\n",
       "      <td>11.000000</td>\n",
       "      <td>11.100000</td>\n",
       "      <td>2.700000</td>\n",
       "      <td>2.800000</td>\n",
       "      <td>0.646000</td>\n",
       "      <td>0.442000</td>\n",
       "      <td>0.946000</td>\n",
       "    </tr>\n",
       "  </tbody>\n",
       "</table>\n",
       "</div>"
      ],
      "text/plain": [
       "       games_played     minutes      points    rebounds     assists  \\\n",
       "count    200.000000  200.000000  191.000000  192.000000  188.000000   \n",
       "mean      50.530000   25.962500   11.654450    4.581250    2.973936   \n",
       "std       18.437702    7.438967    6.038401    1.837384    1.646455   \n",
       "min       20.000000   12.200000    2.000000    1.100000    0.600000   \n",
       "25%       34.750000   19.675000    7.450000    3.275000    1.700000   \n",
       "50%       49.000000   26.150000   10.800000    4.250000    2.700000   \n",
       "75%       68.000000   32.525000   14.550000    6.125000    3.925000   \n",
       "max       80.000000   38.000000   34.200000   11.000000   11.100000   \n",
       "\n",
       "           steals      blocks      fg_pct     fg3_pct      ft_pct  \n",
       "count  186.000000  196.000000  188.000000  191.000000  183.000000  \n",
       "mean     0.991935    0.610204    0.445622    0.333236    0.753995  \n",
       "std      0.512007    0.364443    0.051456    0.039093    0.067611  \n",
       "min      0.000000    0.000000    0.351000    0.251000    0.603000  \n",
       "25%      0.600000    0.400000    0.413000    0.308000    0.708500  \n",
       "50%      0.900000    0.500000    0.442500    0.331000    0.751000  \n",
       "75%      1.300000    0.800000    0.474000    0.354500    0.799500  \n",
       "max      2.700000    2.800000    0.646000    0.442000    0.946000  "
      ]
     },
     "execution_count": 187,
     "metadata": {},
     "output_type": "execute_result"
    }
   ],
   "source": [
    "df[df['player_id'].isin(players_swapped)].iloc[:,5:].describe()"
   ]
  },
  {
   "cell_type": "code",
   "execution_count": null,
   "id": "427dd543",
   "metadata": {},
   "outputs": [],
   "source": [
    "# Apply SVD for matrix factorization\n",
    "svd = TruncatedSVD(n_components=15, random_state=42)\n",
    "latent_features = svd.fit_transform(interaction_matrix)\n",
    "\n",
    "# Reconstruct the matrix using latent features\n",
    "predicted_matrix = np.dot(latent_features, svd.components_)\n",
    "predicted_df = pd.DataFrame(\n",
    "    predicted_matrix, index=interaction_matrix.index, columns=interaction_matrix.columns\n",
    ")\n",
    "\n",
    "# Normalize the predicted scores for easier interpretation\n",
    "scaler = MinMaxScaler()\n",
    "predicted_df_normalized = pd.DataFrame(\n",
    "    scaler.fit_transform(predicted_df), \n",
    "    index=predicted_df.index, \n",
    "    columns=predicted_df.columns\n",
    ")\n"
   ]
  },
  {
   "cell_type": "code",
   "execution_count": 178,
   "id": "fd725493",
   "metadata": {},
   "outputs": [
    {
     "data": {
      "text/plain": [
       "25             BIsupremE\n",
       "415     KeyBoardWarriors\n",
       "805     KeyBoardWarriors\n",
       "1195    KeyBoardWarriors\n",
       "1585           BIsupremE\n",
       "Name: team, dtype: object"
      ]
     },
     "execution_count": 178,
     "metadata": {},
     "output_type": "execute_result"
    }
   ],
   "source": [
    "df[df['player_id']==25]['team']"
   ]
  },
  {
   "cell_type": "code",
   "execution_count": 56,
   "id": "5f2d5745",
   "metadata": {},
   "outputs": [
    {
     "data": {
      "image/png": "[encoded data removed]",
      "text/plain": [
       "<Figure size 1000x800 with 2 Axes>"
      ]
     },
     "metadata": {},
     "output_type": "display_data"
    }
   ],
   "source": [
    "# Create subplots: one stacked on top of the other\n",
    "fig, axes = plt.subplots(2, 1, figsize=(10, 8), sharex=True)\n",
    "\n",
    "# Top histogram\n",
    "axes[0].hist(df['games_played'], bins=50, color='blue', alpha=0.7)\n",
    "axes[0].set_title('Distribution of Games Played')\n",
    "axes[0].set_ylabel('Count')\n",
    "\n",
    "# Bottom histogram (optional customization to show some variation)\n",
    "axes[1].hist(df['minutes'], bins=50, color='orange', alpha=0.7)\n",
    "axes[1].set_title('Distribution of Minutes Played')\n",
    "#axes[1].set_xlabel('Number of Minutes Played')\n",
    "axes[1].set_ylabel('Count')\n",
    "\n",
    "# Adjust layout\n",
    "plt.tight_layout()\n",
    "plt.show()\n"
   ]
  },
  {
   "cell_type": "code",
   "execution_count": 5,
   "id": "3012b920",
   "metadata": {},
   "outputs": [],
   "source": [
    "# Add a 'traded' feature: Check if a player changed teams\n",
    "df['traded'] = df.groupby('player_id')['team'].transform('nunique') > 1"
   ]
  },
  {
   "cell_type": "code",
   "execution_count": 6,
   "id": "3f873b02",
   "metadata": {},
   "outputs": [
    {
     "name": "stdout",
     "output_type": "stream",
     "text": [
      "Top 5 Available Players:\n",
      "         player_name  composite_score  traded\n",
      "1440  Richard Morris         0.626077   False\n",
      "1317  Kristen Murphy         0.612403   False\n",
      "429       James Mack         0.607516   False\n",
      "1110    Theresa Cook         0.596710   False\n",
      "1021     Todd Garcia         0.595573    True\n",
      "\n",
      "New Top 5 Available Players:\n",
      "         player_name  composite_score  traded\n",
      "1317  Kristen Murphy         0.612403   False\n",
      "429       James Mack         0.607516   False\n",
      "1110    Theresa Cook         0.596710   False\n",
      "1021     Todd Garcia         0.595573    True\n",
      "1064      Diana Cain         0.594753   False\n"
     ]
    }
   ],
   "source": [
    "from FantasyRecommenderClass import FantasyRecommender\n",
    "\n",
    "# Example usage:\n",
    "recommender = FantasyRecommender()\n",
    "stats_df = df  # Your stats DataFrame\n",
    "\n",
    "# Create initial rankings\n",
    "rankings = recommender.create_rank_based_recommendations(stats_df)\n",
    "\n",
    "# Get top 5 available players\n",
    "print(\"Top 5 Available Players:\")\n",
    "recommendations = recommender.get_recommendations(rankings)\n",
    "print(recommendations[['player_name', 'composite_score', 'traded']])\n",
    "\n",
    "# Select a player\n",
    "player_id = recommendations.iloc[0]['player_id']\n",
    "recommender.select_player(player_id)\n",
    "\n",
    "# Get new recommendations (will exclude selected player)\n",
    "print(\"\\nNew Top 5 Available Players:\")\n",
    "new_recommendations = recommender.get_recommendations(rankings)\n",
    "print(new_recommendations[['player_name', 'composite_score', 'traded']])"
   ]
  },
  {
   "cell_type": "markdown",
   "id": "36404db4",
   "metadata": {},
   "source": []
  }
 ],
 "metadata": {
  "kernelspec": {
   "display_name": "Python 3 (ipykernel)",
   "language": "python",
   "name": "python3"
  },
  "language_info": {
   "codemirror_mode": {
    "name": "ipython",
    "version": 3
   },
   "file_extension": ".py",
   "mimetype": "text/x-python",
   "name": "python",
   "nbconvert_exporter": "python",
   "pygments_lexer": "ipython3",
   "version": "3.10.13"
  }
 },
 "nbformat": 4,
 "nbformat_minor": 5
}
